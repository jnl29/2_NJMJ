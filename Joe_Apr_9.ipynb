{
 "cells": [
  {
   "cell_type": "markdown",
   "metadata": {},
   "source": [
    "# NEED TO ADD\n",
    "# Add introduction to project, and what models we used; examples heart diesease (github link) & cancer (module 4) "
   ]
  },
  {
   "cell_type": "code",
   "execution_count": 1,
   "metadata": {},
   "outputs": [],
   "source": [
    "import pandas as pd\n",
    "import numpy as np\n",
    "from sklearn.model_selection import train_test_split\n",
    "from sklearn.tree import DecisionTreeClassifier\n",
    "from sklearn.linear_model import LogisticRegression\n",
    "from sklearn import datasets, linear_model\n",
    "from sklearn import model_selection, metrics, preprocessing\n",
    "from sklearn.decomposition import PCA\n",
    "from sklearn import tree\n",
    "from sklearn.metrics import mean_squared_error, r2_score\n",
    "import matplotlib.pyplot as plt\n",
    "from sklearn.externals.six import StringIO\n",
    "#import pydotplus //maybe need it later\n",
    "from IPython.display import Image\n",
    "from scipy import stats\n",
    "import seaborn as sns\n",
    "from scipy import stats\n",
    "from sklearn.linear_model import Lasso\n"
   ]
  },
  {
   "cell_type": "markdown",
   "metadata": {},
   "source": [
    "# NEED TO ADD\n",
    "# replace description below with file description from cance module 4 "
   ]
  },
  {
   "cell_type": "code",
   "execution_count": 2,
   "metadata": {},
   "outputs": [
    {
     "ename": "SyntaxError",
     "evalue": "EOL while scanning string literal (<ipython-input-2-e459dbc14e75>, line 86)",
     "output_type": "error",
     "traceback": [
      "\u001b[1;36m  File \u001b[1;32m\"<ipython-input-2-e459dbc14e75>\"\u001b[1;36m, line \u001b[1;32m86\u001b[0m\n\u001b[1;33m    ''''\u001b[0m\n\u001b[1;37m        \n^\u001b[0m\n\u001b[1;31mSyntaxError\u001b[0m\u001b[1;31m:\u001b[0m EOL while scanning string literal\n"
     ]
    }
   ],
   "source": [
    "''''\n",
    "Data fields\n",
    "Here's a brief version of what you'll find in the data description file.\n",
    "\n",
    "SalePrice - the property's sale price in dollars. This is the target variable that you're trying to predict.\n",
    "MSSubClass: The building class\n",
    "MSZoning: The general zoning classification\n",
    "LotFrontage: Linear feet of street connected to property\n",
    "LotArea: Lot size in square feet\n",
    "Street: Type of road access\n",
    "Alley: Type of alley access\n",
    "LotShape: General shape of property\n",
    "LandContour: Flatness of the property\n",
    "Utilities: Type of utilities available\n",
    "LotConfig: Lot configuration\n",
    "LandSlope: Slope of property\n",
    "Neighborhood: Physical locations within Ames city limits\n",
    "Condition1: Proximity to main road or railroad\n",
    "Condition2: Proximity to main road or railroad (if a second is present)\n",
    "BldgType: Type of dwelling\n",
    "HouseStyle: Style of dwelling\n",
    "OverallQual: Overall material and finish quality\n",
    "OverallCond: Overall condition rating\n",
    "YearBuilt: Original construction date\n",
    "YearRemodAdd: Remodel date\n",
    "RoofStyle: Type of roof\n",
    "RoofMatl: Roof material\n",
    "Exterior1st: Exterior covering on house\n",
    "Exterior2nd: Exterior covering on house (if more than one material)\n",
    "MasVnrType: Masonry veneer type\n",
    "MasVnrArea: Masonry veneer area in square feet\n",
    "ExterQual: Exterior material quality\n",
    "ExterCond: Present condition of the material on the exterior\n",
    "Foundation: Type of foundation\n",
    "BsmtQual: Height of the basement\n",
    "BsmtCond: General condition of the basement\n",
    "BsmtExposure: Walkout or garden level basement walls\n",
    "BsmtFinType1: Quality of basement finished area\n",
    "BsmtFinSF1: Type 1 finished square feet\n",
    "BsmtFinType2: Quality of second finished area (if present)\n",
    "BsmtFinSF2: Type 2 finished square feet\n",
    "BsmtUnfSF: Unfinished square feet of basement area\n",
    "TotalBsmtSF: Total square feet of basement area\n",
    "Heating: Type of heating\n",
    "HeatingQC: Heating quality and condition\n",
    "CentralAir: Central air conditioning\n",
    "Electrical: Electrical system\n",
    "1stFlrSF: First Floor square feet\n",
    "2ndFlrSF: Second floor square feet\n",
    "LowQualFinSF: Low quality finished square feet (all floors)\n",
    "GrLivArea: Above grade (ground) living area square feet\n",
    "BsmtFullBath: Basement full bathrooms\n",
    "BsmtHalfBath: Basement half bathrooms\n",
    "FullBath: Full bathrooms above grade\n",
    "HalfBath: Half baths above grade\n",
    "Bedroom: Number of bedrooms above basement level\n",
    "Kitchen: Number of kitchens\n",
    "KitchenQual: Kitchen quality\n",
    "TotRmsAbvGrd: Total rooms above grade (does not include bathrooms)\n",
    "Functional: Home functionality rating\n",
    "Fireplaces: Number of fireplaces\n",
    "FireplaceQu: Fireplace quality\n",
    "GarageType: Garage location\n",
    "GarageYrBlt: Year garage was built\n",
    "GarageFinish: Interior finish of the garage\n",
    "GarageCars: Size of garage in car capacity\n",
    "GarageArea: Size of garage in square feet\n",
    "GarageQual: Garage quality\n",
    "GarageCond: Garage condition\n",
    "PavedDrive: Paved driveway\n",
    "WoodDeckSF: Wood deck area in square feet\n",
    "OpenPorchSF: Open porch area in square feet\n",
    "EnclosedPorch: Enclosed porch area in square feet\n",
    "3SsnPorch: Three season porch area in square feet\n",
    "ScreenPorch: Screen porch area in square feet\n",
    "PoolArea: Pool area in square feet\n",
    "PoolQC: Pool quality\n",
    "Fence: Fence quality\n",
    "MiscFeature: Miscellaneous feature not covered in other categories\n",
    "MiscVal: $Value of miscellaneous feature\n",
    "MoSold: Month Sold\n",
    "YrSold: Year Sold\n",
    "SaleType: Type of sale\n",
    "SaleCondition: Condition of sale\n",
    "    \n",
    "''''"
   ]
  },
  {
   "cell_type": "markdown",
   "metadata": {},
   "source": [
    "# Need to change\n",
    "# udpate wording and add description\n",
    "# Deleted the attributes with null values > 2000 & if any row has a blank cell"
   ]
  },
  {
   "cell_type": "code",
   "execution_count": 4,
   "metadata": {},
   "outputs": [
    {
     "name": "stdout",
     "output_type": "stream",
     "text": [
      "   Id  MSSubClass MSZoning  LotFrontage  LotArea Street LotShape LandContour  \\\n",
      "1   2          20       RL         80.0     9600   Pave      Reg         Lvl   \n",
      "2   3          60       RL         68.0    11250   Pave      IR1         Lvl   \n",
      "3   4          70       RL         60.0     9550   Pave      IR1         Lvl   \n",
      "4   5          60       RL         84.0    14260   Pave      IR1         Lvl   \n",
      "6   7          20       RL         75.0    10084   Pave      Reg         Lvl   \n",
      "\n",
      "  Utilities LotConfig    ...     EnclosedPorch 3SsnPorch ScreenPorch PoolArea  \\\n",
      "1    AllPub       FR2    ...                 0         0           0        0   \n",
      "2    AllPub    Inside    ...                 0         0           0        0   \n",
      "3    AllPub    Corner    ...               272         0           0        0   \n",
      "4    AllPub       FR2    ...                 0         0           0        0   \n",
      "6    AllPub    Inside    ...                 0         0           0        0   \n",
      "\n",
      "  MiscVal MoSold  Soldfrom  SaleType  SaleCondition  SalePrice  \n",
      "1       0      5        12        WD         Normal   181500.0  \n",
      "2       0      9        11        WD         Normal   223500.0  \n",
      "3       0      2        13        WD        Abnorml   140000.0  \n",
      "4       0     12        11        WD         Normal   250000.0  \n",
      "6       0      8        12        WD         Normal   307000.0  \n",
      "\n",
      "[5 rows x 77 columns]\n"
     ]
    }
   ],
   "source": [
    "raw_df = pd.read_csv(r'C:\\Users\\jperri\\AppData\\Local\\Temp\\Temp1_2_NJMJ-master.zip\\2_NJMJ-master\\Group\\housingdata.csv')\n",
    "raw_df.drop(columns=['Alley','PoolQC','Fence','MiscFeature'],axis=1,inplace=True)\n",
    "raw_df.dropna(inplace=True)\n",
    "\n",
    "print(raw_df.head())"
   ]
  },
  {
   "cell_type": "markdown",
   "metadata": {},
   "source": [
    "# table below shows the data after removing null values \n",
    "# add more description "
   ]
  },
  {
   "cell_type": "code",
   "execution_count": 5,
   "metadata": {},
   "outputs": [
    {
     "name": "stdout",
     "output_type": "stream",
     "text": [
      "Id               0\n",
      "MSSubClass       0\n",
      "MSZoning         0\n",
      "LotFrontage      0\n",
      "LotArea          0\n",
      "Street           0\n",
      "LotShape         0\n",
      "LandContour      0\n",
      "Utilities        0\n",
      "LotConfig        0\n",
      "LandSlope        0\n",
      "Neighborhood     0\n",
      "Condition1       0\n",
      "Condition2       0\n",
      "BldgType         0\n",
      "HouseStyle       0\n",
      "OverallQual      0\n",
      "OverallCond      0\n",
      "YearBuilt        0\n",
      "YearRemodAdd     0\n",
      "RoofStyle        0\n",
      "RoofMatl         0\n",
      "Exterior1st      0\n",
      "Exterior2nd      0\n",
      "MasVnrType       0\n",
      "MasVnrArea       0\n",
      "ExterQual        0\n",
      "ExterCond        0\n",
      "Foundation       0\n",
      "BsmtQual         0\n",
      "                ..\n",
      "BsmtHalfBath     0\n",
      "FullBath         0\n",
      "HalfBath         0\n",
      "BedroomAbvGr     0\n",
      "KitchenAbvGr     0\n",
      "KitchenQual      0\n",
      "TotRmsAbvGrd     0\n",
      "Functional       0\n",
      "Fireplaces       0\n",
      "FireplaceQu      0\n",
      "GarageType       0\n",
      "GarageYrBlt      0\n",
      "GarageFinish     0\n",
      "GarageCars       0\n",
      "GarageArea       0\n",
      "GarageQual       0\n",
      "GarageCond       0\n",
      "PavedDrive       0\n",
      "WoodDeckSF       0\n",
      "OpenPorchSF      0\n",
      "EnclosedPorch    0\n",
      "3SsnPorch        0\n",
      "ScreenPorch      0\n",
      "PoolArea         0\n",
      "MiscVal          0\n",
      "MoSold           0\n",
      "Soldfrom         0\n",
      "SaleType         0\n",
      "SaleCondition    0\n",
      "SalePrice        0\n",
      "Length: 77, dtype: int64\n"
     ]
    }
   ],
   "source": [
    "print(raw_df.isnull().sum(axis=0))\n"
   ]
  },
  {
   "cell_type": "markdown",
   "metadata": {},
   "source": [
    "# descriptive statisitics 1; data is not clean; still using original data (still have text values)\n",
    "# add 4 - 5 charts that would give meaning to the project and brief description"
   ]
  },
  {
   "cell_type": "code",
   "execution_count": 6,
   "metadata": {},
   "outputs": [],
   "source": [
    "def col_count_plot(col):\n",
    "    data = raw_df[col]\n",
    "    names = data.value_counts().index\n",
    "    values = data.value_counts().values\n",
    "    pos = range(len(values))\n",
    "    plt.bar(pos, values)\n",
    "    plt.xticks(pos, names)\n",
    "    plt.ylabel('Count')\n",
    "    plt.title(col)\n",
    "    plt.show()"
   ]
  },
  {
   "cell_type": "code",
   "execution_count": 7,
   "metadata": {},
   "outputs": [
    {
     "data": {
      "image/png": "[encoded data removed]",
      "text/plain": [
       "<Figure size 432x288 with 1 Axes>"
      ]
     },
     "metadata": {
      "needs_background": "light"
     },
     "output_type": "display_data"
    },
    {
     "data": {
      "image/png": "[encoded data removed]",
      "text/plain": [
       "<Figure size 432x288 with 1 Axes>"
      ]
     },
     "metadata": {
      "needs_background": "light"
     },
     "output_type": "display_data"
    },
    {
     "data": {
      "image/png": "[encoded data removed]",
      "text/plain": [
       "<Figure size 432x288 with 1 Axes>"
      ]
     },
     "metadata": {
      "needs_background": "light"
     },
     "output_type": "display_data"
    }
   ],
   "source": [
    "#bar charts\n",
    "col_count_plot('RoofStyle') \n",
    "col_count_plot('Street') \n",
    "\n",
    "#histogram chart\n",
    "raw_df.iloc[:,76].hist(grid=True, bins=20, rwidth=0.9,color='#607c8e')\n",
    "plt.title('Sales Price Histogram')\n",
    "plt.xlabel('Counts')\n",
    "plt.ylabel('Sales Price')\n",
    "plt.grid(axis='y', alpha=0.75)"
   ]
  },
  {
   "cell_type": "markdown",
   "metadata": {},
   "source": [
    "Scatter Plot shows the correlation between the year where the house was built and the price. \n",
    "It shows that the data set has more data points for houses built in the last 50 years. \n"
   ]
  },
  {
   "cell_type": "code",
   "execution_count": 8,
   "metadata": {},
   "outputs": [
    {
     "data": {
      "text/plain": [
       "Text(0, 0.5, 'Sale Price')"
      ]
     },
     "execution_count": 8,
     "metadata": {},
     "output_type": "execute_result"
    },
    {
     "data": {
      "image/png": "[encoded data removed]",
      "text/plain": [
       "<Figure size 432x288 with 1 Axes>"
      ]
     },
     "metadata": {
      "needs_background": "light"
     },
     "output_type": "display_data"
    }
   ],
   "source": [
    "plt.scatter(raw_df['YearBuilt'],raw_df['SalePrice'])\n",
    "plt.title('Scatter plot Years Built Vs. Sale Price')\n",
    "plt.xlabel('Years Built')\n",
    "plt.ylabel('Sale Price')"
   ]
  },
  {
   "cell_type": "markdown",
   "metadata": {},
   "source": [
    "# Coding Categorical Data\n",
    "# Marc Edit"
   ]
  },
  {
   "cell_type": "code",
   "execution_count": 9,
   "metadata": {},
   "outputs": [
    {
     "data": {
      "text/plain": [
       "''"
      ]
     },
     "execution_count": 9,
     "metadata": {},
     "output_type": "execute_result"
    }
   ],
   "source": [
    "#print(raw_df.dtypes) \n",
    "#shows all types of each attribute\n",
    "\n",
    "raw_df['MSZoning'] = raw_df['MSZoning'].astype('category')\n",
    "raw_df['Street'] = raw_df['Street'].astype('category')\n",
    "raw_df['LotShape'] = raw_df['LotShape'].astype('category')\n",
    "raw_df['LandContour'] = raw_df['LandContour'].astype('category')\n",
    "raw_df['Utilities'] = raw_df['Utilities'].astype('category')\n",
    "raw_df['LotConfig'] = raw_df['LotConfig'].astype('category')\n",
    "raw_df['LandSlope'] = raw_df['LandSlope'].astype('category')\n",
    "raw_df['Neighborhood'] = raw_df['Neighborhood'].astype('category')\n",
    "raw_df['Condition1'] = raw_df['Condition1'].astype('category')\n",
    "raw_df['Condition2'] = raw_df['Condition2'].astype('category')\n",
    "raw_df['BldgType'] = raw_df['BldgType'].astype('category')\n",
    "raw_df['HouseStyle'] = raw_df['HouseStyle'].astype('category')\n",
    "raw_df['RoofStyle'] = raw_df['RoofStyle'].astype('category')\n",
    "raw_df['RoofMatl'] = raw_df['RoofMatl'].astype('category')\n",
    "raw_df['Exterior1st'] = raw_df['Exterior1st'].astype('category')\n",
    "raw_df['Exterior2nd'] = raw_df['Exterior2nd'].astype('category')\n",
    "raw_df['MasVnrType'] = raw_df['MasVnrType'].astype('category')\n",
    "raw_df['ExterQual'] = raw_df['ExterQual'].astype('category')\n",
    "raw_df['ExterCond'] = raw_df['ExterCond'].astype('category')\n",
    "raw_df['Foundation'] = raw_df['Foundation'].astype('category')\n",
    "raw_df['BsmtQual'] = raw_df['BsmtQual'].astype('category')\n",
    "raw_df['BsmtCond'] = raw_df['BsmtCond'].astype('category')\n",
    "raw_df['BsmtExposure'] = raw_df['BsmtExposure'].astype('category')\n",
    "raw_df['BsmtFinType1'] = raw_df['BsmtFinType1'].astype('category')\n",
    "raw_df['BsmtFinType2'] = raw_df['BsmtFinType2'].astype('category')\n",
    "raw_df['Heating'] = raw_df['Heating'].astype('category')\n",
    "raw_df['HeatingQC'] = raw_df['HeatingQC'].astype('category')\n",
    "raw_df['CentralAir'] = raw_df['CentralAir'].astype('category')\n",
    "raw_df['Electrical'] = raw_df['Electrical'].astype('category')\n",
    "raw_df['KitchenQual'] = raw_df['KitchenQual'].astype('category')\n",
    "raw_df['Functional'] = raw_df['Functional'].astype('category')\n",
    "raw_df['FireplaceQu'] = raw_df['FireplaceQu'].astype('category')\n",
    "raw_df['GarageType'] = raw_df['GarageType'].astype('category')\n",
    "raw_df['GarageFinish'] = raw_df['GarageFinish'].astype('category')\n",
    "raw_df['GarageQual'] = raw_df['GarageQual'].astype('category')\n",
    "raw_df['GarageCond'] = raw_df['GarageCond'].astype('category')\n",
    "raw_df['PavedDrive'] = raw_df['PavedDrive'].astype('category')\n",
    "raw_df['SaleType'] = raw_df['SaleType'].astype('category')\n",
    "raw_df['SaleCondition'] = raw_df['SaleCondition'].astype('category')\n",
    "#change 'street' to new attribute name\n",
    "\n",
    "raw_df['MSZoning_Cat'] = raw_df['MSZoning'].cat.codes\n",
    "raw_df['Street_Cat'] = raw_df['Street'].cat.codes\n",
    "raw_df['LotShape_Cat'] = raw_df['LotShape'].cat.codes\n",
    "raw_df['LandContour_Cat'] = raw_df['LandContour'].cat.codes\n",
    "raw_df['Utilities_Cat'] = raw_df['Utilities'].cat.codes\n",
    "raw_df['LotConfig_Cat'] = raw_df['LotConfig'].cat.codes\n",
    "raw_df['LandSlope_Cat'] = raw_df['LandSlope'].cat.codes\n",
    "raw_df['Neighborhood_Cat'] = raw_df['Neighborhood'].cat.codes\n",
    "raw_df['Condition1_Cat'] = raw_df['Condition1'].cat.codes\n",
    "raw_df['Condition2_Cat'] = raw_df['Condition2'].cat.codes\n",
    "raw_df['BldgType_Cat'] = raw_df['BldgType'].cat.codes\n",
    "raw_df['HouseStyle_Cat'] = raw_df['HouseStyle'].cat.codes\n",
    "raw_df['RoofStyle_Cat'] = raw_df['RoofStyle'].cat.codes\n",
    "raw_df['RoofMatl_Cat'] = raw_df['RoofMatl'].cat.codes\n",
    "raw_df['Exterior1st_Cat'] = raw_df['Exterior1st'].cat.codes\n",
    "raw_df['Exterior2nd_Cat'] = raw_df['Exterior2nd'].cat.codes\n",
    "raw_df['MasVnrType_Cat'] = raw_df['MasVnrType'].cat.codes\n",
    "raw_df['ExterQual_Cat'] = raw_df['ExterQual'].cat.codes\n",
    "raw_df['ExterCond_Cat'] = raw_df['ExterCond'].cat.codes\n",
    "raw_df['Foundation_Cat'] = raw_df['Foundation'].cat.codes\n",
    "raw_df['BsmtQual_Cat'] = raw_df['BsmtQual'].cat.codes\n",
    "raw_df['BsmtCond_Cat'] = raw_df['BsmtCond'].cat.codes\n",
    "raw_df['BsmtExposure_Cat'] = raw_df['BsmtExposure'].cat.codes\n",
    "raw_df['BsmtFinType1_Cat'] = raw_df['BsmtFinType1'].cat.codes\n",
    "raw_df['BsmtFinType2_Cat'] = raw_df['BsmtFinType2'].cat.codes\n",
    "raw_df['Heating_Cat'] = raw_df['Heating'].cat.codes\n",
    "raw_df['HeatingQC_Cat'] = raw_df['HeatingQC'].cat.codes\n",
    "raw_df['CentralAir_Cat'] = raw_df['CentralAir'].cat.codes\n",
    "raw_df['Electrical_Cat'] = raw_df['Electrical'].cat.codes\n",
    "raw_df['KitchenQual_Cat'] = raw_df['KitchenQual'].cat.codes\n",
    "raw_df['Functional_Cat'] = raw_df['Functional'].cat.codes\n",
    "raw_df['FireplaceQu_Cat'] = raw_df['FireplaceQu'].cat.codes\n",
    "raw_df['GarageType_Cat'] = raw_df['GarageType'].cat.codes\n",
    "raw_df['GarageFinish_Cat'] = raw_df['GarageFinish'].cat.codes\n",
    "raw_df['GarageQual_Cat'] = raw_df['GarageQual'].cat.codes\n",
    "raw_df['GarageCond_Cat'] = raw_df['GarageCond'].cat.codes\n",
    "raw_df['PavedDrive_Cat'] = raw_df['PavedDrive'].cat.codes\n",
    "raw_df['SaleType_Cat'] = raw_df['SaleType'].cat.codes\n",
    "raw_df['SaleCondition_Cat'] = raw_df['SaleCondition'].cat.codes\n",
    "#keep same naming attribute_cat \n",
    "#change 'street' to new attribtue name\n",
    "\n",
    "#print(raw_df)\n",
    "#show that new column was added -> 39 new columns added (77 originally; 116 total)\n",
    "          \n",
    "''"
   ]
  },
  {
   "cell_type": "code",
   "execution_count": 10,
   "metadata": {},
   "outputs": [],
   "source": [
    "raw_df.drop(columns=['MSZoning'],inplace=True)\n",
    "raw_df.drop(columns=['Street'],inplace=True)\n",
    "raw_df.drop(columns=['LotShape'],inplace=True)\n",
    "raw_df.drop(columns=['LandContour'],inplace=True)\n",
    "raw_df.drop(columns=['Utilities'],inplace=True)\n",
    "raw_df.drop(columns=['LotConfig'],inplace=True)\n",
    "raw_df.drop(columns=['LandSlope'],inplace=True)\n",
    "raw_df.drop(columns=['Neighborhood'],inplace=True)\n",
    "raw_df.drop(columns=['Condition1'],inplace=True)\n",
    "raw_df.drop(columns=['Condition2'],inplace=True)\n",
    "raw_df.drop(columns=['BldgType'],inplace=True)\n",
    "raw_df.drop(columns=['HouseStyle'],inplace=True)\n",
    "raw_df.drop(columns=['RoofStyle'],inplace=True)\n",
    "raw_df.drop(columns=['RoofMatl'],inplace=True)\n",
    "raw_df.drop(columns=['Exterior1st'],inplace=True)\n",
    "raw_df.drop(columns=['Exterior2nd'],inplace=True)\n",
    "raw_df.drop(columns=['MasVnrType'],inplace=True)\n",
    "raw_df.drop(columns=['ExterQual'],inplace=True)\n",
    "raw_df.drop(columns=['ExterCond'],inplace=True)\n",
    "raw_df.drop(columns=['Foundation'],inplace=True)\n",
    "raw_df.drop(columns=['BsmtQual'],inplace=True)\n",
    "raw_df.drop(columns=['BsmtCond'],inplace=True)\n",
    "raw_df.drop(columns=['BsmtExposure'],inplace=True)\n",
    "raw_df.drop(columns=['BsmtFinType1'],inplace=True)\n",
    "raw_df.drop(columns=['BsmtFinType2'],inplace=True)\n",
    "raw_df.drop(columns=['Heating'],inplace=True)\n",
    "raw_df.drop(columns=['HeatingQC'],inplace=True)\n",
    "raw_df.drop(columns=['CentralAir'],inplace=True)\n",
    "raw_df.drop(columns=['Electrical'],inplace=True)\n",
    "raw_df.drop(columns=['KitchenQual'],inplace=True)\n",
    "raw_df.drop(columns=['Functional'],inplace=True)\n",
    "raw_df.drop(columns=['FireplaceQu'],inplace=True)\n",
    "raw_df.drop(columns=['GarageType'],inplace=True)\n",
    "raw_df.drop(columns=['GarageFinish'],inplace=True)\n",
    "raw_df.drop(columns=['GarageQual'],inplace=True)\n",
    "raw_df.drop(columns=['GarageCond'],inplace=True)\n",
    "raw_df.drop(columns=['PavedDrive'],inplace=True)\n",
    "raw_df.drop(columns=['SaleType'],inplace=True)\n",
    "raw_df.drop(columns=['SaleCondition'],inplace=True)\n",
    "#drop old columns\n"
   ]
  },
  {
   "cell_type": "markdown",
   "metadata": {},
   "source": [
    "The output below shows the dataset after replacing the categorical data with numerical values. "
   ]
  },
  {
   "cell_type": "code",
   "execution_count": 11,
   "metadata": {},
   "outputs": [
    {
     "name": "stdout",
     "output_type": "stream",
     "text": [
      "   Id  MSSubClass  LotFrontage  LotArea  OverallQual  OverallCond  YearBuilt  \\\n",
      "1   2          20         80.0     9600            6            8       1976   \n",
      "2   3          60         68.0    11250            7            5       2001   \n",
      "3   4          70         60.0     9550            7            5       1915   \n",
      "4   5          60         84.0    14260            8            5       2000   \n",
      "6   7          20         75.0    10084            8            5       2004   \n",
      "\n",
      "   YearRemodAdd  MasVnrArea  BsmtFinSF1        ...          KitchenQual_Cat  \\\n",
      "1          1976         0.0       978.0        ...                        3   \n",
      "2          2002       162.0       486.0        ...                        2   \n",
      "3          1970         0.0       216.0        ...                        2   \n",
      "4          2000       350.0       655.0        ...                        2   \n",
      "6          2005       186.0      1369.0        ...                        2   \n",
      "\n",
      "   Functional_Cat  FireplaceQu_Cat  GarageType_Cat  GarageFinish_Cat  \\\n",
      "1               5                4               1                 1   \n",
      "2               5                4               1                 1   \n",
      "3               5                2               5                 2   \n",
      "4               5                4               1                 1   \n",
      "6               5                2               1                 1   \n",
      "\n",
      "   GarageQual_Cat  GarageCond_Cat  PavedDrive_Cat  SaleType_Cat  \\\n",
      "1               3               4               2             7   \n",
      "2               3               4               2             7   \n",
      "3               3               4               2             7   \n",
      "4               3               4               2             7   \n",
      "6               3               4               2             7   \n",
      "\n",
      "   SaleCondition_Cat  \n",
      "1                  3  \n",
      "2                  3  \n",
      "3                  0  \n",
      "4                  3  \n",
      "6                  3  \n",
      "\n",
      "[5 rows x 77 columns]\n"
     ]
    }
   ],
   "source": [
    "print (raw_df.head())"
   ]
  },
  {
   "cell_type": "markdown",
   "metadata": {},
   "source": [
    "# Dividing the Data set into Testing and Training:\n",
    "\n",
    "In the section below, we divided the dataset into 4 groups: X train: that contain all the features except the target variable. ytrain: that contains the target variable (Price of Hourses) that will be used for training. X_test: that contains all the features for 25% of the records. That will be used for testing the model. y_test: contains the target variable values for 25% of the data set that will be used to evaluate to evaluate the accuracy, precision , and recall of the model.\n",
    "\n",
    "For this task, \"Model Selection\" from SKlearn was used.\n"
   ]
  },
  {
   "cell_type": "code",
   "execution_count": 12,
   "metadata": {},
   "outputs": [
    {
     "name": "stdout",
     "output_type": "stream",
     "text": [
      "858 287 858 287\n"
     ]
    },
    {
     "name": "stderr",
     "output_type": "stream",
     "text": [
      "C:\\Users\\jperri\\AppData\\Local\\Continuum\\anaconda3\\lib\\site-packages\\sklearn\\utils\\validation.py:595: DataConversionWarning: Data with input dtype object was converted to float64 by MinMaxScaler.\n",
      "  warnings.warn(msg, DataConversionWarning)\n"
     ]
    }
   ],
   "source": [
    "x=raw_df.loc[:, raw_df.columns != 'SalePrice']\n",
    "y= np.array(raw_df['SalePrice'])\n",
    "#print x.values, y\n",
    "\n",
    "X_train, X_test, y_train, y_test = model_selection.train_test_split(x.values, y, test_size=0.25, random_state=1145)\n",
    "print(len(X_train), len(X_test), len(y_train), len(y_test))\n",
    "\n",
    "scaler = preprocessing.MinMaxScaler()\n",
    "scaler.fit_transform(X_train)\n",
    "X_train = scaler.transform(X_train)\n",
    "X_test = scaler.transform(X_test)"
   ]
  },
  {
   "cell_type": "markdown",
   "metadata": {},
   "source": [
    "The data below shows the data set after replacing categorical "
   ]
  },
  {
   "cell_type": "markdown",
   "metadata": {},
   "source": [
    "# Normalizing Data"
   ]
  },
  {
   "cell_type": "markdown",
   "metadata": {},
   "source": [
    "As shown in the previous section, the range of values across different field are widely spread. Accoringly, we decided to normalize the data to avoid that problem."
   ]
  },
  {
   "cell_type": "code",
   "execution_count": 13,
   "metadata": {},
   "outputs": [],
   "source": [
    "# scaler = preprocessing.MinMaxScaler()\n",
    "# scaler.fit_transform(X_train)\n",
    "# X_train = scaler.transform(X_train)\n",
    "# X_test = scaler.transform(X_test)\n",
    "\n",
    "# print(\"Sample of X_test after normalizing\")\n",
    "# print(X_test)"
   ]
  },
  {
   "cell_type": "code",
   "execution_count": 20,
   "metadata": {},
   "outputs": [],
   "source": [
    "import numpy as np # linear algebra\n",
    "import pandas as pd # data processing, CSV file I/O (e.g. pd.read_csv)\n",
    "from scipy.cluster.hierarchy import dendrogram, linkage\n",
    "from scipy.spatial.distance import cdist\n",
    "from matplotlib import pyplot as plt\n",
    "from scipy.spatial import distance\n",
    "import math\n",
    "%matplotlib inline\n",
    "np.set_printoptions(precision=5, suppress=True)  # suppress scientific float notation\n",
    "# Input data files are available in the \"../input/\" directory.\n",
    "# For example, running this (by clicking run or pressing Shift+Enter) will list the files in the input directory\n",
    "\n",
    "raw_df = pd.read_csv(r'C:\\Users\\jperri\\AppData\\Local\\Temp\\Temp1_2_NJMJ-master.zip\\2_NJMJ-master\\Group\\housingdata.csv')"
   ]
  },
  {
   "cell_type": "code",
   "execution_count": 21,
   "metadata": {},
   "outputs": [],
   "source": [
    "c1 = pd.read_csv(r\"C:\\Users\\jperri\\AppData\\Local\\Temp\\Temp1_2_NJMJ-master.zip\\2_NJMJ-master\\Group\\housingdata.csv\", names=['x0', 'x1'])"
   ]
  },
  {
   "cell_type": "code",
   "execution_count": 22,
   "metadata": {},
   "outputs": [
    {
     "data": {
      "text/plain": [
       "<matplotlib.collections.PathCollection at 0x20b8431e978>"
      ]
     },
     "execution_count": 22,
     "metadata": {},
     "output_type": "execute_result"
    },
    {
     "data": {
      "image/png": "[encoded data removed]",
      "text/plain": [
       "<Figure size 432x288 with 1 Axes>"
      ]
     },
     "metadata": {
      "needs_background": "light"
     },
     "output_type": "display_data"
    }
   ],
   "source": [
    "plt.scatter(c1['x0'],c1['x1'])"
   ]
  },
  {
   "cell_type": "code",
   "execution_count": 23,
   "metadata": {},
   "outputs": [],
   "source": [
    "def complete_distance(clusters ,cluster_num):\n",
    "    print('first cluster | ','second cluster | ', 'distance')\n",
    "    while len(clusters) is not cluster_num:\n",
    "        # Clustering           (\n",
    "        closest_distance=clust_1=clust_2 = math.inf\n",
    "        # for every cluster (until second last element)\n",
    "        for cluster_id, cluster in enumerate(clusters[:len(clusters)]): \n",
    "            for cluster2_id, cluster2 in enumerate(clusters[(cluster_id+1):]):  \n",
    "                furthest_cluster_dist = -1\n",
    "# this is different from the complete link in that we try to minimize the MAX distance\n",
    "# between CLUSTERS\n",
    "                # go through every point in this prospective cluster as well\n",
    "                # for each point in each cluster\n",
    "                for point_id,point in enumerate(cluster): \n",
    "                    for point2_id, point2 in enumerate(cluster2):\n",
    "# make sure that our furthest distance holds the maximum distance betweeen the clusters at focus\n",
    "                        if furthest_cluster_dist < distance.euclidean(point,point2): \n",
    "                            furthest_cluster_dist = distance.euclidean(point,point2)\n",
    "# We are now trying to minimize THAT furthest dist\n",
    "                if furthest_cluster_dist < closest_distance:\n",
    "                    closest_distance = furthest_cluster_dist\n",
    "                    clust_1 = cluster_id\n",
    "                    clust_2 = cluster2_id+cluster_id+1\n",
    "               # extend just appends the contents to the list without flattening it out\n",
    "        print(clust_1,' | ',clust_2, ' | ',closest_distance)\n",
    "        clusters[clust_1].extend(clusters[clust_2]) \n",
    "        # don't need this index anymore, and we have just clustered once more\n",
    "        clusters.pop(clust_2) \n",
    "    return(clusters)"
   ]
  },
  {
   "cell_type": "code",
   "execution_count": 24,
   "metadata": {},
   "outputs": [],
   "source": [
    "### Hierarchical clustering\n",
    "def hierarchical(data, cluster_num, metric = 'complete'):\n",
    "    # initialization of clusters at first (every point is a cluster)\n",
    "    init_clusters=[]\n",
    "    for index, row in data.iterrows():\n",
    "        init_clusters.append([[row['x0'], row['x1']]])\n",
    "    if metric is 'complete':\n",
    "        return complete_distance(init_clusters, cluster_num)"
   ]
  },
  {
   "cell_type": "code",
   "execution_count": null,
   "metadata": {},
   "outputs": [],
   "source": []
  }
 ],
 "metadata": {
  "kernelspec": {
   "display_name": "Python 3",
   "language": "python",
   "name": "python3"
  },
  "language_info": {
   "codemirror_mode": {
    "name": "ipython",
    "version": 3
   },
   "file_extension": ".py",
   "mimetype": "text/x-python",
   "name": "python",
   "nbconvert_exporter": "python",
   "pygments_lexer": "ipython3",
   "version": "3.7.1"
  }
 },
 "nbformat": 4,
 "nbformat_minor": 2
}
