{
 "cells": [
  {
   "cell_type": "markdown",
   "metadata": {},
   "source": [
    "# NEED TO ADD\n",
    "# Add introduction to project, and what models we used; examples heart diesease (github link) & cancer (module 4) "
   ]
  },
  {
   "cell_type": "code",
   "execution_count": 27,
   "metadata": {},
   "outputs": [],
   "source": [
    "import pandas as pd\n",
    "import numpy as np\n",
    "from sklearn.linear_model import LogisticRegression\n",
    "from sklearn import model_selection, metrics, preprocessing\n",
    "from sklearn.decomposition import PCA\n",
    "from sklearn import tree\n",
    "\n",
    "import matplotlib.pyplot as plt\n",
    "from sklearn.externals.six import StringIO\n",
    "#import pydotplus //maybe need it later\n",
    "from IPython.display import Image"
   ]
  },
  {
   "cell_type": "markdown",
   "metadata": {},
   "source": [
    "# NEED TO ADD\n",
    "# replace description below with file description from cance module 4 "
   ]
  },
  {
   "cell_type": "code",
   "execution_count": 28,
   "metadata": {},
   "outputs": [
    {
     "ename": "SyntaxError",
     "evalue": "EOL while scanning string literal (<ipython-input-28-42dfaabf7449>, line 85)",
     "output_type": "error",
     "traceback": [
      "\u001b[0;36m  File \u001b[0;32m\"<ipython-input-28-42dfaabf7449>\"\u001b[0;36m, line \u001b[0;32m85\u001b[0m\n\u001b[0;31m    ''''\u001b[0m\n\u001b[0m        \n^\u001b[0m\n\u001b[0;31mSyntaxError\u001b[0m\u001b[0;31m:\u001b[0m EOL while scanning string literal\n"
     ]
    }
   ],
   "source": [
    "''''\n",
    "Data fields\n",
    "Here's a brief version of what you'll find in the data description file.\n",
    "\n",
    "SalePrice - the property's sale price in dollars. This is the target variable that you're trying to predict.\n",
    "MSSubClass: The building class\n",
    "MSZoning: The general zoning classification\n",
    "LotFrontage: Linear feet of street connected to property\n",
    "LotArea: Lot size in square feet\n",
    "Street: Type of road access\n",
    "Alley: Type of alley access\n",
    "LotShape: General shape of property\n",
    "LandContour: Flatness of the property\n",
    "Utilities: Type of utilities available\n",
    "LotConfig: Lot configuration\n",
    "LandSlope: Slope of property\n",
    "Neighborhood: Physical locations within Ames city limits\n",
    "Condition1: Proximity to main road or railroad\n",
    "Condition2: Proximity to main road or railroad (if a second is present)\n",
    "BldgType: Type of dwelling\n",
    "HouseStyle: Style of dwelling\n",
    "OverallQual: Overall material and finish quality\n",
    "OverallCond: Overall condition rating\n",
    "YearBuilt: Original construction date\n",
    "YearRemodAdd: Remodel date\n",
    "RoofStyle: Type of roof\n",
    "RoofMatl: Roof material\n",
    "Exterior1st: Exterior covering on house\n",
    "Exterior2nd: Exterior covering on house (if more than one material)\n",
    "MasVnrType: Masonry veneer type\n",
    "MasVnrArea: Masonry veneer area in square feet\n",
    "ExterQual: Exterior material quality\n",
    "ExterCond: Present condition of the material on the exterior\n",
    "Foundation: Type of foundation\n",
    "BsmtQual: Height of the basement\n",
    "BsmtCond: General condition of the basement\n",
    "BsmtExposure: Walkout or garden level basement walls\n",
    "BsmtFinType1: Quality of basement finished area\n",
    "BsmtFinSF1: Type 1 finished square feet\n",
    "BsmtFinType2: Quality of second finished area (if present)\n",
    "BsmtFinSF2: Type 2 finished square feet\n",
    "BsmtUnfSF: Unfinished square feet of basement area\n",
    "TotalBsmtSF: Total square feet of basement area\n",
    "Heating: Type of heating\n",
    "HeatingQC: Heating quality and condition\n",
    "CentralAir: Central air conditioning\n",
    "Electrical: Electrical system\n",
    "1stFlrSF: First Floor square feet\n",
    "2ndFlrSF: Second floor square feet\n",
    "LowQualFinSF: Low quality finished square feet (all floors)\n",
    "GrLivArea: Above grade (ground) living area square feet\n",
    "BsmtFullBath: Basement full bathrooms\n",
    "BsmtHalfBath: Basement half bathrooms\n",
    "FullBath: Full bathrooms above grade\n",
    "HalfBath: Half baths above grade\n",
    "Bedroom: Number of bedrooms above basement level\n",
    "Kitchen: Number of kitchens\n",
    "KitchenQual: Kitchen quality\n",
    "TotRmsAbvGrd: Total rooms above grade (does not include bathrooms)\n",
    "Functional: Home functionality rating\n",
    "Fireplaces: Number of fireplaces\n",
    "FireplaceQu: Fireplace quality\n",
    "GarageType: Garage location\n",
    "GarageYrBlt: Year garage was built\n",
    "GarageFinish: Interior finish of the garage\n",
    "GarageCars: Size of garage in car capacity\n",
    "GarageArea: Size of garage in square feet\n",
    "GarageQual: Garage quality\n",
    "GarageCond: Garage condition\n",
    "PavedDrive: Paved driveway\n",
    "WoodDeckSF: Wood deck area in square feet\n",
    "OpenPorchSF: Open porch area in square feet\n",
    "EnclosedPorch: Enclosed porch area in square feet\n",
    "3SsnPorch: Three season porch area in square feet\n",
    "ScreenPorch: Screen porch area in square feet\n",
    "PoolArea: Pool area in square feet\n",
    "PoolQC: Pool quality\n",
    "Fence: Fence quality\n",
    "MiscFeature: Miscellaneous feature not covered in other categories\n",
    "MiscVal: $Value of miscellaneous feature\n",
    "MoSold: Month Sold\n",
    "YrSold: Year Sold\n",
    "SaleType: Type of sale\n",
    "SaleCondition: Condition of sale\n",
    "''''"
   ]
  },
  {
   "cell_type": "markdown",
   "metadata": {},
   "source": [
    "# Need to change\n",
    "# udpate wording and add description\n",
    "# Deleted the attributes with null values > 2000 & if any row has a blank cell"
   ]
  },
  {
   "cell_type": "code",
   "execution_count": 29,
   "metadata": {},
   "outputs": [
    {
     "name": "stdout",
     "output_type": "stream",
     "text": [
      "   Id  MSSubClass MSZoning  LotFrontage  LotArea Street LotShape LandContour  \\\n",
      "1   2          20       RL         80.0     9600   Pave      Reg         Lvl   \n",
      "2   3          60       RL         68.0    11250   Pave      IR1         Lvl   \n",
      "3   4          70       RL         60.0     9550   Pave      IR1         Lvl   \n",
      "4   5          60       RL         84.0    14260   Pave      IR1         Lvl   \n",
      "6   7          20       RL         75.0    10084   Pave      Reg         Lvl   \n",
      "\n",
      "  Utilities LotConfig    ...     EnclosedPorch 3SsnPorch ScreenPorch PoolArea  \\\n",
      "1    AllPub       FR2    ...                 0         0           0        0   \n",
      "2    AllPub    Inside    ...                 0         0           0        0   \n",
      "3    AllPub    Corner    ...               272         0           0        0   \n",
      "4    AllPub       FR2    ...                 0         0           0        0   \n",
      "6    AllPub    Inside    ...                 0         0           0        0   \n",
      "\n",
      "  MiscVal MoSold  Soldfrom  SaleType  SaleCondition  SalePrice  \n",
      "1       0      5        12        WD         Normal   181500.0  \n",
      "2       0      9        11        WD         Normal   223500.0  \n",
      "3       0      2        13        WD        Abnorml   140000.0  \n",
      "4       0     12        11        WD         Normal   250000.0  \n",
      "6       0      8        12        WD         Normal   307000.0  \n",
      "\n",
      "[5 rows x 77 columns]\n"
     ]
    }
   ],
   "source": [
    "raw_df = pd.read_csv('/Applications/2_NJMJ-master/Group/housingdata.csv')\n",
    "raw_df.drop(columns=['Alley','PoolQC','Fence','MiscFeature'],axis=1,inplace=True)\n",
    "raw_df.dropna(inplace=True)\n",
    "\n",
    "print(raw_df.head())"
   ]
  },
  {
   "cell_type": "markdown",
   "metadata": {},
   "source": [
    "# table below shows the data after removing null values \n",
    "# add more description "
   ]
  },
  {
   "cell_type": "raw",
   "metadata": {
    "scrolled": true
   },
   "source": [
    "print(raw_df.isnull().sum(axis=0))\n"
   ]
  },
  {
   "cell_type": "markdown",
   "metadata": {},
   "source": [
    "# descriptive statisitics 1; data is not clean; still using original data (still have text values)\n",
    "# add 4 - 5 charts that would give meaning to the project and brief description"
   ]
  },
  {
   "cell_type": "code",
   "execution_count": 30,
   "metadata": {},
   "outputs": [],
   "source": [
    "def col_count_plot(col):\n",
    "    data = raw_df[col]\n",
    "    names = data.value_counts().index\n",
    "    values = data.value_counts().values\n",
    "    pos = range(len(values))\n",
    "    plt.bar(pos, values)\n",
    "    plt.xticks(pos, names)\n",
    "    plt.ylabel('Count')\n",
    "    plt.title(col)\n",
    "    plt.show()"
   ]
  },
  {
   "cell_type": "code",
   "execution_count": 31,
   "metadata": {},
   "outputs": [
    {
     "data": {
      "image/png": "[encoded data removed]",
      "text/plain": [
       "<Figure size 432x288 with 1 Axes>"
      ]
     },
     "metadata": {
      "needs_background": "light"
     },
     "output_type": "display_data"
    },
    {
     "data": {
      "image/png": "[encoded data removed]",
      "text/plain": [
       "<Figure size 432x288 with 1 Axes>"
      ]
     },
     "metadata": {
      "needs_background": "light"
     },
     "output_type": "display_data"
    },
    {
     "data": {
      "image/png": "[encoded data removed]",
      "text/plain": [
       "<Figure size 432x288 with 1 Axes>"
      ]
     },
     "metadata": {
      "needs_background": "light"
     },
     "output_type": "display_data"
    }
   ],
   "source": [
    "#bar charts\n",
    "col_count_plot('RoofStyle') \n",
    "col_count_plot('Street') \n",
    "\n",
    "#histogram chart\n",
    "raw_df.iloc[:,76].hist(grid=True, bins=20, rwidth=0.9,color='#607c8e')\n",
    "plt.title('Sales Price Histogram')\n",
    "plt.xlabel('Counts')\n",
    "plt.ylabel('Sales Price')\n",
    "plt.grid(axis='y', alpha=0.75)"
   ]
  },
  {
   "cell_type": "markdown",
   "metadata": {},
   "source": [
    "# Coding Categorical Data\n",
    "# Marc Edit"
   ]
  },
  {
   "cell_type": "code",
   "execution_count": 32,
   "metadata": {},
   "outputs": [
    {
     "data": {
      "text/plain": [
       "''"
      ]
     },
     "execution_count": 32,
     "metadata": {},
     "output_type": "execute_result"
    }
   ],
   "source": [
    "#print(raw_df.dtypes) \n",
    "#shows all types of each attribute\n",
    "\n",
    "raw_df['MSZoning'] = raw_df['MSZoning'].astype('category')\n",
    "raw_df['Street'] = raw_df['Street'].astype('category')\n",
    "raw_df['LotShape'] = raw_df['LotShape'].astype('category')\n",
    "raw_df['LandContour'] = raw_df['LandContour'].astype('category')\n",
    "raw_df['Utilities'] = raw_df['Utilities'].astype('category')\n",
    "raw_df['LotConfig'] = raw_df['LotConfig'].astype('category')\n",
    "raw_df['LandSlope'] = raw_df['LandSlope'].astype('category')\n",
    "raw_df['Neighborhood'] = raw_df['Neighborhood'].astype('category')\n",
    "raw_df['Condition1'] = raw_df['Condition1'].astype('category')\n",
    "raw_df['Condition2'] = raw_df['Condition2'].astype('category')\n",
    "raw_df['BldgType'] = raw_df['BldgType'].astype('category')\n",
    "raw_df['HouseStyle'] = raw_df['HouseStyle'].astype('category')\n",
    "raw_df['RoofStyle'] = raw_df['RoofStyle'].astype('category')\n",
    "raw_df['RoofMatl'] = raw_df['RoofMatl'].astype('category')\n",
    "raw_df['Exterior1st'] = raw_df['Exterior1st'].astype('category')\n",
    "raw_df['Exterior2nd'] = raw_df['Exterior2nd'].astype('category')\n",
    "raw_df['MasVnrType'] = raw_df['MasVnrType'].astype('category')\n",
    "raw_df['ExterQual'] = raw_df['ExterQual'].astype('category')\n",
    "raw_df['ExterCond'] = raw_df['ExterCond'].astype('category')\n",
    "raw_df['Foundation'] = raw_df['Foundation'].astype('category')\n",
    "raw_df['BsmtQual'] = raw_df['BsmtQual'].astype('category')\n",
    "raw_df['BsmtCond'] = raw_df['BsmtCond'].astype('category')\n",
    "raw_df['BsmtExposure'] = raw_df['BsmtExposure'].astype('category')\n",
    "raw_df['BsmtFinType1'] = raw_df['BsmtFinType1'].astype('category')\n",
    "raw_df['BsmtFinType2'] = raw_df['BsmtFinType2'].astype('category')\n",
    "raw_df['Heating'] = raw_df['Heating'].astype('category')\n",
    "raw_df['HeatingQC'] = raw_df['HeatingQC'].astype('category')\n",
    "raw_df['CentralAir'] = raw_df['CentralAir'].astype('category')\n",
    "raw_df['Electrical'] = raw_df['Electrical'].astype('category')\n",
    "raw_df['KitchenQual'] = raw_df['KitchenQual'].astype('category')\n",
    "raw_df['Functional'] = raw_df['Functional'].astype('category')\n",
    "raw_df['FireplaceQu'] = raw_df['FireplaceQu'].astype('category')\n",
    "raw_df['GarageType'] = raw_df['GarageType'].astype('category')\n",
    "raw_df['GarageFinish'] = raw_df['GarageFinish'].astype('category')\n",
    "raw_df['GarageQual'] = raw_df['GarageQual'].astype('category')\n",
    "raw_df['GarageCond'] = raw_df['GarageCond'].astype('category')\n",
    "raw_df['PavedDrive'] = raw_df['PavedDrive'].astype('category')\n",
    "raw_df['SaleType'] = raw_df['SaleType'].astype('category')\n",
    "raw_df['SaleCondition'] = raw_df['SaleCondition'].astype('category')\n",
    "#change 'street' to new attribute name\n",
    "\n",
    "raw_df['MSZoning_Cat'] = raw_df['MSZoning'].cat.codes\n",
    "raw_df['Street_Cat'] = raw_df['Street'].cat.codes\n",
    "raw_df['LotShape_Cat'] = raw_df['LotShape'].cat.codes\n",
    "raw_df['LandContour_Cat'] = raw_df['LandContour'].cat.codes\n",
    "raw_df['Utilities_Cat'] = raw_df['Utilities'].cat.codes\n",
    "raw_df['LotConfig_Cat'] = raw_df['LotConfig'].cat.codes\n",
    "raw_df['LandSlope_Cat'] = raw_df['LandSlope'].cat.codes\n",
    "raw_df['Neighborhood_Cat'] = raw_df['Neighborhood'].cat.codes\n",
    "raw_df['Condition1_Cat'] = raw_df['Condition1'].cat.codes\n",
    "raw_df['Condition2_Cat'] = raw_df['Condition2'].cat.codes\n",
    "raw_df['BldgType_Cat'] = raw_df['BldgType'].cat.codes\n",
    "raw_df['HouseStyle_Cat'] = raw_df['HouseStyle'].cat.codes\n",
    "raw_df['RoofStyle_Cat'] = raw_df['RoofStyle'].cat.codes\n",
    "raw_df['RoofMatl_Cat'] = raw_df['RoofMatl'].cat.codes\n",
    "raw_df['Exterior1st_Cat'] = raw_df['Exterior1st'].cat.codes\n",
    "raw_df['Exterior2nd_Cat'] = raw_df['Exterior2nd'].cat.codes\n",
    "raw_df['MasVnrType_Cat'] = raw_df['MasVnrType'].cat.codes\n",
    "raw_df['ExterQual_Cat'] = raw_df['ExterQual'].cat.codes\n",
    "raw_df['ExterCond_Cat'] = raw_df['ExterCond'].cat.codes\n",
    "raw_df['Foundation_Cat'] = raw_df['Foundation'].cat.codes\n",
    "raw_df['BsmtQual_Cat'] = raw_df['BsmtQual'].cat.codes\n",
    "raw_df['BsmtCond_Cat'] = raw_df['BsmtCond'].cat.codes\n",
    "raw_df['BsmtExposure_Cat'] = raw_df['BsmtExposure'].cat.codes\n",
    "raw_df['BsmtFinType1_Cat'] = raw_df['BsmtFinType1'].cat.codes\n",
    "raw_df['BsmtFinType2_Cat'] = raw_df['BsmtFinType2'].cat.codes\n",
    "raw_df['Heating_Cat'] = raw_df['Heating'].cat.codes\n",
    "raw_df['HeatingQC_Cat'] = raw_df['HeatingQC'].cat.codes\n",
    "raw_df['CentralAir_Cat'] = raw_df['CentralAir'].cat.codes\n",
    "raw_df['Electrical_Cat'] = raw_df['Electrical'].cat.codes\n",
    "raw_df['KitchenQual_Cat'] = raw_df['KitchenQual'].cat.codes\n",
    "raw_df['Functional_Cat'] = raw_df['Functional'].cat.codes\n",
    "raw_df['FireplaceQu_Cat'] = raw_df['FireplaceQu'].cat.codes\n",
    "raw_df['GarageType_Cat'] = raw_df['GarageType'].cat.codes\n",
    "raw_df['GarageFinish_Cat'] = raw_df['GarageFinish'].cat.codes\n",
    "raw_df['GarageQual_Cat'] = raw_df['GarageQual'].cat.codes\n",
    "raw_df['GarageCond_Cat'] = raw_df['GarageCond'].cat.codes\n",
    "raw_df['PavedDrive_Cat'] = raw_df['PavedDrive'].cat.codes\n",
    "raw_df['SaleType_Cat'] = raw_df['SaleType'].cat.codes\n",
    "raw_df['SaleCondition_Cat'] = raw_df['SaleCondition'].cat.codes\n",
    "#keep same naming attribute_cat \n",
    "#change 'street' to new attribtue name\n",
    "\n",
    "#print(raw_df)\n",
    "#show that new column was added -> 39 new columns added (77 originally; 116 total)\n",
    "          \n",
    "''"
   ]
  },
  {
   "cell_type": "code",
   "execution_count": 33,
   "metadata": {},
   "outputs": [],
   "source": [
    "raw_df.drop(columns=['MSZoning'],inplace=True)\n",
    "raw_df.drop(columns=['Street'],inplace=True)\n",
    "raw_df.drop(columns=['LotShape'],inplace=True)\n",
    "raw_df.drop(columns=['LandContour'],inplace=True)\n",
    "raw_df.drop(columns=['Utilities'],inplace=True)\n",
    "raw_df.drop(columns=['LotConfig'],inplace=True)\n",
    "raw_df.drop(columns=['LandSlope'],inplace=True)\n",
    "raw_df.drop(columns=['Neighborhood'],inplace=True)\n",
    "raw_df.drop(columns=['Condition1'],inplace=True)\n",
    "raw_df.drop(columns=['Condition2'],inplace=True)\n",
    "raw_df.drop(columns=['BldgType'],inplace=True)\n",
    "raw_df.drop(columns=['HouseStyle'],inplace=True)\n",
    "raw_df.drop(columns=['RoofStyle'],inplace=True)\n",
    "raw_df.drop(columns=['RoofMatl'],inplace=True)\n",
    "raw_df.drop(columns=['Exterior1st'],inplace=True)\n",
    "raw_df.drop(columns=['Exterior2nd'],inplace=True)\n",
    "raw_df.drop(columns=['MasVnrType'],inplace=True)\n",
    "raw_df.drop(columns=['ExterQual'],inplace=True)\n",
    "raw_df.drop(columns=['ExterCond'],inplace=True)\n",
    "raw_df.drop(columns=['Foundation'],inplace=True)\n",
    "raw_df.drop(columns=['BsmtQual'],inplace=True)\n",
    "raw_df.drop(columns=['BsmtCond'],inplace=True)\n",
    "raw_df.drop(columns=['BsmtExposure'],inplace=True)\n",
    "raw_df.drop(columns=['BsmtFinType1'],inplace=True)\n",
    "raw_df.drop(columns=['BsmtFinType2'],inplace=True)\n",
    "raw_df.drop(columns=['Heating'],inplace=True)\n",
    "raw_df.drop(columns=['HeatingQC'],inplace=True)\n",
    "raw_df.drop(columns=['CentralAir'],inplace=True)\n",
    "raw_df.drop(columns=['Electrical'],inplace=True)\n",
    "raw_df.drop(columns=['KitchenQual'],inplace=True)\n",
    "raw_df.drop(columns=['Functional'],inplace=True)\n",
    "raw_df.drop(columns=['FireplaceQu'],inplace=True)\n",
    "raw_df.drop(columns=['GarageType'],inplace=True)\n",
    "raw_df.drop(columns=['GarageFinish'],inplace=True)\n",
    "raw_df.drop(columns=['GarageQual'],inplace=True)\n",
    "raw_df.drop(columns=['GarageCond'],inplace=True)\n",
    "raw_df.drop(columns=['PavedDrive'],inplace=True)\n",
    "raw_df.drop(columns=['SaleType'],inplace=True)\n",
    "raw_df.drop(columns=['SaleCondition'],inplace=True)\n",
    "#drop old columns\n"
   ]
  },
  {
   "cell_type": "markdown",
   "metadata": {},
   "source": [
    "# Dividing the Data set into Testing and Training:\n",
    "# nesreen\n",
    "##### 20% testing, and 80% training\n"
   ]
  },
  {
   "cell_type": "code",
   "execution_count": 34,
   "metadata": {},
   "outputs": [
    {
     "name": "stdout",
     "output_type": "stream",
     "text": [
      "858 287 858 287\n",
      "Index(['Id', 'MSSubClass', 'LotFrontage', 'LotArea', 'OverallQual',\n",
      "       'OverallCond', 'YearBuilt', 'YearRemodAdd', 'MasVnrArea', 'BsmtFinSF1',\n",
      "       'BsmtFinSF2', 'BsmtUnfSF', 'TotalBsmtSF', '1stFlrSF', '2ndFlrSF',\n",
      "       'LowQualFinSF', 'GrLivArea', 'BsmtFullBath', 'BsmtHalfBath', 'FullBath',\n",
      "       'HalfBath', 'BedroomAbvGr', 'KitchenAbvGr', 'TotRmsAbvGrd',\n",
      "       'Fireplaces', 'GarageYrBlt', 'GarageCars', 'GarageArea', 'WoodDeckSF',\n",
      "       'OpenPorchSF', 'EnclosedPorch', '3SsnPorch', 'ScreenPorch', 'PoolArea',\n",
      "       'MiscVal', 'MoSold', 'Soldfrom', 'MSZoning_Cat', 'Street_Cat',\n",
      "       'LotShape_Cat', 'LandContour_Cat', 'Utilities_Cat', 'LotConfig_Cat',\n",
      "       'LandSlope_Cat', 'Neighborhood_Cat', 'Condition1_Cat', 'Condition2_Cat',\n",
      "       'BldgType_Cat', 'HouseStyle_Cat', 'RoofStyle_Cat', 'RoofMatl_Cat',\n",
      "       'Exterior1st_Cat', 'Exterior2nd_Cat', 'MasVnrType_Cat', 'ExterQual_Cat',\n",
      "       'ExterCond_Cat', 'Foundation_Cat', 'BsmtQual_Cat', 'BsmtCond_Cat',\n",
      "       'BsmtExposure_Cat', 'BsmtFinType1_Cat', 'BsmtFinType2_Cat',\n",
      "       'Heating_Cat', 'HeatingQC_Cat', 'CentralAir_Cat', 'Electrical_Cat',\n",
      "       'KitchenQual_Cat', 'Functional_Cat', 'FireplaceQu_Cat',\n",
      "       'GarageType_Cat', 'GarageFinish_Cat', 'GarageQual_Cat',\n",
      "       'GarageCond_Cat', 'PavedDrive_Cat', 'SaleType_Cat',\n",
      "       'SaleCondition_Cat'],\n",
      "      dtype='object')\n"
     ]
    }
   ],
   "source": [
    "x=raw_df.loc[:, raw_df.columns != 'SalePrice']\n",
    "y= np.array(raw_df['SalePrice'])\n",
    "#print (x.values, y)\n",
    "\n",
    "X_train, X_test, y_train, y_test = model_selection.train_test_split(x.values, y, test_size=0.25, random_state=1145)\n",
    "print(len(X_train), len(X_test), len(y_train), len(y_test))\n",
    "\n",
    "print (x.columns)\n"
   ]
  },
  {
   "cell_type": "code",
   "execution_count": 36,
   "metadata": {},
   "outputs": [],
   "source": [
    "#Normalization \n",
    "#waiting for coding to change from cat to num\n",
    "scaler = preprocessing.MinMaxScaler()\n",
    "scaler.fit_transform(X_train)\n",
    "X_train = scaler.transform(X_train)\n",
    "X_test = scaler.transform(X_test)"
   ]
  },
  {
   "cell_type": "markdown",
   "metadata": {},
   "source": [
    "# HEATMAP PLOT"
   ]
  },
  {
   "cell_type": "markdown",
   "metadata": {},
   "source": [
    "A heat map is a two-dimensional representation of data in which values are represented by colors. A simple heat map provides an immediate visual summary of information. More elaborate heat maps allow the viewer to understand complex data sets."
   ]
  },
  {
   "cell_type": "code",
   "execution_count": 40,
   "metadata": {},
   "outputs": [
    {
     "name": "stdout",
     "output_type": "stream",
     "text": [
      "[[2 20 80.0 ... 2 7 3]\n",
      " [3 60 68.0 ... 2 7 3]\n",
      " [4 70 60.0 ... 2 7 0]\n",
      " ...\n",
      " [2912 20 80.0 ... 2 7 3]\n",
      " [2917 20 160.0 ... 2 7 0]\n",
      " [2919 60 74.0 ... 2 7 3]] [181500.     223500.     140000.     ... 188506.4314 219222.4234\n",
      " 187741.8667]\n"
     ]
    }
   ],
   "source": [
    "print (x.values, y)"
   ]
  },
  {
   "cell_type": "code",
   "execution_count": 41,
   "metadata": {},
   "outputs": [
    {
     "ename": "NameError",
     "evalue": "name 'sns' is not defined",
     "output_type": "error",
     "traceback": [
      "\u001b[0;31m---------------------------------------------------------------------------\u001b[0m",
      "\u001b[0;31mNameError\u001b[0m                                 Traceback (most recent call last)",
      "\u001b[0;32m<ipython-input-41-5371cc39b4db>\u001b[0m in \u001b[0;36m<module>\u001b[0;34m\u001b[0m\n\u001b[1;32m      2\u001b[0m \u001b[0;31m# Visualization of Economy..GDP.per.Capita., Family and Health..Life.Expectancy.\u001b[0m\u001b[0;34m\u001b[0m\u001b[0;34m\u001b[0m\u001b[0;34m\u001b[0m\u001b[0m\n\u001b[1;32m      3\u001b[0m \u001b[0mf\u001b[0m\u001b[0;34m,\u001b[0m\u001b[0max\u001b[0m \u001b[0;34m=\u001b[0m \u001b[0mplt\u001b[0m\u001b[0;34m.\u001b[0m\u001b[0msubplots\u001b[0m\u001b[0;34m(\u001b[0m\u001b[0mfigsize\u001b[0m\u001b[0;34m=\u001b[0m\u001b[0;34m(\u001b[0m\u001b[0;36m10\u001b[0m\u001b[0;34m,\u001b[0m \u001b[0;36m10\u001b[0m\u001b[0;34m)\u001b[0m\u001b[0;34m)\u001b[0m\u001b[0;34m\u001b[0m\u001b[0;34m\u001b[0m\u001b[0m\n\u001b[0;32m----> 4\u001b[0;31m \u001b[0msns\u001b[0m\u001b[0;34m.\u001b[0m\u001b[0mheatmap\u001b[0m\u001b[0;34m(\u001b[0m\u001b[0mdata\u001b[0m\u001b[0;34m.\u001b[0m\u001b[0mcorr\u001b[0m\u001b[0;34m(\u001b[0m\u001b[0;34m)\u001b[0m\u001b[0;34m,\u001b[0m \u001b[0mannot\u001b[0m\u001b[0;34m=\u001b[0m\u001b[0;32mTrue\u001b[0m\u001b[0;34m,\u001b[0m \u001b[0mlinewidths\u001b[0m\u001b[0;34m=\u001b[0m\u001b[0;36m0.5\u001b[0m\u001b[0;34m,\u001b[0m\u001b[0mlinecolor\u001b[0m\u001b[0;34m=\u001b[0m\u001b[0;34m\"red\"\u001b[0m\u001b[0;34m,\u001b[0m \u001b[0mfmt\u001b[0m\u001b[0;34m=\u001b[0m \u001b[0;34m'.2f'\u001b[0m\u001b[0;34m,\u001b[0m\u001b[0max\u001b[0m\u001b[0;34m=\u001b[0m\u001b[0max\u001b[0m\u001b[0;34m)\u001b[0m\u001b[0;34m\u001b[0m\u001b[0;34m\u001b[0m\u001b[0m\n\u001b[0m\u001b[1;32m      5\u001b[0m \u001b[0mplt\u001b[0m\u001b[0;34m.\u001b[0m\u001b[0mshow\u001b[0m\u001b[0;34m(\u001b[0m\u001b[0;34m)\u001b[0m\u001b[0;34m\u001b[0m\u001b[0;34m\u001b[0m\u001b[0m\n",
      "\u001b[0;31mNameError\u001b[0m: name 'sns' is not defined"
     ]
    },
    {
     "data": {
      "image/png": "[encoded data removed]",
      "text/plain": [
       "<Figure size 720x720 with 1 Axes>"
      ]
     },
     "metadata": {
      "needs_background": "light"
     },
     "output_type": "display_data"
    }
   ],
   "source": [
    "#correlation map\n",
    "# Visualization of Economy..GDP.per.Capita., Family and Health..Life.Expectancy. \n",
    "f,ax = plt.subplots(figsize=(10, 10))\n",
    "sns.heatmap(data.corr(), annot=True, linewidths=0.5,linecolor=\"red\", fmt= '.2f',ax=ax)\n",
    "plt.show()"
   ]
  }
 ],
 "metadata": {
  "kernelspec": {
   "display_name": "Python 3",
   "language": "python",
   "name": "python3"
  },
  "language_info": {
   "codemirror_mode": {
    "name": "ipython",
    "version": 3
   },
   "file_extension": ".py",
   "mimetype": "text/x-python",
   "name": "python",
   "nbconvert_exporter": "python",
   "pygments_lexer": "ipython3",
   "version": "3.7.1"
  }
 },
 "nbformat": 4,
 "nbformat_minor": 2
}
