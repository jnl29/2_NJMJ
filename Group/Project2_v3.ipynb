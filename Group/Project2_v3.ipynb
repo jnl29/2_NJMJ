{
 "cells": [
  {
   "cell_type": "markdown",
   "metadata": {},
   "source": [
    "# NEED TO ADD\n",
    "# Add introduction to project, and what models we used; examples heart diesease (github link) & cancer (module 4) "
   ]
  },
  {
   "cell_type": "code",
   "execution_count": 10,
   "metadata": {},
   "outputs": [],
   "source": [
    "import pandas as pd\n",
    "import numpy as np\n",
    "from sklearn.linear_model import LogisticRegression\n",
    "from sklearn import model_selection, metrics, preprocessing\n",
    "from sklearn.decomposition import PCA\n",
    "from sklearn import tree\n",
    "\n",
    "import matplotlib.pyplot as plt\n",
    "from sklearn.externals.six import StringIO\n",
    "#import pydotplus //maybe need it later\n",
    "from IPython.display import Image"
   ]
  },
  {
   "cell_type": "markdown",
   "metadata": {},
   "source": [
    "# NEED TO ADD\n",
    "# replace description below with file description from cance module 4 "
   ]
  },
  {
   "cell_type": "code",
   "execution_count": 11,
   "metadata": {},
   "outputs": [
    {
     "ename": "SyntaxError",
     "evalue": "EOL while scanning string literal (<ipython-input-11-42dfaabf7449>, line 85)",
     "output_type": "error",
     "traceback": [
      "\u001b[0;36m  File \u001b[0;32m\"<ipython-input-11-42dfaabf7449>\"\u001b[0;36m, line \u001b[0;32m85\u001b[0m\n\u001b[0;31m    ''''\u001b[0m\n\u001b[0m        \n^\u001b[0m\n\u001b[0;31mSyntaxError\u001b[0m\u001b[0;31m:\u001b[0m EOL while scanning string literal\n"
     ]
    }
   ],
   "source": [
    "''''\n",
    "Data fields\n",
    "Here's a brief version of what you'll find in the data description file.\n",
    "\n",
    "SalePrice - the property's sale price in dollars. This is the target variable that you're trying to predict.\n",
    "MSSubClass: The building class\n",
    "MSZoning: The general zoning classification\n",
    "LotFrontage: Linear feet of street connected to property\n",
    "LotArea: Lot size in square feet\n",
    "Street: Type of road access\n",
    "Alley: Type of alley access\n",
    "LotShape: General shape of property\n",
    "LandContour: Flatness of the property\n",
    "Utilities: Type of utilities available\n",
    "LotConfig: Lot configuration\n",
    "LandSlope: Slope of property\n",
    "Neighborhood: Physical locations within Ames city limits\n",
    "Condition1: Proximity to main road or railroad\n",
    "Condition2: Proximity to main road or railroad (if a second is present)\n",
    "BldgType: Type of dwelling\n",
    "HouseStyle: Style of dwelling\n",
    "OverallQual: Overall material and finish quality\n",
    "OverallCond: Overall condition rating\n",
    "YearBuilt: Original construction date\n",
    "YearRemodAdd: Remodel date\n",
    "RoofStyle: Type of roof\n",
    "RoofMatl: Roof material\n",
    "Exterior1st: Exterior covering on house\n",
    "Exterior2nd: Exterior covering on house (if more than one material)\n",
    "MasVnrType: Masonry veneer type\n",
    "MasVnrArea: Masonry veneer area in square feet\n",
    "ExterQual: Exterior material quality\n",
    "ExterCond: Present condition of the material on the exterior\n",
    "Foundation: Type of foundation\n",
    "BsmtQual: Height of the basement\n",
    "BsmtCond: General condition of the basement\n",
    "BsmtExposure: Walkout or garden level basement walls\n",
    "BsmtFinType1: Quality of basement finished area\n",
    "BsmtFinSF1: Type 1 finished square feet\n",
    "BsmtFinType2: Quality of second finished area (if present)\n",
    "BsmtFinSF2: Type 2 finished square feet\n",
    "BsmtUnfSF: Unfinished square feet of basement area\n",
    "TotalBsmtSF: Total square feet of basement area\n",
    "Heating: Type of heating\n",
    "HeatingQC: Heating quality and condition\n",
    "CentralAir: Central air conditioning\n",
    "Electrical: Electrical system\n",
    "1stFlrSF: First Floor square feet\n",
    "2ndFlrSF: Second floor square feet\n",
    "LowQualFinSF: Low quality finished square feet (all floors)\n",
    "GrLivArea: Above grade (ground) living area square feet\n",
    "BsmtFullBath: Basement full bathrooms\n",
    "BsmtHalfBath: Basement half bathrooms\n",
    "FullBath: Full bathrooms above grade\n",
    "HalfBath: Half baths above grade\n",
    "Bedroom: Number of bedrooms above basement level\n",
    "Kitchen: Number of kitchens\n",
    "KitchenQual: Kitchen quality\n",
    "TotRmsAbvGrd: Total rooms above grade (does not include bathrooms)\n",
    "Functional: Home functionality rating\n",
    "Fireplaces: Number of fireplaces\n",
    "FireplaceQu: Fireplace quality\n",
    "GarageType: Garage location\n",
    "GarageYrBlt: Year garage was built\n",
    "GarageFinish: Interior finish of the garage\n",
    "GarageCars: Size of garage in car capacity\n",
    "GarageArea: Size of garage in square feet\n",
    "GarageQual: Garage quality\n",
    "GarageCond: Garage condition\n",
    "PavedDrive: Paved driveway\n",
    "WoodDeckSF: Wood deck area in square feet\n",
    "OpenPorchSF: Open porch area in square feet\n",
    "EnclosedPorch: Enclosed porch area in square feet\n",
    "3SsnPorch: Three season porch area in square feet\n",
    "ScreenPorch: Screen porch area in square feet\n",
    "PoolArea: Pool area in square feet\n",
    "PoolQC: Pool quality\n",
    "Fence: Fence quality\n",
    "MiscFeature: Miscellaneous feature not covered in other categories\n",
    "MiscVal: $Value of miscellaneous feature\n",
    "MoSold: Month Sold\n",
    "YrSold: Year Sold\n",
    "SaleType: Type of sale\n",
    "SaleCondition: Condition of sale\n",
    "''''"
   ]
  },
  {
   "cell_type": "markdown",
   "metadata": {},
   "source": [
    "# Need to change\n",
    "# udpate wording and add description\n",
    "# Deleted the attributes with null values > 2000 & if any row has a blank cell"
   ]
  },
  {
   "cell_type": "code",
   "execution_count": 12,
   "metadata": {},
   "outputs": [
    {
     "name": "stdout",
     "output_type": "stream",
     "text": [
      "   Id  MSSubClass MSZoning  LotFrontage  LotArea Street LotShape LandContour  \\\n",
      "1   2          20       RL         80.0     9600   Pave      Reg         Lvl   \n",
      "2   3          60       RL         68.0    11250   Pave      IR1         Lvl   \n",
      "3   4          70       RL         60.0     9550   Pave      IR1         Lvl   \n",
      "4   5          60       RL         84.0    14260   Pave      IR1         Lvl   \n",
      "6   7          20       RL         75.0    10084   Pave      Reg         Lvl   \n",
      "\n",
      "  Utilities LotConfig    ...     EnclosedPorch 3SsnPorch ScreenPorch PoolArea  \\\n",
      "1    AllPub       FR2    ...                 0         0           0        0   \n",
      "2    AllPub    Inside    ...                 0         0           0        0   \n",
      "3    AllPub    Corner    ...               272         0           0        0   \n",
      "4    AllPub       FR2    ...                 0         0           0        0   \n",
      "6    AllPub    Inside    ...                 0         0           0        0   \n",
      "\n",
      "  MiscVal MoSold  Soldfrom  SaleType  SaleCondition  SalePrice  \n",
      "1       0      5        12        WD         Normal   181500.0  \n",
      "2       0      9        11        WD         Normal   223500.0  \n",
      "3       0      2        13        WD        Abnorml   140000.0  \n",
      "4       0     12        11        WD         Normal   250000.0  \n",
      "6       0      8        12        WD         Normal   307000.0  \n",
      "\n",
      "[5 rows x 77 columns]\n"
     ]
    }
   ],
   "source": [
    "raw_df = pd.read_csv('/Applications/2_NJMJ-master/Group/housingdata.csv')\n",
    "raw_df.drop(columns=['Alley','PoolQC','Fence','MiscFeature'],axis=1,inplace=True)\n",
    "raw_df.dropna(inplace=True)\n",
    "\n",
    "print(raw_df.head())"
   ]
  },
  {
   "cell_type": "markdown",
   "metadata": {},
   "source": [
    "# table below shows the data after removing null values \n",
    "# add more description "
   ]
  },
  {
   "cell_type": "raw",
   "metadata": {
    "scrolled": true
   },
   "source": [
    "print(raw_df.isnull().sum(axis=0))\n"
   ]
  },
  {
   "cell_type": "markdown",
   "metadata": {},
   "source": [
    "# descriptive statisitics 1; data is not clean; still using original data (still have text values)\n",
    "# add 4 - 5 charts that would give meaning to the project and brief description"
   ]
  },
  {
   "cell_type": "code",
   "execution_count": 13,
   "metadata": {},
   "outputs": [],
   "source": [
    "def col_count_plot(col):\n",
    "    data = raw_df[col]\n",
    "    names = data.value_counts().index\n",
    "    values = data.value_counts().values\n",
    "    pos = range(len(values))\n",
    "    plt.bar(pos, values)\n",
    "    plt.xticks(pos, names)\n",
    "    plt.ylabel('Count')\n",
    "    plt.title(col)\n",
    "    plt.show()"
   ]
  },
  {
   "cell_type": "code",
   "execution_count": 14,
   "metadata": {},
   "outputs": [
    {
     "data": {
      "image/png": "[encoded data removed]",
      "text/plain": [
       "<Figure size 432x288 with 1 Axes>"
      ]
     },
     "metadata": {
      "needs_background": "light"
     },
     "output_type": "display_data"
    },
    {
     "data": {
      "image/png": "[encoded data removed]",
      "text/plain": [
       "<Figure size 432x288 with 1 Axes>"
      ]
     },
     "metadata": {
      "needs_background": "light"
     },
     "output_type": "display_data"
    },
    {
     "data": {
      "image/png": "[encoded data removed]",
      "text/plain": [
       "<Figure size 432x288 with 1 Axes>"
      ]
     },
     "metadata": {
      "needs_background": "light"
     },
     "output_type": "display_data"
    }
   ],
   "source": [
    "#bar charts\n",
    "col_count_plot('RoofStyle') \n",
    "col_count_plot('Street') \n",
    "\n",
    "#histogram chart\n",
    "raw_df.iloc[:,76].hist(grid=True, bins=20, rwidth=0.9,color='#607c8e')\n",
    "plt.title('Sales Price Histogram')\n",
    "plt.xlabel('Counts')\n",
    "plt.ylabel('Sales Price')\n",
    "plt.grid(axis='y', alpha=0.75)"
   ]
  },
  {
   "cell_type": "markdown",
   "metadata": {},
   "source": [
    "# Coding Categorical Data\n",
    "# Marc Edit"
   ]
  },
  {
   "cell_type": "code",
   "execution_count": 15,
   "metadata": {},
   "outputs": [
    {
     "data": {
      "text/plain": [
       "''"
      ]
     },
     "execution_count": 15,
     "metadata": {},
     "output_type": "execute_result"
    }
   ],
   "source": [
    "#print(raw_df.dtypes) \n",
    "#shows all types of each attribute\n",
    "\n",
    "raw_df['MSZoning'] = raw_df['MSZoning'].astype('category')\n",
    "raw_df['Street'] = raw_df['Street'].astype('category')\n",
    "raw_df['LotShape'] = raw_df['LotShape'].astype('category')\n",
    "raw_df['LandContour'] = raw_df['LandContour'].astype('category')\n",
    "raw_df['Utilities'] = raw_df['Utilities'].astype('category')\n",
    "raw_df['LotConfig'] = raw_df['LotConfig'].astype('category')\n",
    "raw_df['LandSlope'] = raw_df['LandSlope'].astype('category')\n",
    "raw_df['Neighborhood'] = raw_df['Neighborhood'].astype('category')\n",
    "raw_df['Condition1'] = raw_df['Condition1'].astype('category')\n",
    "raw_df['Condition2'] = raw_df['Condition2'].astype('category')\n",
    "raw_df['BldgType'] = raw_df['BldgType'].astype('category')\n",
    "raw_df['HouseStyle'] = raw_df['HouseStyle'].astype('category')\n",
    "raw_df['RoofStyle'] = raw_df['RoofStyle'].astype('category')\n",
    "raw_df['RoofMatl'] = raw_df['RoofMatl'].astype('category')\n",
    "raw_df['Exterior1st'] = raw_df['Exterior1st'].astype('category')\n",
    "raw_df['Exterior2nd'] = raw_df['Exterior2nd'].astype('category')\n",
    "raw_df['MasVnrType'] = raw_df['MasVnrType'].astype('category')\n",
    "raw_df['ExterQual'] = raw_df['ExterQual'].astype('category')\n",
    "raw_df['ExterCond'] = raw_df['ExterCond'].astype('category')\n",
    "raw_df['Foundation'] = raw_df['Foundation'].astype('category')\n",
    "raw_df['BsmtQual'] = raw_df['BsmtQual'].astype('category')\n",
    "raw_df['BsmtCond'] = raw_df['BsmtCond'].astype('category')\n",
    "raw_df['BsmtExposure'] = raw_df['BsmtExposure'].astype('category')\n",
    "raw_df['BsmtFinType1'] = raw_df['BsmtFinType1'].astype('category')\n",
    "raw_df['BsmtFinType2'] = raw_df['BsmtFinType2'].astype('category')\n",
    "raw_df['Heating'] = raw_df['Heating'].astype('category')\n",
    "raw_df['HeatingQC'] = raw_df['HeatingQC'].astype('category')\n",
    "raw_df['CentralAir'] = raw_df['CentralAir'].astype('category')\n",
    "raw_df['Electrical'] = raw_df['Electrical'].astype('category')\n",
    "raw_df['KitchenQual'] = raw_df['KitchenQual'].astype('category')\n",
    "raw_df['Functional'] = raw_df['Functional'].astype('category')\n",
    "raw_df['FireplaceQu'] = raw_df['FireplaceQu'].astype('category')\n",
    "raw_df['GarageType'] = raw_df['GarageType'].astype('category')\n",
    "raw_df['GarageFinish'] = raw_df['GarageFinish'].astype('category')\n",
    "raw_df['GarageQual'] = raw_df['GarageQual'].astype('category')\n",
    "raw_df['GarageCond'] = raw_df['GarageCond'].astype('category')\n",
    "raw_df['PavedDrive'] = raw_df['PavedDrive'].astype('category')\n",
    "raw_df['SaleType'] = raw_df['SaleType'].astype('category')\n",
    "raw_df['SaleCondition'] = raw_df['SaleCondition'].astype('category')\n",
    "#change 'street' to new attribute name\n",
    "\n",
    "raw_df['MSZoning_Cat'] = raw_df['MSZoning'].cat.codes\n",
    "raw_df['Street_Cat'] = raw_df['Street'].cat.codes\n",
    "raw_df['LotShape_Cat'] = raw_df['LotShape'].cat.codes\n",
    "raw_df['LandContour_Cat'] = raw_df['LandContour'].cat.codes\n",
    "raw_df['Utilities_Cat'] = raw_df['Utilities'].cat.codes\n",
    "raw_df['LotConfig_Cat'] = raw_df['LotConfig'].cat.codes\n",
    "raw_df['LandSlope_Cat'] = raw_df['LandSlope'].cat.codes\n",
    "raw_df['Neighborhood_Cat'] = raw_df['Neighborhood'].cat.codes\n",
    "raw_df['Condition1_Cat'] = raw_df['Condition1'].cat.codes\n",
    "raw_df['Condition2_Cat'] = raw_df['Condition2'].cat.codes\n",
    "raw_df['BldgType_Cat'] = raw_df['BldgType'].cat.codes\n",
    "raw_df['HouseStyle_Cat'] = raw_df['HouseStyle'].cat.codes\n",
    "raw_df['RoofStyle_Cat'] = raw_df['RoofStyle'].cat.codes\n",
    "raw_df['RoofMatl_Cat'] = raw_df['RoofMatl'].cat.codes\n",
    "raw_df['Exterior1st_Cat'] = raw_df['Exterior1st'].cat.codes\n",
    "raw_df['Exterior2nd_Cat'] = raw_df['Exterior2nd'].cat.codes\n",
    "raw_df['MasVnrType_Cat'] = raw_df['MasVnrType'].cat.codes\n",
    "raw_df['ExterQual_Cat'] = raw_df['ExterQual'].cat.codes\n",
    "raw_df['ExterCond_Cat'] = raw_df['ExterCond'].cat.codes\n",
    "raw_df['Foundation_Cat'] = raw_df['Foundation'].cat.codes\n",
    "raw_df['BsmtQual_Cat'] = raw_df['BsmtQual'].cat.codes\n",
    "raw_df['BsmtCond_Cat'] = raw_df['BsmtCond'].cat.codes\n",
    "raw_df['BsmtExposure_Cat'] = raw_df['BsmtExposure'].cat.codes\n",
    "raw_df['BsmtFinType1_Cat'] = raw_df['BsmtFinType1'].cat.codes\n",
    "raw_df['BsmtFinType2_Cat'] = raw_df['BsmtFinType2'].cat.codes\n",
    "raw_df['Heating_Cat'] = raw_df['Heating'].cat.codes\n",
    "raw_df['HeatingQC_Cat'] = raw_df['HeatingQC'].cat.codes\n",
    "raw_df['CentralAir_Cat'] = raw_df['CentralAir'].cat.codes\n",
    "raw_df['Electrical_Cat'] = raw_df['Electrical'].cat.codes\n",
    "raw_df['KitchenQual_Cat'] = raw_df['KitchenQual'].cat.codes\n",
    "raw_df['Functional_Cat'] = raw_df['Functional'].cat.codes\n",
    "raw_df['FireplaceQu_Cat'] = raw_df['FireplaceQu'].cat.codes\n",
    "raw_df['GarageType_Cat'] = raw_df['GarageType'].cat.codes\n",
    "raw_df['GarageFinish_Cat'] = raw_df['GarageFinish'].cat.codes\n",
    "raw_df['GarageQual_Cat'] = raw_df['GarageQual'].cat.codes\n",
    "raw_df['GarageCond_Cat'] = raw_df['GarageCond'].cat.codes\n",
    "raw_df['PavedDrive_Cat'] = raw_df['PavedDrive'].cat.codes\n",
    "raw_df['SaleType_Cat'] = raw_df['SaleType'].cat.codes\n",
    "raw_df['SaleCondition_Cat'] = raw_df['SaleCondition'].cat.codes\n",
    "#keep same naming attribute_cat \n",
    "#change 'street' to new attribtue name\n",
    "\n",
    "#print(raw_df)\n",
    "#show that new column was added -> 39 new columns added (77 originally; 116 total)\n",
    "          \n",
    "''"
   ]
  },
  {
   "cell_type": "code",
   "execution_count": 19,
   "metadata": {},
   "outputs": [
    {
     "ename": "KeyError",
     "evalue": "\"['MSZoning'] not found in axis\"",
     "output_type": "error",
     "traceback": [
      "\u001b[0;31m---------------------------------------------------------------------------\u001b[0m",
      "\u001b[0;31mKeyError\u001b[0m                                  Traceback (most recent call last)",
      "\u001b[0;32m<ipython-input-19-be6eed5f89a6>\u001b[0m in \u001b[0;36m<module>\u001b[0;34m\u001b[0m\n\u001b[0;32m----> 1\u001b[0;31m \u001b[0mraw_df\u001b[0m\u001b[0;34m.\u001b[0m\u001b[0mdrop\u001b[0m\u001b[0;34m(\u001b[0m\u001b[0mcolumns\u001b[0m\u001b[0;34m=\u001b[0m\u001b[0;34m[\u001b[0m\u001b[0;34m'MSZoning'\u001b[0m\u001b[0;34m]\u001b[0m\u001b[0;34m,\u001b[0m\u001b[0minplace\u001b[0m\u001b[0;34m=\u001b[0m\u001b[0;32mTrue\u001b[0m\u001b[0;34m)\u001b[0m\u001b[0;34m\u001b[0m\u001b[0;34m\u001b[0m\u001b[0m\n\u001b[0m\u001b[1;32m      2\u001b[0m \u001b[0mraw_df\u001b[0m\u001b[0;34m.\u001b[0m\u001b[0mdrop\u001b[0m\u001b[0;34m(\u001b[0m\u001b[0mcolumns\u001b[0m\u001b[0;34m=\u001b[0m\u001b[0;34m[\u001b[0m\u001b[0;34m'Street'\u001b[0m\u001b[0;34m]\u001b[0m\u001b[0;34m,\u001b[0m\u001b[0minplace\u001b[0m\u001b[0;34m=\u001b[0m\u001b[0;32mTrue\u001b[0m\u001b[0;34m)\u001b[0m\u001b[0;34m\u001b[0m\u001b[0;34m\u001b[0m\u001b[0m\n\u001b[1;32m      3\u001b[0m \u001b[0mraw_df\u001b[0m\u001b[0;34m.\u001b[0m\u001b[0mdrop\u001b[0m\u001b[0;34m(\u001b[0m\u001b[0mcolumns\u001b[0m\u001b[0;34m=\u001b[0m\u001b[0;34m[\u001b[0m\u001b[0;34m'LotShape'\u001b[0m\u001b[0;34m]\u001b[0m\u001b[0;34m,\u001b[0m\u001b[0minplace\u001b[0m\u001b[0;34m=\u001b[0m\u001b[0;32mTrue\u001b[0m\u001b[0;34m)\u001b[0m\u001b[0;34m\u001b[0m\u001b[0;34m\u001b[0m\u001b[0m\n\u001b[1;32m      4\u001b[0m \u001b[0mraw_df\u001b[0m\u001b[0;34m.\u001b[0m\u001b[0mdrop\u001b[0m\u001b[0;34m(\u001b[0m\u001b[0mcolumns\u001b[0m\u001b[0;34m=\u001b[0m\u001b[0;34m[\u001b[0m\u001b[0;34m'LandContour'\u001b[0m\u001b[0;34m]\u001b[0m\u001b[0;34m,\u001b[0m\u001b[0minplace\u001b[0m\u001b[0;34m=\u001b[0m\u001b[0;32mTrue\u001b[0m\u001b[0;34m)\u001b[0m\u001b[0;34m\u001b[0m\u001b[0;34m\u001b[0m\u001b[0m\n\u001b[1;32m      5\u001b[0m \u001b[0mraw_df\u001b[0m\u001b[0;34m.\u001b[0m\u001b[0mdrop\u001b[0m\u001b[0;34m(\u001b[0m\u001b[0mcolumns\u001b[0m\u001b[0;34m=\u001b[0m\u001b[0;34m[\u001b[0m\u001b[0;34m'Utilities'\u001b[0m\u001b[0;34m]\u001b[0m\u001b[0;34m,\u001b[0m\u001b[0minplace\u001b[0m\u001b[0;34m=\u001b[0m\u001b[0;32mTrue\u001b[0m\u001b[0;34m)\u001b[0m\u001b[0;34m\u001b[0m\u001b[0;34m\u001b[0m\u001b[0m\n",
      "\u001b[0;32m~/anaconda3/lib/python3.7/site-packages/pandas/core/frame.py\u001b[0m in \u001b[0;36mdrop\u001b[0;34m(self, labels, axis, index, columns, level, inplace, errors)\u001b[0m\n\u001b[1;32m   3695\u001b[0m                                            \u001b[0mindex\u001b[0m\u001b[0;34m=\u001b[0m\u001b[0mindex\u001b[0m\u001b[0;34m,\u001b[0m \u001b[0mcolumns\u001b[0m\u001b[0;34m=\u001b[0m\u001b[0mcolumns\u001b[0m\u001b[0;34m,\u001b[0m\u001b[0;34m\u001b[0m\u001b[0;34m\u001b[0m\u001b[0m\n\u001b[1;32m   3696\u001b[0m                                            \u001b[0mlevel\u001b[0m\u001b[0;34m=\u001b[0m\u001b[0mlevel\u001b[0m\u001b[0;34m,\u001b[0m \u001b[0minplace\u001b[0m\u001b[0;34m=\u001b[0m\u001b[0minplace\u001b[0m\u001b[0;34m,\u001b[0m\u001b[0;34m\u001b[0m\u001b[0;34m\u001b[0m\u001b[0m\n\u001b[0;32m-> 3697\u001b[0;31m                                            errors=errors)\n\u001b[0m\u001b[1;32m   3698\u001b[0m \u001b[0;34m\u001b[0m\u001b[0m\n\u001b[1;32m   3699\u001b[0m     @rewrite_axis_style_signature('mapper', [('copy', True),\n",
      "\u001b[0;32m~/anaconda3/lib/python3.7/site-packages/pandas/core/generic.py\u001b[0m in \u001b[0;36mdrop\u001b[0;34m(self, labels, axis, index, columns, level, inplace, errors)\u001b[0m\n\u001b[1;32m   3109\u001b[0m         \u001b[0;32mfor\u001b[0m \u001b[0maxis\u001b[0m\u001b[0;34m,\u001b[0m \u001b[0mlabels\u001b[0m \u001b[0;32min\u001b[0m \u001b[0maxes\u001b[0m\u001b[0;34m.\u001b[0m\u001b[0mitems\u001b[0m\u001b[0;34m(\u001b[0m\u001b[0;34m)\u001b[0m\u001b[0;34m:\u001b[0m\u001b[0;34m\u001b[0m\u001b[0;34m\u001b[0m\u001b[0m\n\u001b[1;32m   3110\u001b[0m             \u001b[0;32mif\u001b[0m \u001b[0mlabels\u001b[0m \u001b[0;32mis\u001b[0m \u001b[0;32mnot\u001b[0m \u001b[0;32mNone\u001b[0m\u001b[0;34m:\u001b[0m\u001b[0;34m\u001b[0m\u001b[0;34m\u001b[0m\u001b[0m\n\u001b[0;32m-> 3111\u001b[0;31m                 \u001b[0mobj\u001b[0m \u001b[0;34m=\u001b[0m \u001b[0mobj\u001b[0m\u001b[0;34m.\u001b[0m\u001b[0m_drop_axis\u001b[0m\u001b[0;34m(\u001b[0m\u001b[0mlabels\u001b[0m\u001b[0;34m,\u001b[0m \u001b[0maxis\u001b[0m\u001b[0;34m,\u001b[0m \u001b[0mlevel\u001b[0m\u001b[0;34m=\u001b[0m\u001b[0mlevel\u001b[0m\u001b[0;34m,\u001b[0m \u001b[0merrors\u001b[0m\u001b[0;34m=\u001b[0m\u001b[0merrors\u001b[0m\u001b[0;34m)\u001b[0m\u001b[0;34m\u001b[0m\u001b[0;34m\u001b[0m\u001b[0m\n\u001b[0m\u001b[1;32m   3112\u001b[0m \u001b[0;34m\u001b[0m\u001b[0m\n\u001b[1;32m   3113\u001b[0m         \u001b[0;32mif\u001b[0m \u001b[0minplace\u001b[0m\u001b[0;34m:\u001b[0m\u001b[0;34m\u001b[0m\u001b[0;34m\u001b[0m\u001b[0m\n",
      "\u001b[0;32m~/anaconda3/lib/python3.7/site-packages/pandas/core/generic.py\u001b[0m in \u001b[0;36m_drop_axis\u001b[0;34m(self, labels, axis, level, errors)\u001b[0m\n\u001b[1;32m   3141\u001b[0m                 \u001b[0mnew_axis\u001b[0m \u001b[0;34m=\u001b[0m \u001b[0maxis\u001b[0m\u001b[0;34m.\u001b[0m\u001b[0mdrop\u001b[0m\u001b[0;34m(\u001b[0m\u001b[0mlabels\u001b[0m\u001b[0;34m,\u001b[0m \u001b[0mlevel\u001b[0m\u001b[0;34m=\u001b[0m\u001b[0mlevel\u001b[0m\u001b[0;34m,\u001b[0m \u001b[0merrors\u001b[0m\u001b[0;34m=\u001b[0m\u001b[0merrors\u001b[0m\u001b[0;34m)\u001b[0m\u001b[0;34m\u001b[0m\u001b[0;34m\u001b[0m\u001b[0m\n\u001b[1;32m   3142\u001b[0m             \u001b[0;32melse\u001b[0m\u001b[0;34m:\u001b[0m\u001b[0;34m\u001b[0m\u001b[0;34m\u001b[0m\u001b[0m\n\u001b[0;32m-> 3143\u001b[0;31m                 \u001b[0mnew_axis\u001b[0m \u001b[0;34m=\u001b[0m \u001b[0maxis\u001b[0m\u001b[0;34m.\u001b[0m\u001b[0mdrop\u001b[0m\u001b[0;34m(\u001b[0m\u001b[0mlabels\u001b[0m\u001b[0;34m,\u001b[0m \u001b[0merrors\u001b[0m\u001b[0;34m=\u001b[0m\u001b[0merrors\u001b[0m\u001b[0;34m)\u001b[0m\u001b[0;34m\u001b[0m\u001b[0;34m\u001b[0m\u001b[0m\n\u001b[0m\u001b[1;32m   3144\u001b[0m             \u001b[0mresult\u001b[0m \u001b[0;34m=\u001b[0m \u001b[0mself\u001b[0m\u001b[0;34m.\u001b[0m\u001b[0mreindex\u001b[0m\u001b[0;34m(\u001b[0m\u001b[0;34m**\u001b[0m\u001b[0;34m{\u001b[0m\u001b[0maxis_name\u001b[0m\u001b[0;34m:\u001b[0m \u001b[0mnew_axis\u001b[0m\u001b[0;34m}\u001b[0m\u001b[0;34m)\u001b[0m\u001b[0;34m\u001b[0m\u001b[0;34m\u001b[0m\u001b[0m\n\u001b[1;32m   3145\u001b[0m \u001b[0;34m\u001b[0m\u001b[0m\n",
      "\u001b[0;32m~/anaconda3/lib/python3.7/site-packages/pandas/core/indexes/base.py\u001b[0m in \u001b[0;36mdrop\u001b[0;34m(self, labels, errors)\u001b[0m\n\u001b[1;32m   4402\u001b[0m             \u001b[0;32mif\u001b[0m \u001b[0merrors\u001b[0m \u001b[0;34m!=\u001b[0m \u001b[0;34m'ignore'\u001b[0m\u001b[0;34m:\u001b[0m\u001b[0;34m\u001b[0m\u001b[0;34m\u001b[0m\u001b[0m\n\u001b[1;32m   4403\u001b[0m                 raise KeyError(\n\u001b[0;32m-> 4404\u001b[0;31m                     '{} not found in axis'.format(labels[mask]))\n\u001b[0m\u001b[1;32m   4405\u001b[0m             \u001b[0mindexer\u001b[0m \u001b[0;34m=\u001b[0m \u001b[0mindexer\u001b[0m\u001b[0;34m[\u001b[0m\u001b[0;34m~\u001b[0m\u001b[0mmask\u001b[0m\u001b[0;34m]\u001b[0m\u001b[0;34m\u001b[0m\u001b[0;34m\u001b[0m\u001b[0m\n\u001b[1;32m   4406\u001b[0m         \u001b[0;32mreturn\u001b[0m \u001b[0mself\u001b[0m\u001b[0;34m.\u001b[0m\u001b[0mdelete\u001b[0m\u001b[0;34m(\u001b[0m\u001b[0mindexer\u001b[0m\u001b[0;34m)\u001b[0m\u001b[0;34m\u001b[0m\u001b[0;34m\u001b[0m\u001b[0m\n",
      "\u001b[0;31mKeyError\u001b[0m: \"['MSZoning'] not found in axis\""
     ]
    }
   ],
   "source": [
    "raw_df.drop(columns=['MSZoning'],inplace=True)\n",
    "raw_df.drop(columns=['Street'],inplace=True)\n",
    "raw_df.drop(columns=['LotShape'],inplace=True)\n",
    "raw_df.drop(columns=['LandContour'],inplace=True)\n",
    "raw_df.drop(columns=['Utilities'],inplace=True)\n",
    "raw_df.drop(columns=['LotConfig'],inplace=True)\n",
    "raw_df.drop(columns=['LandSlope'],inplace=True)\n",
    "raw_df.drop(columns=['Neighborhood'],inplace=True)\n",
    "raw_df.drop(columns=['Condition1'],inplace=True)\n",
    "raw_df.drop(columns=['Condition2'],inplace=True)\n",
    "raw_df.drop(columns=['BldgType'],inplace=True)\n",
    "raw_df.drop(columns=['HouseStyle'],inplace=True)\n",
    "raw_df.drop(columns=['RoofStyle'],inplace=True)\n",
    "raw_df.drop(columns=['RoofMatl'],inplace=True)\n",
    "raw_df.drop(columns=['Exterior1st'],inplace=True)\n",
    "raw_df.drop(columns=['Exterior2nd'],inplace=True)\n",
    "raw_df.drop(columns=['MasVnrType'],inplace=True)\n",
    "raw_df.drop(columns=['ExterQual'],inplace=True)\n",
    "raw_df.drop(columns=['ExterCond'],inplace=True)\n",
    "raw_df.drop(columns=['Foundation'],inplace=True)\n",
    "raw_df.drop(columns=['BsmtQual'],inplace=True)\n",
    "raw_df.drop(columns=['BsmtCond'],inplace=True)\n",
    "raw_df.drop(columns=['BsmtExposure'],inplace=True)\n",
    "raw_df.drop(columns=['BsmtFinType1'],inplace=True)\n",
    "raw_df.drop(columns=['BsmtFinType2'],inplace=True)\n",
    "raw_df.drop(columns=['Heating'],inplace=True)\n",
    "raw_df.drop(columns=['HeatingQC'],inplace=True)\n",
    "raw_df.drop(columns=['CentralAir'],inplace=True)\n",
    "raw_df.drop(columns=['Electrical'],inplace=True)\n",
    "raw_df.drop(columns=['KitchenQual'],inplace=True)\n",
    "raw_df.drop(columns=['Functional'],inplace=True)\n",
    "raw_df.drop(columns=['FireplaceQu'],inplace=True)\n",
    "raw_df.drop(columns=['GarageType'],inplace=True)\n",
    "raw_df.drop(columns=['GarageFinish'],inplace=True)\n",
    "raw_df.drop(columns=['GarageQual'],inplace=True)\n",
    "raw_df.drop(columns=['GarageCond'],inplace=True)\n",
    "raw_df.drop(columns=['PavedDrive'],inplace=True)\n",
    "raw_df.drop(columns=['SaleType'],inplace=True)\n",
    "raw_df.drop(columns=['SaleCondition'],inplace=True)\n",
    "#drop old columns\n"
   ]
  },
  {
   "cell_type": "markdown",
   "metadata": {},
   "source": [
    "# Dividing the Data set into Testing and Training:\n",
    "# nesreen\n",
    "##### 20% testing, and 80% training\n"
   ]
  },
  {
   "cell_type": "code",
   "execution_count": 17,
   "metadata": {},
   "outputs": [
    {
     "name": "stdout",
     "output_type": "stream",
     "text": [
      "858 287 858 287\n"
     ]
    }
   ],
   "source": [
    "\n",
    "x=raw_df[raw_df.columns[:-1]]\n",
    "y= np.array(raw_df['SalePrice'])\n",
    "#print x.values, y\n",
    "\n",
    "X_train, X_test, y_train, y_test = model_selection.train_test_split(x.values, y, test_size=0.25, random_state=1145)\n",
    "print(len(X_train), len(X_test), len(y_train), len(y_test))\n"
   ]
  },
  {
   "cell_type": "code",
   "execution_count": 19,
   "metadata": {},
   "outputs": [
    {
     "ename": "ValueError",
     "evalue": "could not convert string to float: 'RL'",
     "output_type": "error",
     "traceback": [
      "\u001b[0;31m---------------------------------------------------------------------------\u001b[0m",
      "\u001b[0;31mValueError\u001b[0m                                Traceback (most recent call last)",
      "\u001b[0;32m<ipython-input-19-e5f4f4017674>\u001b[0m in \u001b[0;36m<module>\u001b[0;34m\u001b[0m\n\u001b[1;32m      2\u001b[0m \u001b[0;31m#waiting for coding to change from cat to num\u001b[0m\u001b[0;34m\u001b[0m\u001b[0;34m\u001b[0m\u001b[0;34m\u001b[0m\u001b[0m\n\u001b[1;32m      3\u001b[0m \u001b[0mscaler\u001b[0m \u001b[0;34m=\u001b[0m \u001b[0mpreprocessing\u001b[0m\u001b[0;34m.\u001b[0m\u001b[0mMinMaxScaler\u001b[0m\u001b[0;34m(\u001b[0m\u001b[0;34m)\u001b[0m\u001b[0;34m\u001b[0m\u001b[0;34m\u001b[0m\u001b[0m\n\u001b[0;32m----> 4\u001b[0;31m \u001b[0mscaler\u001b[0m\u001b[0;34m.\u001b[0m\u001b[0mfit_transform\u001b[0m\u001b[0;34m(\u001b[0m\u001b[0mX_train\u001b[0m\u001b[0;34m)\u001b[0m\u001b[0;34m\u001b[0m\u001b[0;34m\u001b[0m\u001b[0m\n\u001b[0m\u001b[1;32m      5\u001b[0m \u001b[0mX_train\u001b[0m \u001b[0;34m=\u001b[0m \u001b[0mscaler\u001b[0m\u001b[0;34m.\u001b[0m\u001b[0mtransform\u001b[0m\u001b[0;34m(\u001b[0m\u001b[0mX_train\u001b[0m\u001b[0;34m)\u001b[0m\u001b[0;34m\u001b[0m\u001b[0;34m\u001b[0m\u001b[0m\n\u001b[1;32m      6\u001b[0m \u001b[0mX_test\u001b[0m \u001b[0;34m=\u001b[0m \u001b[0mscaler\u001b[0m\u001b[0;34m.\u001b[0m\u001b[0mtransform\u001b[0m\u001b[0;34m(\u001b[0m\u001b[0mX_test\u001b[0m\u001b[0;34m)\u001b[0m\u001b[0;34m\u001b[0m\u001b[0;34m\u001b[0m\u001b[0m\n",
      "\u001b[0;32m~/anaconda3/lib/python3.7/site-packages/sklearn/base.py\u001b[0m in \u001b[0;36mfit_transform\u001b[0;34m(self, X, y, **fit_params)\u001b[0m\n\u001b[1;32m    460\u001b[0m         \u001b[0;32mif\u001b[0m \u001b[0my\u001b[0m \u001b[0;32mis\u001b[0m \u001b[0;32mNone\u001b[0m\u001b[0;34m:\u001b[0m\u001b[0;34m\u001b[0m\u001b[0;34m\u001b[0m\u001b[0m\n\u001b[1;32m    461\u001b[0m             \u001b[0;31m# fit method of arity 1 (unsupervised transformation)\u001b[0m\u001b[0;34m\u001b[0m\u001b[0;34m\u001b[0m\u001b[0;34m\u001b[0m\u001b[0m\n\u001b[0;32m--> 462\u001b[0;31m             \u001b[0;32mreturn\u001b[0m \u001b[0mself\u001b[0m\u001b[0;34m.\u001b[0m\u001b[0mfit\u001b[0m\u001b[0;34m(\u001b[0m\u001b[0mX\u001b[0m\u001b[0;34m,\u001b[0m \u001b[0;34m**\u001b[0m\u001b[0mfit_params\u001b[0m\u001b[0;34m)\u001b[0m\u001b[0;34m.\u001b[0m\u001b[0mtransform\u001b[0m\u001b[0;34m(\u001b[0m\u001b[0mX\u001b[0m\u001b[0;34m)\u001b[0m\u001b[0;34m\u001b[0m\u001b[0;34m\u001b[0m\u001b[0m\n\u001b[0m\u001b[1;32m    463\u001b[0m         \u001b[0;32melse\u001b[0m\u001b[0;34m:\u001b[0m\u001b[0;34m\u001b[0m\u001b[0;34m\u001b[0m\u001b[0m\n\u001b[1;32m    464\u001b[0m             \u001b[0;31m# fit method of arity 2 (supervised transformation)\u001b[0m\u001b[0;34m\u001b[0m\u001b[0;34m\u001b[0m\u001b[0;34m\u001b[0m\u001b[0m\n",
      "\u001b[0;32m~/anaconda3/lib/python3.7/site-packages/sklearn/preprocessing/data.py\u001b[0m in \u001b[0;36mfit\u001b[0;34m(self, X, y)\u001b[0m\n\u001b[1;32m    321\u001b[0m         \u001b[0;31m# Reset internal state before fitting\u001b[0m\u001b[0;34m\u001b[0m\u001b[0;34m\u001b[0m\u001b[0;34m\u001b[0m\u001b[0m\n\u001b[1;32m    322\u001b[0m         \u001b[0mself\u001b[0m\u001b[0;34m.\u001b[0m\u001b[0m_reset\u001b[0m\u001b[0;34m(\u001b[0m\u001b[0;34m)\u001b[0m\u001b[0;34m\u001b[0m\u001b[0;34m\u001b[0m\u001b[0m\n\u001b[0;32m--> 323\u001b[0;31m         \u001b[0;32mreturn\u001b[0m \u001b[0mself\u001b[0m\u001b[0;34m.\u001b[0m\u001b[0mpartial_fit\u001b[0m\u001b[0;34m(\u001b[0m\u001b[0mX\u001b[0m\u001b[0;34m,\u001b[0m \u001b[0my\u001b[0m\u001b[0;34m)\u001b[0m\u001b[0;34m\u001b[0m\u001b[0;34m\u001b[0m\u001b[0m\n\u001b[0m\u001b[1;32m    324\u001b[0m \u001b[0;34m\u001b[0m\u001b[0m\n\u001b[1;32m    325\u001b[0m     \u001b[0;32mdef\u001b[0m \u001b[0mpartial_fit\u001b[0m\u001b[0;34m(\u001b[0m\u001b[0mself\u001b[0m\u001b[0;34m,\u001b[0m \u001b[0mX\u001b[0m\u001b[0;34m,\u001b[0m \u001b[0my\u001b[0m\u001b[0;34m=\u001b[0m\u001b[0;32mNone\u001b[0m\u001b[0;34m)\u001b[0m\u001b[0;34m:\u001b[0m\u001b[0;34m\u001b[0m\u001b[0;34m\u001b[0m\u001b[0m\n",
      "\u001b[0;32m~/anaconda3/lib/python3.7/site-packages/sklearn/preprocessing/data.py\u001b[0m in \u001b[0;36mpartial_fit\u001b[0;34m(self, X, y)\u001b[0m\n\u001b[1;32m    349\u001b[0m         X = check_array(X, copy=self.copy, warn_on_dtype=True,\n\u001b[1;32m    350\u001b[0m                         \u001b[0mestimator\u001b[0m\u001b[0;34m=\u001b[0m\u001b[0mself\u001b[0m\u001b[0;34m,\u001b[0m \u001b[0mdtype\u001b[0m\u001b[0;34m=\u001b[0m\u001b[0mFLOAT_DTYPES\u001b[0m\u001b[0;34m,\u001b[0m\u001b[0;34m\u001b[0m\u001b[0;34m\u001b[0m\u001b[0m\n\u001b[0;32m--> 351\u001b[0;31m                         force_all_finite=\"allow-nan\")\n\u001b[0m\u001b[1;32m    352\u001b[0m \u001b[0;34m\u001b[0m\u001b[0m\n\u001b[1;32m    353\u001b[0m         \u001b[0mdata_min\u001b[0m \u001b[0;34m=\u001b[0m \u001b[0mnp\u001b[0m\u001b[0;34m.\u001b[0m\u001b[0mnanmin\u001b[0m\u001b[0;34m(\u001b[0m\u001b[0mX\u001b[0m\u001b[0;34m,\u001b[0m \u001b[0maxis\u001b[0m\u001b[0;34m=\u001b[0m\u001b[0;36m0\u001b[0m\u001b[0;34m)\u001b[0m\u001b[0;34m\u001b[0m\u001b[0;34m\u001b[0m\u001b[0m\n",
      "\u001b[0;32m~/anaconda3/lib/python3.7/site-packages/sklearn/utils/validation.py\u001b[0m in \u001b[0;36mcheck_array\u001b[0;34m(array, accept_sparse, accept_large_sparse, dtype, order, copy, force_all_finite, ensure_2d, allow_nd, ensure_min_samples, ensure_min_features, warn_on_dtype, estimator)\u001b[0m\n\u001b[1;32m    525\u001b[0m             \u001b[0;32mtry\u001b[0m\u001b[0;34m:\u001b[0m\u001b[0;34m\u001b[0m\u001b[0;34m\u001b[0m\u001b[0m\n\u001b[1;32m    526\u001b[0m                 \u001b[0mwarnings\u001b[0m\u001b[0;34m.\u001b[0m\u001b[0msimplefilter\u001b[0m\u001b[0;34m(\u001b[0m\u001b[0;34m'error'\u001b[0m\u001b[0;34m,\u001b[0m \u001b[0mComplexWarning\u001b[0m\u001b[0;34m)\u001b[0m\u001b[0;34m\u001b[0m\u001b[0;34m\u001b[0m\u001b[0m\n\u001b[0;32m--> 527\u001b[0;31m                 \u001b[0marray\u001b[0m \u001b[0;34m=\u001b[0m \u001b[0mnp\u001b[0m\u001b[0;34m.\u001b[0m\u001b[0masarray\u001b[0m\u001b[0;34m(\u001b[0m\u001b[0marray\u001b[0m\u001b[0;34m,\u001b[0m \u001b[0mdtype\u001b[0m\u001b[0;34m=\u001b[0m\u001b[0mdtype\u001b[0m\u001b[0;34m,\u001b[0m \u001b[0morder\u001b[0m\u001b[0;34m=\u001b[0m\u001b[0morder\u001b[0m\u001b[0;34m)\u001b[0m\u001b[0;34m\u001b[0m\u001b[0;34m\u001b[0m\u001b[0m\n\u001b[0m\u001b[1;32m    528\u001b[0m             \u001b[0;32mexcept\u001b[0m \u001b[0mComplexWarning\u001b[0m\u001b[0;34m:\u001b[0m\u001b[0;34m\u001b[0m\u001b[0;34m\u001b[0m\u001b[0m\n\u001b[1;32m    529\u001b[0m                 raise ValueError(\"Complex data not supported\\n\"\n",
      "\u001b[0;32m~/anaconda3/lib/python3.7/site-packages/numpy/core/numeric.py\u001b[0m in \u001b[0;36masarray\u001b[0;34m(a, dtype, order)\u001b[0m\n\u001b[1;32m    499\u001b[0m \u001b[0;34m\u001b[0m\u001b[0m\n\u001b[1;32m    500\u001b[0m     \"\"\"\n\u001b[0;32m--> 501\u001b[0;31m     \u001b[0;32mreturn\u001b[0m \u001b[0marray\u001b[0m\u001b[0;34m(\u001b[0m\u001b[0ma\u001b[0m\u001b[0;34m,\u001b[0m \u001b[0mdtype\u001b[0m\u001b[0;34m,\u001b[0m \u001b[0mcopy\u001b[0m\u001b[0;34m=\u001b[0m\u001b[0;32mFalse\u001b[0m\u001b[0;34m,\u001b[0m \u001b[0morder\u001b[0m\u001b[0;34m=\u001b[0m\u001b[0morder\u001b[0m\u001b[0;34m)\u001b[0m\u001b[0;34m\u001b[0m\u001b[0;34m\u001b[0m\u001b[0m\n\u001b[0m\u001b[1;32m    502\u001b[0m \u001b[0;34m\u001b[0m\u001b[0m\n\u001b[1;32m    503\u001b[0m \u001b[0;34m\u001b[0m\u001b[0m\n",
      "\u001b[0;31mValueError\u001b[0m: could not convert string to float: 'RL'"
     ]
    }
   ],
   "source": [
    "#Normalization \n",
    "#waiting for coding to change from cat to num\n",
    "scaler = preprocessing.MinMaxScaler()\n",
    "scaler.fit_transform(X_train)\n",
    "X_train = scaler.transform(X_train)\n",
    "X_test = scaler.transform(X_test)"
   ]
  },
  {
   "cell_type": "markdown",
   "metadata": {},
   "source": [
    "## Logistic Regression"
   ]
  },
  {
   "cell_type": "markdown",
   "metadata": {},
   "source": []
  },
  {
   "cell_type": "code",
   "execution_count": 20,
   "metadata": {},
   "outputs": [
    {
     "name": "stderr",
     "output_type": "stream",
     "text": [
      "/Users/RiceAllDay/anaconda3/lib/python3.7/site-packages/sklearn/linear_model/logistic.py:433: FutureWarning: Default solver will be changed to 'lbfgs' in 0.22. Specify a solver to silence this warning.\n",
      "  FutureWarning)\n"
     ]
    },
    {
     "ename": "ValueError",
     "evalue": "could not convert string to float: 'RL'",
     "output_type": "error",
     "traceback": [
      "\u001b[0;31m---------------------------------------------------------------------------\u001b[0m",
      "\u001b[0;31mValueError\u001b[0m                                Traceback (most recent call last)",
      "\u001b[0;32m<ipython-input-20-27573396abcc>\u001b[0m in \u001b[0;36m<module>\u001b[0;34m\u001b[0m\n\u001b[1;32m      1\u001b[0m \u001b[0mmodel\u001b[0m \u001b[0;34m=\u001b[0m \u001b[0mLogisticRegression\u001b[0m\u001b[0;34m(\u001b[0m\u001b[0;34m)\u001b[0m\u001b[0;34m\u001b[0m\u001b[0;34m\u001b[0m\u001b[0m\n\u001b[0;32m----> 2\u001b[0;31m \u001b[0mmodel\u001b[0m\u001b[0;34m.\u001b[0m\u001b[0mfit\u001b[0m\u001b[0;34m(\u001b[0m\u001b[0mX_train\u001b[0m\u001b[0;34m,\u001b[0m\u001b[0my_train\u001b[0m\u001b[0;34m)\u001b[0m\u001b[0;34m\u001b[0m\u001b[0;34m\u001b[0m\u001b[0m\n\u001b[0m\u001b[1;32m      3\u001b[0m \u001b[0my_pred\u001b[0m \u001b[0;34m=\u001b[0m \u001b[0mmodel\u001b[0m\u001b[0;34m.\u001b[0m\u001b[0mpredict\u001b[0m\u001b[0;34m(\u001b[0m\u001b[0mX_test\u001b[0m\u001b[0;34m)\u001b[0m\u001b[0;34m\u001b[0m\u001b[0;34m\u001b[0m\u001b[0m\n\u001b[1;32m      4\u001b[0m \u001b[0mprint\u001b[0m\u001b[0;34m(\u001b[0m\u001b[0mmodel\u001b[0m\u001b[0;34m.\u001b[0m\u001b[0mpredict_proba\u001b[0m\u001b[0;34m(\u001b[0m\u001b[0mX_test\u001b[0m\u001b[0;34m)\u001b[0m\u001b[0;34m)\u001b[0m\u001b[0;34m\u001b[0m\u001b[0;34m\u001b[0m\u001b[0m\n\u001b[1;32m      5\u001b[0m \u001b[0mprint\u001b[0m\u001b[0;34m(\u001b[0m\u001b[0mmodel\u001b[0m\u001b[0;34m.\u001b[0m\u001b[0mcoef_\u001b[0m\u001b[0;34m)\u001b[0m\u001b[0;34m\u001b[0m\u001b[0;34m\u001b[0m\u001b[0m\n",
      "\u001b[0;32m~/anaconda3/lib/python3.7/site-packages/sklearn/linear_model/logistic.py\u001b[0m in \u001b[0;36mfit\u001b[0;34m(self, X, y, sample_weight)\u001b[0m\n\u001b[1;32m   1283\u001b[0m \u001b[0;34m\u001b[0m\u001b[0m\n\u001b[1;32m   1284\u001b[0m         X, y = check_X_y(X, y, accept_sparse='csr', dtype=_dtype, order=\"C\",\n\u001b[0;32m-> 1285\u001b[0;31m                          accept_large_sparse=solver != 'liblinear')\n\u001b[0m\u001b[1;32m   1286\u001b[0m         \u001b[0mcheck_classification_targets\u001b[0m\u001b[0;34m(\u001b[0m\u001b[0my\u001b[0m\u001b[0;34m)\u001b[0m\u001b[0;34m\u001b[0m\u001b[0;34m\u001b[0m\u001b[0m\n\u001b[1;32m   1287\u001b[0m         \u001b[0mself\u001b[0m\u001b[0;34m.\u001b[0m\u001b[0mclasses_\u001b[0m \u001b[0;34m=\u001b[0m \u001b[0mnp\u001b[0m\u001b[0;34m.\u001b[0m\u001b[0munique\u001b[0m\u001b[0;34m(\u001b[0m\u001b[0my\u001b[0m\u001b[0;34m)\u001b[0m\u001b[0;34m\u001b[0m\u001b[0;34m\u001b[0m\u001b[0m\n",
      "\u001b[0;32m~/anaconda3/lib/python3.7/site-packages/sklearn/utils/validation.py\u001b[0m in \u001b[0;36mcheck_X_y\u001b[0;34m(X, y, accept_sparse, accept_large_sparse, dtype, order, copy, force_all_finite, ensure_2d, allow_nd, multi_output, ensure_min_samples, ensure_min_features, y_numeric, warn_on_dtype, estimator)\u001b[0m\n\u001b[1;32m    754\u001b[0m                     \u001b[0mensure_min_features\u001b[0m\u001b[0;34m=\u001b[0m\u001b[0mensure_min_features\u001b[0m\u001b[0;34m,\u001b[0m\u001b[0;34m\u001b[0m\u001b[0;34m\u001b[0m\u001b[0m\n\u001b[1;32m    755\u001b[0m                     \u001b[0mwarn_on_dtype\u001b[0m\u001b[0;34m=\u001b[0m\u001b[0mwarn_on_dtype\u001b[0m\u001b[0;34m,\u001b[0m\u001b[0;34m\u001b[0m\u001b[0;34m\u001b[0m\u001b[0m\n\u001b[0;32m--> 756\u001b[0;31m                     estimator=estimator)\n\u001b[0m\u001b[1;32m    757\u001b[0m     \u001b[0;32mif\u001b[0m \u001b[0mmulti_output\u001b[0m\u001b[0;34m:\u001b[0m\u001b[0;34m\u001b[0m\u001b[0;34m\u001b[0m\u001b[0m\n\u001b[1;32m    758\u001b[0m         y = check_array(y, 'csr', force_all_finite=True, ensure_2d=False,\n",
      "\u001b[0;32m~/anaconda3/lib/python3.7/site-packages/sklearn/utils/validation.py\u001b[0m in \u001b[0;36mcheck_array\u001b[0;34m(array, accept_sparse, accept_large_sparse, dtype, order, copy, force_all_finite, ensure_2d, allow_nd, ensure_min_samples, ensure_min_features, warn_on_dtype, estimator)\u001b[0m\n\u001b[1;32m    525\u001b[0m             \u001b[0;32mtry\u001b[0m\u001b[0;34m:\u001b[0m\u001b[0;34m\u001b[0m\u001b[0;34m\u001b[0m\u001b[0m\n\u001b[1;32m    526\u001b[0m                 \u001b[0mwarnings\u001b[0m\u001b[0;34m.\u001b[0m\u001b[0msimplefilter\u001b[0m\u001b[0;34m(\u001b[0m\u001b[0;34m'error'\u001b[0m\u001b[0;34m,\u001b[0m \u001b[0mComplexWarning\u001b[0m\u001b[0;34m)\u001b[0m\u001b[0;34m\u001b[0m\u001b[0;34m\u001b[0m\u001b[0m\n\u001b[0;32m--> 527\u001b[0;31m                 \u001b[0marray\u001b[0m \u001b[0;34m=\u001b[0m \u001b[0mnp\u001b[0m\u001b[0;34m.\u001b[0m\u001b[0masarray\u001b[0m\u001b[0;34m(\u001b[0m\u001b[0marray\u001b[0m\u001b[0;34m,\u001b[0m \u001b[0mdtype\u001b[0m\u001b[0;34m=\u001b[0m\u001b[0mdtype\u001b[0m\u001b[0;34m,\u001b[0m \u001b[0morder\u001b[0m\u001b[0;34m=\u001b[0m\u001b[0morder\u001b[0m\u001b[0;34m)\u001b[0m\u001b[0;34m\u001b[0m\u001b[0;34m\u001b[0m\u001b[0m\n\u001b[0m\u001b[1;32m    528\u001b[0m             \u001b[0;32mexcept\u001b[0m \u001b[0mComplexWarning\u001b[0m\u001b[0;34m:\u001b[0m\u001b[0;34m\u001b[0m\u001b[0;34m\u001b[0m\u001b[0m\n\u001b[1;32m    529\u001b[0m                 raise ValueError(\"Complex data not supported\\n\"\n",
      "\u001b[0;32m~/anaconda3/lib/python3.7/site-packages/numpy/core/numeric.py\u001b[0m in \u001b[0;36masarray\u001b[0;34m(a, dtype, order)\u001b[0m\n\u001b[1;32m    499\u001b[0m \u001b[0;34m\u001b[0m\u001b[0m\n\u001b[1;32m    500\u001b[0m     \"\"\"\n\u001b[0;32m--> 501\u001b[0;31m     \u001b[0;32mreturn\u001b[0m \u001b[0marray\u001b[0m\u001b[0;34m(\u001b[0m\u001b[0ma\u001b[0m\u001b[0;34m,\u001b[0m \u001b[0mdtype\u001b[0m\u001b[0;34m,\u001b[0m \u001b[0mcopy\u001b[0m\u001b[0;34m=\u001b[0m\u001b[0;32mFalse\u001b[0m\u001b[0;34m,\u001b[0m \u001b[0morder\u001b[0m\u001b[0;34m=\u001b[0m\u001b[0morder\u001b[0m\u001b[0;34m)\u001b[0m\u001b[0;34m\u001b[0m\u001b[0;34m\u001b[0m\u001b[0m\n\u001b[0m\u001b[1;32m    502\u001b[0m \u001b[0;34m\u001b[0m\u001b[0m\n\u001b[1;32m    503\u001b[0m \u001b[0;34m\u001b[0m\u001b[0m\n",
      "\u001b[0;31mValueError\u001b[0m: could not convert string to float: 'RL'"
     ]
    }
   ],
   "source": [
    "model = LogisticRegression()\n",
    "model.fit(X_train,y_train)\n",
    "y_pred = model.predict(X_test)\n",
    "print(model.predict_proba(X_test))\n",
    "print(model.coef_)"
   ]
  },
  {
   "cell_type": "code",
   "execution_count": 9,
   "metadata": {},
   "outputs": [
    {
     "ename": "NameError",
     "evalue": "name 'y_test' is not defined",
     "output_type": "error",
     "traceback": [
      "\u001b[0;31m---------------------------------------------------------------------------\u001b[0m",
      "\u001b[0;31mNameError\u001b[0m                                 Traceback (most recent call last)",
      "\u001b[0;32m<ipython-input-9-ce191850d58f>\u001b[0m in \u001b[0;36m<module>\u001b[0;34m\u001b[0m\n\u001b[0;32m----> 1\u001b[0;31m \u001b[0mmetrics\u001b[0m\u001b[0;34m.\u001b[0m\u001b[0mconfusion_matrix\u001b[0m\u001b[0;34m(\u001b[0m\u001b[0my_test\u001b[0m\u001b[0;34m,\u001b[0m \u001b[0my_pred\u001b[0m\u001b[0;34m)\u001b[0m\u001b[0;34m\u001b[0m\u001b[0;34m\u001b[0m\u001b[0m\n\u001b[0m\u001b[1;32m      2\u001b[0m \u001b[0;31m#            Predict No     Predict Yes\u001b[0m\u001b[0;34m\u001b[0m\u001b[0;34m\u001b[0m\u001b[0;34m\u001b[0m\u001b[0m\n\u001b[1;32m      3\u001b[0m \u001b[0;31m#Actual No\u001b[0m\u001b[0;34m\u001b[0m\u001b[0;34m\u001b[0m\u001b[0;34m\u001b[0m\u001b[0m\n\u001b[1;32m      4\u001b[0m \u001b[0;31m#Actual Yes\u001b[0m\u001b[0;34m\u001b[0m\u001b[0;34m\u001b[0m\u001b[0;34m\u001b[0m\u001b[0m\n",
      "\u001b[0;31mNameError\u001b[0m: name 'y_test' is not defined"
     ]
    }
   ],
   "source": [
    "metrics.confusion_matrix(y_test, y_pred)\n",
    "#            Predict No     Predict Yes\n",
    "#Actual No\n",
    "#Actual Yes"
   ]
  },
  {
   "cell_type": "code",
   "execution_count": 10,
   "metadata": {},
   "outputs": [],
   "source": [
    "def logistic_scoring(X, y, scoring, seed=7):\n",
    "    kfold = model_selection.KFold(n_splits=5, random_state=seed)\n",
    "    model = LogisticRegression()\n",
    "    results = model_selection.cross_val_score(model, X, y, cv=kfold, scoring=scoring)\n",
    "    print(\"{0}: {1:.3f} ({2:.3f})\".format(scoring, results.mean(), results.std()))"
   ]
  },
  {
   "cell_type": "code",
   "execution_count": 11,
   "metadata": {},
   "outputs": [
    {
     "ename": "NameError",
     "evalue": "name 'X' is not defined",
     "output_type": "error",
     "traceback": [
      "\u001b[0;31m---------------------------------------------------------------------------\u001b[0m",
      "\u001b[0;31mNameError\u001b[0m                                 Traceback (most recent call last)",
      "\u001b[0;32m<ipython-input-11-1b1632cc7684>\u001b[0m in \u001b[0;36m<module>\u001b[0;34m\u001b[0m\n\u001b[0;32m----> 1\u001b[0;31m \u001b[0mlogistic_scoring\u001b[0m\u001b[0;34m(\u001b[0m\u001b[0mX\u001b[0m\u001b[0;34m,\u001b[0m \u001b[0my\u001b[0m\u001b[0;34m,\u001b[0m \u001b[0;34m'accuracy'\u001b[0m\u001b[0;34m)\u001b[0m\u001b[0;34m\u001b[0m\u001b[0;34m\u001b[0m\u001b[0m\n\u001b[0m\u001b[1;32m      2\u001b[0m \u001b[0mlogistic_scoring\u001b[0m\u001b[0;34m(\u001b[0m\u001b[0mX\u001b[0m\u001b[0;34m,\u001b[0m \u001b[0my\u001b[0m\u001b[0;34m,\u001b[0m \u001b[0;34m'neg_log_loss'\u001b[0m\u001b[0;34m)\u001b[0m\u001b[0;34m\u001b[0m\u001b[0;34m\u001b[0m\u001b[0m\n\u001b[1;32m      3\u001b[0m \u001b[0mlogistic_scoring\u001b[0m\u001b[0;34m(\u001b[0m\u001b[0mX\u001b[0m\u001b[0;34m,\u001b[0m \u001b[0my\u001b[0m\u001b[0;34m,\u001b[0m \u001b[0;34m'roc_auc'\u001b[0m\u001b[0;34m)\u001b[0m\u001b[0;34m\u001b[0m\u001b[0;34m\u001b[0m\u001b[0m\n",
      "\u001b[0;31mNameError\u001b[0m: name 'X' is not defined"
     ]
    }
   ],
   "source": [
    "logistic_scoring(X, y, 'accuracy')\n",
    "logistic_scoring(X, y, 'neg_log_loss')\n",
    "logistic_scoring(X, y, 'roc_auc')"
   ]
  },
  {
   "cell_type": "code",
   "execution_count": null,
   "metadata": {},
   "outputs": [],
   "source": []
  },
  {
   "cell_type": "code",
   "execution_count": null,
   "metadata": {},
   "outputs": [],
   "source": []
  },
  {
   "cell_type": "code",
   "execution_count": null,
   "metadata": {},
   "outputs": [],
   "source": []
  },
  {
   "cell_type": "code",
   "execution_count": null,
   "metadata": {},
   "outputs": [],
   "source": []
  },
  {
   "cell_type": "code",
   "execution_count": null,
   "metadata": {},
   "outputs": [],
   "source": []
  },
  {
   "cell_type": "code",
   "execution_count": null,
   "metadata": {},
   "outputs": [],
   "source": []
  }
 ],
 "metadata": {
  "kernelspec": {
   "display_name": "Python 3",
   "language": "python",
   "name": "python3"
  },
  "language_info": {
   "codemirror_mode": {
    "name": "ipython",
    "version": 3
   },
   "file_extension": ".py",
   "mimetype": "text/x-python",
   "name": "python",
   "nbconvert_exporter": "python",
   "pygments_lexer": "ipython3",
   "version": "3.7.1"
  }
 },
 "nbformat": 4,
 "nbformat_minor": 2
}
