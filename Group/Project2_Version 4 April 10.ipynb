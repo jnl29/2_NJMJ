{
 "cells": [
  {
   "cell_type": "markdown",
   "metadata": {},
   "source": [
    "# Project 2: Group 1: Predicting Housing Prices\n"
   ]
  },
  {
   "cell_type": "markdown",
   "metadata": {},
   "source": [
    "### Group Members:\n"
   ]
  },
  {
   "cell_type": "code",
   "execution_count": 68,
   "metadata": {},
   "outputs": [
    {
     "name": "stdout",
     "output_type": "stream",
     "text": [
      "Jessica Lozano\n",
      "Joeseph Perri\n",
      "Marc-tabin\n",
      "Nesreen El-Rayes\n"
     ]
    }
   ],
   "source": [
    "print  (\"Jessica Lozano\")\n",
    "print (\"Joeseph Perri\")\n",
    "print (\"Marc-tabin\") \n",
    "print (\"Nesreen El-Rayes\")"
   ]
  },
  {
   "cell_type": "markdown",
   "metadata": {},
   "source": [
    "## Objective:\n",
    "\n",
    "The objective of the project is to predict the price of houes based on different features.  The data set is \"Ames Housing Data Set\".\n",
    "\n",
    "\"The Ames Housing dataset was compiled by Dean De Cock for use in data science education. It's an incredible alternative for data scientists looking for a modernized and expanded version of the often cited Boston Housing dataset.\"\n",
    "\n",
    "The Data set is compose of 81 Features (Excluding the Target Variable: Price of House), and 2919 records. The features varies between quantitative and qualitative variables and the objective is to find the features that best help predicting the Sales Price of a house(Target).\n"
   ]
  },
  {
   "cell_type": "markdown",
   "metadata": {},
   "source": [
    "## Libraries Use:"
   ]
  },
  {
   "cell_type": "code",
   "execution_count": 69,
   "metadata": {},
   "outputs": [
    {
     "ename": "ImportError",
     "evalue": "No module named graphviz",
     "output_type": "error",
     "traceback": [
      "\u001b[1;31m---------------------------------------------------------------------------\u001b[0m",
      "\u001b[1;31mImportError\u001b[0m                               Traceback (most recent call last)",
      "\u001b[1;32m<ipython-input-69-d11542c41e62>\u001b[0m in \u001b[0;36m<module>\u001b[1;34m()\u001b[0m\n\u001b[0;32m     20\u001b[0m \u001b[1;32mfrom\u001b[0m \u001b[0msklearn\u001b[0m\u001b[1;33m.\u001b[0m\u001b[0mexternals\u001b[0m\u001b[1;33m.\u001b[0m\u001b[0msix\u001b[0m \u001b[1;32mimport\u001b[0m \u001b[0mStringIO\u001b[0m\u001b[1;33m\u001b[0m\u001b[0m\n\u001b[0;32m     21\u001b[0m \u001b[1;32mfrom\u001b[0m \u001b[0mIPython\u001b[0m\u001b[1;33m.\u001b[0m\u001b[0mdisplay\u001b[0m \u001b[1;32mimport\u001b[0m \u001b[0mImage\u001b[0m\u001b[1;33m\u001b[0m\u001b[0m\n\u001b[1;32m---> 22\u001b[1;33m \u001b[1;32mimport\u001b[0m \u001b[0mgraphviz\u001b[0m\u001b[1;33m\u001b[0m\u001b[0m\n\u001b[0m\u001b[0;32m     23\u001b[0m \u001b[1;32mfrom\u001b[0m \u001b[0msklearn\u001b[0m\u001b[1;33m.\u001b[0m\u001b[0mtree\u001b[0m \u001b[1;32mimport\u001b[0m \u001b[0mexport_graphviz\u001b[0m\u001b[1;33m\u001b[0m\u001b[0m\n\u001b[0;32m     24\u001b[0m \u001b[1;32mfrom\u001b[0m \u001b[0msklearn\u001b[0m\u001b[1;33m.\u001b[0m\u001b[0mmetrics\u001b[0m \u001b[1;32mimport\u001b[0m \u001b[0maccuracy_score\u001b[0m\u001b[1;33m\u001b[0m\u001b[0m\n",
      "\u001b[1;31mImportError\u001b[0m: No module named graphviz"
     ]
    }
   ],
   "source": [
    "import pandas as pd\n",
    "import numpy as np\n",
    "from sklearn.linear_model import LogisticRegression\n",
    "from sklearn import datasets, linear_model\n",
    "from sklearn import model_selection, metrics, preprocessing\n",
    "from sklearn.decomposition import PCA\n",
    "from sklearn import tree\n",
    "from sklearn.metrics import mean_squared_error, r2_score\n",
    "import matplotlib.pyplot as plt\n",
    "from sklearn.externals.six import StringIO\n",
    "from IPython.display import Image\n",
    "from scipy import stats\n",
    "import seaborn as sns\n",
    "from scipy import stats\n",
    "from sklearn.linear_model import Lasso, LassoLarsIC\n",
    "from sklearn.pipeline import make_pipeline\n",
    "from sklearn.model_selection import KFold, cross_val_score, train_test_split\n",
    "from sklearn.preprocessing import RobustScaler\n",
    "from sklearn import tree\n",
    "from sklearn.externals.six import StringIO\n",
    "from IPython.display import Image\n",
    "import graphviz\n",
    "from sklearn.tree import export_graphviz\n",
    "from sklearn.metrics import accuracy_score\n",
    "from sklearn.metrics import mean_absolute_error\n",
    "from sklearn.tree import DecisionTreeRegressor, DecisionTreeClassifier\n",
    "from sklearn.datasets import make_regression"
   ]
  },
  {
   "cell_type": "markdown",
   "metadata": {},
   "source": [
    "## Data Description:"
   ]
  },
  {
   "cell_type": "code",
   "execution_count": 70,
   "metadata": {
    "scrolled": true
   },
   "outputs": [
    {
     "name": "stdout",
     "output_type": "stream",
     "text": [
      "''''\n",
      "Data fields\n",
      "Here's a brief version of what you'll find in the data description file.\n",
      "\n",
      "SalePrice - the property's sale price in dollars. This is the target variable that you're trying to predict.\n",
      "MSSubClass: The building class\n",
      "MSZoning: The general zoning classification\n",
      "LotFrontage: Linear feet of street connected to property\n",
      "LotArea: Lot size in square feet\n",
      "Street: Type of road access\n",
      "Alley: Type of alley access\n",
      "LotShape: General shape of property\n",
      "LandContour: Flatness of the property\n",
      "Utilities: Type of utilities available\n",
      "LotConfig: Lot configuration\n",
      "LandSlope: Slope of property\n",
      "Neighborhood: Physical locations within Ames city limits\n",
      "Condition1: Proximity to main road or railroad\n",
      "Condition2: Proximity to main road or railroad (if a second is present)\n",
      "BldgType: Type of dwelling\n",
      "HouseStyle: Style of dwelling\n",
      "OverallQual: Overall material and finish quality\n",
      "OverallCond: Overall condition rating\n",
      "YearBuilt: Original construction date\n",
      "YearRemodAdd: Remodel date\n",
      "RoofStyle: Type of roof\n",
      "RoofMatl: Roof material\n",
      "Exterior1st: Exterior covering on house\n",
      "Exterior2nd: Exterior covering on house (if more than one material)\n",
      "MasVnrType: Masonry veneer type\n",
      "MasVnrArea: Masonry veneer area in square feet\n",
      "ExterQual: Exterior material quality\n",
      "ExterCond: Present condition of the material on the exterior\n",
      "Foundation: Type of foundation\n",
      "BsmtQual: Height of the basement\n",
      "BsmtCond: General condition of the basement\n",
      "BsmtExposure: Walkout or garden level basement walls\n",
      "BsmtFinType1: Quality of basement finished area\n",
      "BsmtFinSF1: Type 1 finished square feet\n",
      "BsmtFinType2: Quality of second finished area (if present)\n",
      "BsmtFinSF2: Type 2 finished square feet\n",
      "BsmtUnfSF: Unfinished square feet of basement area\n",
      "TotalBsmtSF: Total square feet of basement area\n",
      "Heating: Type of heating\n",
      "HeatingQC: Heating quality and condition\n",
      "CentralAir: Central air conditioning\n",
      "Electrical: Electrical system\n",
      "1stFlrSF: First Floor square feet\n",
      "2ndFlrSF: Second floor square feet\n",
      "LowQualFinSF: Low quality finished square feet (all floors)\n",
      "GrLivArea: Above grade (ground) living area square feet\n",
      "BsmtFullBath: Basement full bathrooms\n",
      "BsmtHalfBath: Basement half bathrooms\n",
      "FullBath: Full bathrooms above grade\n",
      "HalfBath: Half baths above grade\n",
      "Bedroom: Number of bedrooms above basement level\n",
      "Kitchen: Number of kitchens\n",
      "KitchenQual: Kitchen quality\n",
      "TotRmsAbvGrd: Total rooms above grade (does not include bathrooms)\n",
      "Functional: Home functionality rating\n",
      "Fireplaces: Number of fireplaces\n",
      "FireplaceQu: Fireplace quality\n",
      "GarageType: Garage location\n",
      "GarageYrBlt: Year garage was built\n",
      "GarageFinish: Interior finish of the garage\n",
      "GarageCars: Size of garage in car capacity\n",
      "GarageArea: Size of garage in square feet\n",
      "GarageQual: Garage quality\n",
      "GarageCond: Garage condition\n",
      "PavedDrive: Paved driveway\n",
      "WoodDeckSF: Wood deck area in square feet\n",
      "OpenPorchSF: Open porch area in square feet\n",
      "EnclosedPorch: Enclosed porch area in square feet\n",
      "3SsnPorch: Three season porch area in square feet\n",
      "ScreenPorch: Screen porch area in square feet\n",
      "PoolArea: Pool area in square feet\n",
      "PoolQC: Pool quality\n",
      "Fence: Fence quality\n",
      "MiscFeature: Miscellaneous feature not covered in other categories\n",
      "MiscVal: $Value of miscellaneous feature\n",
      "MoSold: Month Sold\n",
      "YrSold: Year Sold\n",
      "SaleType: Type of sale\n",
      "SaleCondition: Condition of sale\n",
      "    \n",
      "''''\n"
     ]
    }
   ],
   "source": [
    "myfile=open(\"example.txt\") \n",
    "txt = myfile.read()\n",
    "print(txt)"
   ]
  },
  {
   "cell_type": "markdown",
   "metadata": {},
   "source": [
    "## Data Cleaning and Preparation:"
   ]
  },
  {
   "cell_type": "markdown",
   "metadata": {},
   "source": [
    "Each feature is supposed to have 2919 values, the features that have more than 2000 null \n",
    "cells were excluded. Out of the 79 features, 4 columns had this case, which are: 'Alley','PoolQC','Fence','MiscFeature'.\n",
    "\n",
    "The output below shows a sample of the first 6 records across the features.\n"
   ]
  },
  {
   "cell_type": "code",
   "execution_count": 71,
   "metadata": {},
   "outputs": [
    {
     "name": "stdout",
     "output_type": "stream",
     "text": [
      "   Id  MSSubClass MSZoning  LotFrontage  LotArea Street LotShape LandContour  \\\n",
      "1   2          20       RL         80.0     9600   Pave      Reg         Lvl   \n",
      "2   3          60       RL         68.0    11250   Pave      IR1         Lvl   \n",
      "3   4          70       RL         60.0     9550   Pave      IR1         Lvl   \n",
      "4   5          60       RL         84.0    14260   Pave      IR1         Lvl   \n",
      "6   7          20       RL         75.0    10084   Pave      Reg         Lvl   \n",
      "\n",
      "  Utilities LotConfig    ...     EnclosedPorch 3SsnPorch ScreenPorch PoolArea  \\\n",
      "1    AllPub       FR2    ...                 0         0           0        0   \n",
      "2    AllPub    Inside    ...                 0         0           0        0   \n",
      "3    AllPub    Corner    ...               272         0           0        0   \n",
      "4    AllPub       FR2    ...                 0         0           0        0   \n",
      "6    AllPub    Inside    ...                 0         0           0        0   \n",
      "\n",
      "  MiscVal MoSold  Soldfrom  SaleType  SaleCondition  SalePrice  \n",
      "1       0      5        12        WD         Normal   181500.0  \n",
      "2       0      9        11        WD         Normal   223500.0  \n",
      "3       0      2        13        WD        Abnorml   140000.0  \n",
      "4       0     12        11        WD         Normal   250000.0  \n",
      "6       0      8        12        WD         Normal   307000.0  \n",
      "\n",
      "[5 rows x 77 columns]\n"
     ]
    }
   ],
   "source": [
    "raw_df = pd.read_csv('housingdata.csv')\n",
    "raw_df.drop(columns=['Alley','PoolQC','Fence','MiscFeature'],axis=1,inplace=True)\n",
    "raw_df.dropna(inplace=True)\n",
    "\n",
    "print(raw_df.head())"
   ]
  },
  {
   "cell_type": "markdown",
   "metadata": {},
   "source": [
    "### Null Values:"
   ]
  },
  {
   "cell_type": "markdown",
   "metadata": {},
   "source": [
    "The output below shows the nulls were removed from all the features."
   ]
  },
  {
   "cell_type": "code",
   "execution_count": 72,
   "metadata": {
    "scrolled": true
   },
   "outputs": [
    {
     "name": "stdout",
     "output_type": "stream",
     "text": [
      "Id               0\n",
      "MSSubClass       0\n",
      "MSZoning         0\n",
      "LotFrontage      0\n",
      "LotArea          0\n",
      "Street           0\n",
      "LotShape         0\n",
      "LandContour      0\n",
      "Utilities        0\n",
      "LotConfig        0\n",
      "LandSlope        0\n",
      "Neighborhood     0\n",
      "Condition1       0\n",
      "Condition2       0\n",
      "BldgType         0\n",
      "HouseStyle       0\n",
      "OverallQual      0\n",
      "OverallCond      0\n",
      "YearBuilt        0\n",
      "YearRemodAdd     0\n",
      "RoofStyle        0\n",
      "RoofMatl         0\n",
      "Exterior1st      0\n",
      "Exterior2nd      0\n",
      "MasVnrType       0\n",
      "MasVnrArea       0\n",
      "ExterQual        0\n",
      "ExterCond        0\n",
      "Foundation       0\n",
      "BsmtQual         0\n",
      "                ..\n",
      "BsmtHalfBath     0\n",
      "FullBath         0\n",
      "HalfBath         0\n",
      "BedroomAbvGr     0\n",
      "KitchenAbvGr     0\n",
      "KitchenQual      0\n",
      "TotRmsAbvGrd     0\n",
      "Functional       0\n",
      "Fireplaces       0\n",
      "FireplaceQu      0\n",
      "GarageType       0\n",
      "GarageYrBlt      0\n",
      "GarageFinish     0\n",
      "GarageCars       0\n",
      "GarageArea       0\n",
      "GarageQual       0\n",
      "GarageCond       0\n",
      "PavedDrive       0\n",
      "WoodDeckSF       0\n",
      "OpenPorchSF      0\n",
      "EnclosedPorch    0\n",
      "3SsnPorch        0\n",
      "ScreenPorch      0\n",
      "PoolArea         0\n",
      "MiscVal          0\n",
      "MoSold           0\n",
      "Soldfrom         0\n",
      "SaleType         0\n",
      "SaleCondition    0\n",
      "SalePrice        0\n",
      "Length: 77, dtype: int64\n"
     ]
    }
   ],
   "source": [
    "print(raw_df.isnull().sum(axis=0))\n"
   ]
  },
  {
   "cell_type": "markdown",
   "metadata": {},
   "source": [
    "# Visualization"
   ]
  },
  {
   "cell_type": "markdown",
   "metadata": {},
   "source": [
    "The following section includes charts that gives further viual representation for the data set.\n",
    "The charts included below are:\n",
    "1. Bar Chart\n",
    "2. Histogram\n",
    "3. Scatter Plot\n",
    "4. Heat Map\n",
    "5. Violin Plot"
   ]
  },
  {
   "cell_type": "markdown",
   "metadata": {},
   "source": [
    "The function below counts the frequency for the Chars."
   ]
  },
  {
   "cell_type": "code",
   "execution_count": 73,
   "metadata": {},
   "outputs": [],
   "source": [
    "def col_count_plot(col):\n",
    "    data = raw_df[col]\n",
    "    names = data.value_counts().index\n",
    "    values = data.value_counts().values\n",
    "    pos = range(len(values))\n",
    "    plt.bar(pos, values)\n",
    "    plt.xticks(pos, names)\n",
    "    plt.ylabel('Count')\n",
    "    plt.title(col)\n",
    "    plt.show()"
   ]
  },
  {
   "cell_type": "markdown",
   "metadata": {},
   "source": [
    "#### Bar Chart:"
   ]
  },
  {
   "cell_type": "code",
   "execution_count": 74,
   "metadata": {},
   "outputs": [
    {
     "name": "stdout",
     "output_type": "stream",
     "text": [
      "Grliv Ar: Above grade (ground) living area square feet\n"
     ]
    },
    {
     "data": {
      "image/png": "[encoded data removed]",
      "text/plain": [
       "<Figure size 432x288 with 1 Axes>"
      ]
     },
     "metadata": {
      "needs_background": "light"
     },
     "output_type": "display_data"
    },
    {
     "name": "stdout",
     "output_type": "stream",
     "text": [
      "OverallQual: Rates the overall material and finish of the house\n"
     ]
    },
    {
     "data": {
      "image/png": "[encoded data removed]",
      "text/plain": [
       "<Figure size 432x288 with 1 Axes>"
      ]
     },
     "metadata": {
      "needs_background": "light"
     },
     "output_type": "display_data"
    },
    {
     "name": "stdout",
     "output_type": "stream",
     "text": [
      "Garage Cars Capacity\n"
     ]
    },
    {
     "data": {
      "image/png": "[encoded data removed]",
      "text/plain": [
       "<Figure size 432x288 with 1 Axes>"
      ]
     },
     "metadata": {
      "needs_background": "light"
     },
     "output_type": "display_data"
    },
    {
     "name": "stdout",
     "output_type": "stream",
     "text": [
      "Total Rooms above Grade without Bathroom\n"
     ]
    },
    {
     "data": {
      "image/png": "[encoded data removed]",
      "text/plain": [
       "<Figure size 432x288 with 1 Axes>"
      ]
     },
     "metadata": {
      "needs_background": "light"
     },
     "output_type": "display_data"
    }
   ],
   "source": [
    "#bar charts\n",
    "print ('Grliv Ar: Above grade (ground) living area square feet')\n",
    "col_count_plot('GrLivArea') \n",
    "\n",
    "print ('OverallQual: Rates the overall material and finish of the house')\n",
    "col_count_plot('OverallQual') \n",
    "\n",
    "print ('Garage Cars Capacity')\n",
    "col_count_plot('GarageCars')\n",
    "\n",
    "print ('Total Rooms above Grade without Bathroom')\n",
    "col_count_plot('TotRmsAbvGrd')"
   ]
  },
  {
   "cell_type": "markdown",
   "metadata": {},
   "source": [
    "#### Histogram:"
   ]
  },
  {
   "cell_type": "code",
   "execution_count": null,
   "metadata": {},
   "outputs": [],
   "source": [
    "The histogram shows the distribution of prices of houses."
   ]
  },
  {
   "cell_type": "code",
   "execution_count": 45,
   "metadata": {},
   "outputs": [
    {
     "data": {
      "image/png": "[encoded data removed]",
      "text/plain": [
       "<Figure size 432x288 with 1 Axes>"
      ]
     },
     "metadata": {
      "needs_background": "light"
     },
     "output_type": "display_data"
    }
   ],
   "source": [
    "#histogram chart\n",
    "raw_df.iloc[:,76].hist(grid=True, bins=20, rwidth=0.9,color='#607c8e')\n",
    "plt.title('Sales Price Histogram')\n",
    "plt.xlabel('Counts')\n",
    "plt.ylabel('Sales Price')\n",
    "plt.grid(axis='y', alpha=0.75)"
   ]
  },
  {
   "cell_type": "markdown",
   "metadata": {},
   "source": [
    "#### Scatter Diagram:"
   ]
  },
  {
   "cell_type": "markdown",
   "metadata": {},
   "source": [
    "Scatter Plot shows the correlation between the year where the house was built and the price. \n",
    "It shows that the data set has more data points for houses built in the last 50 years. \n"
   ]
  },
  {
   "cell_type": "code",
   "execution_count": 9,
   "metadata": {},
   "outputs": [
    {
     "data": {
      "text/plain": [
       "Text(0,0.5,'Sale Price')"
      ]
     },
     "execution_count": 9,
     "metadata": {},
     "output_type": "execute_result"
    },
    {
     "data": {
      "image/png": "[encoded data removed]",
      "text/plain": [
       "<Figure size 432x288 with 1 Axes>"
      ]
     },
     "metadata": {
      "needs_background": "light"
     },
     "output_type": "display_data"
    }
   ],
   "source": [
    "plt.scatter(raw_df['YearBuilt'],raw_df['SalePrice'])\n",
    "plt.title('Scatter plot Years Built Vs. Sale Price')\n",
    "plt.xlabel('Years Built')\n",
    "plt.ylabel('Sale Price')"
   ]
  },
  {
   "cell_type": "markdown",
   "metadata": {},
   "source": [
    "# Coding Categorical Data\n",
    "# Marc Edit"
   ]
  },
  {
   "cell_type": "code",
   "execution_count": 82,
   "metadata": {},
   "outputs": [
    {
     "ename": "KeyError",
     "evalue": "'MSZoning'",
     "output_type": "error",
     "traceback": [
      "\u001b[1;31m---------------------------------------------------------------------------\u001b[0m",
      "\u001b[1;31mKeyError\u001b[0m                                  Traceback (most recent call last)",
      "\u001b[1;32m<ipython-input-82-3bff0cc23d9a>\u001b[0m in \u001b[0;36m<module>\u001b[1;34m()\u001b[0m\n\u001b[0;32m      2\u001b[0m \u001b[1;31m#shows all types of each attribute\u001b[0m\u001b[1;33m\u001b[0m\u001b[1;33m\u001b[0m\u001b[0m\n\u001b[0;32m      3\u001b[0m \u001b[1;33m\u001b[0m\u001b[0m\n\u001b[1;32m----> 4\u001b[1;33m \u001b[0mraw_df\u001b[0m\u001b[1;33m[\u001b[0m\u001b[1;34m'MSZoning'\u001b[0m\u001b[1;33m]\u001b[0m \u001b[1;33m=\u001b[0m \u001b[0mraw_df\u001b[0m\u001b[1;33m[\u001b[0m\u001b[1;34m'MSZoning'\u001b[0m\u001b[1;33m]\u001b[0m\u001b[1;33m.\u001b[0m\u001b[0mastype\u001b[0m\u001b[1;33m(\u001b[0m\u001b[1;34m'category'\u001b[0m\u001b[1;33m)\u001b[0m\u001b[1;33m\u001b[0m\u001b[0m\n\u001b[0m\u001b[0;32m      5\u001b[0m \u001b[0mraw_df\u001b[0m\u001b[1;33m[\u001b[0m\u001b[1;34m'Street'\u001b[0m\u001b[1;33m]\u001b[0m \u001b[1;33m=\u001b[0m \u001b[0mraw_df\u001b[0m\u001b[1;33m[\u001b[0m\u001b[1;34m'Street'\u001b[0m\u001b[1;33m]\u001b[0m\u001b[1;33m.\u001b[0m\u001b[0mastype\u001b[0m\u001b[1;33m(\u001b[0m\u001b[1;34m'category'\u001b[0m\u001b[1;33m)\u001b[0m\u001b[1;33m\u001b[0m\u001b[0m\n\u001b[0;32m      6\u001b[0m \u001b[0mraw_df\u001b[0m\u001b[1;33m[\u001b[0m\u001b[1;34m'LotShape'\u001b[0m\u001b[1;33m]\u001b[0m \u001b[1;33m=\u001b[0m \u001b[0mraw_df\u001b[0m\u001b[1;33m[\u001b[0m\u001b[1;34m'LotShape'\u001b[0m\u001b[1;33m]\u001b[0m\u001b[1;33m.\u001b[0m\u001b[0mastype\u001b[0m\u001b[1;33m(\u001b[0m\u001b[1;34m'category'\u001b[0m\u001b[1;33m)\u001b[0m\u001b[1;33m\u001b[0m\u001b[0m\n",
      "\u001b[1;32mC:\\Users\\nelrayes\\AppData\\Local\\Continuum\\anaconda2\\lib\\site-packages\\pandas\\core\\frame.pyc\u001b[0m in \u001b[0;36m__getitem__\u001b[1;34m(self, key)\u001b[0m\n\u001b[0;32m   2686\u001b[0m             \u001b[1;32mreturn\u001b[0m \u001b[0mself\u001b[0m\u001b[1;33m.\u001b[0m\u001b[0m_getitem_multilevel\u001b[0m\u001b[1;33m(\u001b[0m\u001b[0mkey\u001b[0m\u001b[1;33m)\u001b[0m\u001b[1;33m\u001b[0m\u001b[0m\n\u001b[0;32m   2687\u001b[0m         \u001b[1;32melse\u001b[0m\u001b[1;33m:\u001b[0m\u001b[1;33m\u001b[0m\u001b[0m\n\u001b[1;32m-> 2688\u001b[1;33m             \u001b[1;32mreturn\u001b[0m \u001b[0mself\u001b[0m\u001b[1;33m.\u001b[0m\u001b[0m_getitem_column\u001b[0m\u001b[1;33m(\u001b[0m\u001b[0mkey\u001b[0m\u001b[1;33m)\u001b[0m\u001b[1;33m\u001b[0m\u001b[0m\n\u001b[0m\u001b[0;32m   2689\u001b[0m \u001b[1;33m\u001b[0m\u001b[0m\n\u001b[0;32m   2690\u001b[0m     \u001b[1;32mdef\u001b[0m \u001b[0m_getitem_column\u001b[0m\u001b[1;33m(\u001b[0m\u001b[0mself\u001b[0m\u001b[1;33m,\u001b[0m \u001b[0mkey\u001b[0m\u001b[1;33m)\u001b[0m\u001b[1;33m:\u001b[0m\u001b[1;33m\u001b[0m\u001b[0m\n",
      "\u001b[1;32mC:\\Users\\nelrayes\\AppData\\Local\\Continuum\\anaconda2\\lib\\site-packages\\pandas\\core\\frame.pyc\u001b[0m in \u001b[0;36m_getitem_column\u001b[1;34m(self, key)\u001b[0m\n\u001b[0;32m   2693\u001b[0m         \u001b[1;31m# get column\u001b[0m\u001b[1;33m\u001b[0m\u001b[1;33m\u001b[0m\u001b[0m\n\u001b[0;32m   2694\u001b[0m         \u001b[1;32mif\u001b[0m \u001b[0mself\u001b[0m\u001b[1;33m.\u001b[0m\u001b[0mcolumns\u001b[0m\u001b[1;33m.\u001b[0m\u001b[0mis_unique\u001b[0m\u001b[1;33m:\u001b[0m\u001b[1;33m\u001b[0m\u001b[0m\n\u001b[1;32m-> 2695\u001b[1;33m             \u001b[1;32mreturn\u001b[0m \u001b[0mself\u001b[0m\u001b[1;33m.\u001b[0m\u001b[0m_get_item_cache\u001b[0m\u001b[1;33m(\u001b[0m\u001b[0mkey\u001b[0m\u001b[1;33m)\u001b[0m\u001b[1;33m\u001b[0m\u001b[0m\n\u001b[0m\u001b[0;32m   2696\u001b[0m \u001b[1;33m\u001b[0m\u001b[0m\n\u001b[0;32m   2697\u001b[0m         \u001b[1;31m# duplicate columns & possible reduce dimensionality\u001b[0m\u001b[1;33m\u001b[0m\u001b[1;33m\u001b[0m\u001b[0m\n",
      "\u001b[1;32mC:\\Users\\nelrayes\\AppData\\Local\\Continuum\\anaconda2\\lib\\site-packages\\pandas\\core\\generic.pyc\u001b[0m in \u001b[0;36m_get_item_cache\u001b[1;34m(self, item)\u001b[0m\n\u001b[0;32m   2487\u001b[0m         \u001b[0mres\u001b[0m \u001b[1;33m=\u001b[0m \u001b[0mcache\u001b[0m\u001b[1;33m.\u001b[0m\u001b[0mget\u001b[0m\u001b[1;33m(\u001b[0m\u001b[0mitem\u001b[0m\u001b[1;33m)\u001b[0m\u001b[1;33m\u001b[0m\u001b[0m\n\u001b[0;32m   2488\u001b[0m         \u001b[1;32mif\u001b[0m \u001b[0mres\u001b[0m \u001b[1;32mis\u001b[0m \u001b[0mNone\u001b[0m\u001b[1;33m:\u001b[0m\u001b[1;33m\u001b[0m\u001b[0m\n\u001b[1;32m-> 2489\u001b[1;33m             \u001b[0mvalues\u001b[0m \u001b[1;33m=\u001b[0m \u001b[0mself\u001b[0m\u001b[1;33m.\u001b[0m\u001b[0m_data\u001b[0m\u001b[1;33m.\u001b[0m\u001b[0mget\u001b[0m\u001b[1;33m(\u001b[0m\u001b[0mitem\u001b[0m\u001b[1;33m)\u001b[0m\u001b[1;33m\u001b[0m\u001b[0m\n\u001b[0m\u001b[0;32m   2490\u001b[0m             \u001b[0mres\u001b[0m \u001b[1;33m=\u001b[0m \u001b[0mself\u001b[0m\u001b[1;33m.\u001b[0m\u001b[0m_box_item_values\u001b[0m\u001b[1;33m(\u001b[0m\u001b[0mitem\u001b[0m\u001b[1;33m,\u001b[0m \u001b[0mvalues\u001b[0m\u001b[1;33m)\u001b[0m\u001b[1;33m\u001b[0m\u001b[0m\n\u001b[0;32m   2491\u001b[0m             \u001b[0mcache\u001b[0m\u001b[1;33m[\u001b[0m\u001b[0mitem\u001b[0m\u001b[1;33m]\u001b[0m \u001b[1;33m=\u001b[0m \u001b[0mres\u001b[0m\u001b[1;33m\u001b[0m\u001b[0m\n",
      "\u001b[1;32mC:\\Users\\nelrayes\\AppData\\Local\\Continuum\\anaconda2\\lib\\site-packages\\pandas\\core\\internals.pyc\u001b[0m in \u001b[0;36mget\u001b[1;34m(self, item, fastpath)\u001b[0m\n\u001b[0;32m   4113\u001b[0m \u001b[1;33m\u001b[0m\u001b[0m\n\u001b[0;32m   4114\u001b[0m             \u001b[1;32mif\u001b[0m \u001b[1;32mnot\u001b[0m \u001b[0misna\u001b[0m\u001b[1;33m(\u001b[0m\u001b[0mitem\u001b[0m\u001b[1;33m)\u001b[0m\u001b[1;33m:\u001b[0m\u001b[1;33m\u001b[0m\u001b[0m\n\u001b[1;32m-> 4115\u001b[1;33m                 \u001b[0mloc\u001b[0m \u001b[1;33m=\u001b[0m \u001b[0mself\u001b[0m\u001b[1;33m.\u001b[0m\u001b[0mitems\u001b[0m\u001b[1;33m.\u001b[0m\u001b[0mget_loc\u001b[0m\u001b[1;33m(\u001b[0m\u001b[0mitem\u001b[0m\u001b[1;33m)\u001b[0m\u001b[1;33m\u001b[0m\u001b[0m\n\u001b[0m\u001b[0;32m   4116\u001b[0m             \u001b[1;32melse\u001b[0m\u001b[1;33m:\u001b[0m\u001b[1;33m\u001b[0m\u001b[0m\n\u001b[0;32m   4117\u001b[0m                 \u001b[0mindexer\u001b[0m \u001b[1;33m=\u001b[0m \u001b[0mnp\u001b[0m\u001b[1;33m.\u001b[0m\u001b[0marange\u001b[0m\u001b[1;33m(\u001b[0m\u001b[0mlen\u001b[0m\u001b[1;33m(\u001b[0m\u001b[0mself\u001b[0m\u001b[1;33m.\u001b[0m\u001b[0mitems\u001b[0m\u001b[1;33m)\u001b[0m\u001b[1;33m)\u001b[0m\u001b[1;33m[\u001b[0m\u001b[0misna\u001b[0m\u001b[1;33m(\u001b[0m\u001b[0mself\u001b[0m\u001b[1;33m.\u001b[0m\u001b[0mitems\u001b[0m\u001b[1;33m)\u001b[0m\u001b[1;33m]\u001b[0m\u001b[1;33m\u001b[0m\u001b[0m\n",
      "\u001b[1;32mC:\\Users\\nelrayes\\AppData\\Local\\Continuum\\anaconda2\\lib\\site-packages\\pandas\\core\\indexes\\base.pyc\u001b[0m in \u001b[0;36mget_loc\u001b[1;34m(self, key, method, tolerance)\u001b[0m\n\u001b[0;32m   3078\u001b[0m                 \u001b[1;32mreturn\u001b[0m \u001b[0mself\u001b[0m\u001b[1;33m.\u001b[0m\u001b[0m_engine\u001b[0m\u001b[1;33m.\u001b[0m\u001b[0mget_loc\u001b[0m\u001b[1;33m(\u001b[0m\u001b[0mkey\u001b[0m\u001b[1;33m)\u001b[0m\u001b[1;33m\u001b[0m\u001b[0m\n\u001b[0;32m   3079\u001b[0m             \u001b[1;32mexcept\u001b[0m \u001b[0mKeyError\u001b[0m\u001b[1;33m:\u001b[0m\u001b[1;33m\u001b[0m\u001b[0m\n\u001b[1;32m-> 3080\u001b[1;33m                 \u001b[1;32mreturn\u001b[0m \u001b[0mself\u001b[0m\u001b[1;33m.\u001b[0m\u001b[0m_engine\u001b[0m\u001b[1;33m.\u001b[0m\u001b[0mget_loc\u001b[0m\u001b[1;33m(\u001b[0m\u001b[0mself\u001b[0m\u001b[1;33m.\u001b[0m\u001b[0m_maybe_cast_indexer\u001b[0m\u001b[1;33m(\u001b[0m\u001b[0mkey\u001b[0m\u001b[1;33m)\u001b[0m\u001b[1;33m)\u001b[0m\u001b[1;33m\u001b[0m\u001b[0m\n\u001b[0m\u001b[0;32m   3081\u001b[0m \u001b[1;33m\u001b[0m\u001b[0m\n\u001b[0;32m   3082\u001b[0m         \u001b[0mindexer\u001b[0m \u001b[1;33m=\u001b[0m \u001b[0mself\u001b[0m\u001b[1;33m.\u001b[0m\u001b[0mget_indexer\u001b[0m\u001b[1;33m(\u001b[0m\u001b[1;33m[\u001b[0m\u001b[0mkey\u001b[0m\u001b[1;33m]\u001b[0m\u001b[1;33m,\u001b[0m \u001b[0mmethod\u001b[0m\u001b[1;33m=\u001b[0m\u001b[0mmethod\u001b[0m\u001b[1;33m,\u001b[0m \u001b[0mtolerance\u001b[0m\u001b[1;33m=\u001b[0m\u001b[0mtolerance\u001b[0m\u001b[1;33m)\u001b[0m\u001b[1;33m\u001b[0m\u001b[0m\n",
      "\u001b[1;32mpandas\\_libs\\index.pyx\u001b[0m in \u001b[0;36mpandas._libs.index.IndexEngine.get_loc\u001b[1;34m()\u001b[0m\n",
      "\u001b[1;32mpandas\\_libs\\index.pyx\u001b[0m in \u001b[0;36mpandas._libs.index.IndexEngine.get_loc\u001b[1;34m()\u001b[0m\n",
      "\u001b[1;32mpandas\\_libs\\hashtable_class_helper.pxi\u001b[0m in \u001b[0;36mpandas._libs.hashtable.PyObjectHashTable.get_item\u001b[1;34m()\u001b[0m\n",
      "\u001b[1;32mpandas\\_libs\\hashtable_class_helper.pxi\u001b[0m in \u001b[0;36mpandas._libs.hashtable.PyObjectHashTable.get_item\u001b[1;34m()\u001b[0m\n",
      "\u001b[1;31mKeyError\u001b[0m: 'MSZoning'"
     ]
    }
   ],
   "source": [
    "#print(raw_df.dtypes) \n",
    "#shows all types of each attribute\n",
    "\n",
    "raw_df['MSZoning'] = raw_df['MSZoning'].astype('category')\n",
    "raw_df['Street'] = raw_df['Street'].astype('category')\n",
    "raw_df['LotShape'] = raw_df['LotShape'].astype('category')\n",
    "raw_df['LandContour'] = raw_df['LandContour'].astype('category')\n",
    "raw_df['Utilities'] = raw_df['Utilities'].astype('category')\n",
    "raw_df['LotConfig'] = raw_df['LotConfig'].astype('category')\n",
    "raw_df['LandSlope'] = raw_df['LandSlope'].astype('category')\n",
    "raw_df['Neighborhood'] = raw_df['Neighborhood'].astype('category')\n",
    "raw_df['Condition1'] = raw_df['Condition1'].astype('category')\n",
    "raw_df['Condition2'] = raw_df['Condition2'].astype('category')\n",
    "raw_df['BldgType'] = raw_df['BldgType'].astype('category')\n",
    "raw_df['HouseStyle'] = raw_df['HouseStyle'].astype('category')\n",
    "raw_df['RoofStyle'] = raw_df['RoofStyle'].astype('category')\n",
    "raw_df['RoofMatl'] = raw_df['RoofMatl'].astype('category')\n",
    "raw_df['Exterior1st'] = raw_df['Exterior1st'].astype('category')\n",
    "raw_df['Exterior2nd'] = raw_df['Exterior2nd'].astype('category')\n",
    "raw_df['MasVnrType'] = raw_df['MasVnrType'].astype('category')\n",
    "raw_df['ExterQual'] = raw_df['ExterQual'].astype('category')\n",
    "raw_df['ExterCond'] = raw_df['ExterCond'].astype('category')\n",
    "raw_df['Foundation'] = raw_df['Foundation'].astype('category')\n",
    "raw_df['BsmtQual'] = raw_df['BsmtQual'].astype('category')\n",
    "raw_df['BsmtCond'] = raw_df['BsmtCond'].astype('category')\n",
    "raw_df['BsmtExposure'] = raw_df['BsmtExposure'].astype('category')\n",
    "raw_df['BsmtFinType1'] = raw_df['BsmtFinType1'].astype('category')\n",
    "raw_df['BsmtFinType2'] = raw_df['BsmtFinType2'].astype('category')\n",
    "raw_df['Heating'] = raw_df['Heating'].astype('category')\n",
    "raw_df['HeatingQC'] = raw_df['HeatingQC'].astype('category')\n",
    "raw_df['CentralAir'] = raw_df['CentralAir'].astype('category')\n",
    "raw_df['Electrical'] = raw_df['Electrical'].astype('category')\n",
    "raw_df['KitchenQual'] = raw_df['KitchenQual'].astype('category')\n",
    "raw_df['Functional'] = raw_df['Functional'].astype('category')\n",
    "raw_df['FireplaceQu'] = raw_df['FireplaceQu'].astype('category')\n",
    "raw_df['GarageType'] = raw_df['GarageType'].astype('category')\n",
    "raw_df['GarageFinish'] = raw_df['GarageFinish'].astype('category')\n",
    "raw_df['GarageQual'] = raw_df['GarageQual'].astype('category')\n",
    "raw_df['GarageCond'] = raw_df['GarageCond'].astype('category')\n",
    "raw_df['PavedDrive'] = raw_df['PavedDrive'].astype('category')\n",
    "raw_df['SaleType'] = raw_df['SaleType'].astype('category')\n",
    "raw_df['SaleCondition'] = raw_df['SaleCondition'].astype('category')\n",
    "#change 'street' to new attribute name\n",
    "\n",
    "raw_df['MSZoning_Cat'] = raw_df['MSZoning'].cat.codes\n",
    "raw_df['Street_Cat'] = raw_df['Street'].cat.codes\n",
    "raw_df['LotShape_Cat'] = raw_df['LotShape'].cat.codes\n",
    "raw_df['LandContour_Cat'] = raw_df['LandContour'].cat.codes\n",
    "raw_df['Utilities_Cat'] = raw_df['Utilities'].cat.codes\n",
    "raw_df['LotConfig_Cat'] = raw_df['LotConfig'].cat.codes\n",
    "raw_df['LandSlope_Cat'] = raw_df['LandSlope'].cat.codes\n",
    "raw_df['Neighborhood_Cat'] = raw_df['Neighborhood'].cat.codes\n",
    "raw_df['Condition1_Cat'] = raw_df['Condition1'].cat.codes\n",
    "raw_df['Condition2_Cat'] = raw_df['Condition2'].cat.codes\n",
    "raw_df['BldgType_Cat'] = raw_df['BldgType'].cat.codes\n",
    "raw_df['HouseStyle_Cat'] = raw_df['HouseStyle'].cat.codes\n",
    "raw_df['RoofStyle_Cat'] = raw_df['RoofStyle'].cat.codes\n",
    "raw_df['RoofMatl_Cat'] = raw_df['RoofMatl'].cat.codes\n",
    "raw_df['Exterior1st_Cat'] = raw_df['Exterior1st'].cat.codes\n",
    "raw_df['Exterior2nd_Cat'] = raw_df['Exterior2nd'].cat.codes\n",
    "raw_df['MasVnrType_Cat'] = raw_df['MasVnrType'].cat.codes\n",
    "raw_df['ExterQual_Cat'] = raw_df['ExterQual'].cat.codes\n",
    "raw_df['ExterCond_Cat'] = raw_df['ExterCond'].cat.codes\n",
    "raw_df['Foundation_Cat'] = raw_df['Foundation'].cat.codes\n",
    "raw_df['BsmtQual_Cat'] = raw_df['BsmtQual'].cat.codes\n",
    "raw_df['BsmtCond_Cat'] = raw_df['BsmtCond'].cat.codes\n",
    "raw_df['BsmtExposure_Cat'] = raw_df['BsmtExposure'].cat.codes\n",
    "raw_df['BsmtFinType1_Cat'] = raw_df['BsmtFinType1'].cat.codes\n",
    "raw_df['BsmtFinType2_Cat'] = raw_df['BsmtFinType2'].cat.codes\n",
    "raw_df['Heating_Cat'] = raw_df['Heating'].cat.codes\n",
    "raw_df['HeatingQC_Cat'] = raw_df['HeatingQC'].cat.codes\n",
    "raw_df['CentralAir_Cat'] = raw_df['CentralAir'].cat.codes\n",
    "raw_df['Electrical_Cat'] = raw_df['Electrical'].cat.codes\n",
    "raw_df['KitchenQual_Cat'] = raw_df['KitchenQual'].cat.codes\n",
    "raw_df['Functional_Cat'] = raw_df['Functional'].cat.codes\n",
    "raw_df['FireplaceQu_Cat'] = raw_df['FireplaceQu'].cat.codes\n",
    "raw_df['GarageType_Cat'] = raw_df['GarageType'].cat.codes\n",
    "raw_df['GarageFinish_Cat'] = raw_df['GarageFinish'].cat.codes\n",
    "raw_df['GarageQual_Cat'] = raw_df['GarageQual'].cat.codes\n",
    "raw_df['GarageCond_Cat'] = raw_df['GarageCond'].cat.codes\n",
    "raw_df['PavedDrive_Cat'] = raw_df['PavedDrive'].cat.codes\n",
    "raw_df['SaleType_Cat'] = raw_df['SaleType'].cat.codes\n",
    "raw_df['SaleCondition_Cat'] = raw_df['SaleCondition'].cat.codes\n",
    "#keep same naming attribute_cat \n",
    "#change 'street' to new attribtue name\n",
    "\n",
    "#print(raw_df)\n",
    "#show that new column was added -> 39 new columns added (77 originally; 116 total)\n",
    "          \n",
    "''"
   ]
  },
  {
   "cell_type": "code",
   "execution_count": 83,
   "metadata": {},
   "outputs": [
    {
     "ename": "KeyError",
     "evalue": "\"['MSZoning'] not found in axis\"",
     "output_type": "error",
     "traceback": [
      "\u001b[1;31m---------------------------------------------------------------------------\u001b[0m",
      "\u001b[1;31mKeyError\u001b[0m                                  Traceback (most recent call last)",
      "\u001b[1;32m<ipython-input-83-be6eed5f89a6>\u001b[0m in \u001b[0;36m<module>\u001b[1;34m()\u001b[0m\n\u001b[1;32m----> 1\u001b[1;33m \u001b[0mraw_df\u001b[0m\u001b[1;33m.\u001b[0m\u001b[0mdrop\u001b[0m\u001b[1;33m(\u001b[0m\u001b[0mcolumns\u001b[0m\u001b[1;33m=\u001b[0m\u001b[1;33m[\u001b[0m\u001b[1;34m'MSZoning'\u001b[0m\u001b[1;33m]\u001b[0m\u001b[1;33m,\u001b[0m\u001b[0minplace\u001b[0m\u001b[1;33m=\u001b[0m\u001b[0mTrue\u001b[0m\u001b[1;33m)\u001b[0m\u001b[1;33m\u001b[0m\u001b[0m\n\u001b[0m\u001b[0;32m      2\u001b[0m \u001b[0mraw_df\u001b[0m\u001b[1;33m.\u001b[0m\u001b[0mdrop\u001b[0m\u001b[1;33m(\u001b[0m\u001b[0mcolumns\u001b[0m\u001b[1;33m=\u001b[0m\u001b[1;33m[\u001b[0m\u001b[1;34m'Street'\u001b[0m\u001b[1;33m]\u001b[0m\u001b[1;33m,\u001b[0m\u001b[0minplace\u001b[0m\u001b[1;33m=\u001b[0m\u001b[0mTrue\u001b[0m\u001b[1;33m)\u001b[0m\u001b[1;33m\u001b[0m\u001b[0m\n\u001b[0;32m      3\u001b[0m \u001b[0mraw_df\u001b[0m\u001b[1;33m.\u001b[0m\u001b[0mdrop\u001b[0m\u001b[1;33m(\u001b[0m\u001b[0mcolumns\u001b[0m\u001b[1;33m=\u001b[0m\u001b[1;33m[\u001b[0m\u001b[1;34m'LotShape'\u001b[0m\u001b[1;33m]\u001b[0m\u001b[1;33m,\u001b[0m\u001b[0minplace\u001b[0m\u001b[1;33m=\u001b[0m\u001b[0mTrue\u001b[0m\u001b[1;33m)\u001b[0m\u001b[1;33m\u001b[0m\u001b[0m\n\u001b[0;32m      4\u001b[0m \u001b[0mraw_df\u001b[0m\u001b[1;33m.\u001b[0m\u001b[0mdrop\u001b[0m\u001b[1;33m(\u001b[0m\u001b[0mcolumns\u001b[0m\u001b[1;33m=\u001b[0m\u001b[1;33m[\u001b[0m\u001b[1;34m'LandContour'\u001b[0m\u001b[1;33m]\u001b[0m\u001b[1;33m,\u001b[0m\u001b[0minplace\u001b[0m\u001b[1;33m=\u001b[0m\u001b[0mTrue\u001b[0m\u001b[1;33m)\u001b[0m\u001b[1;33m\u001b[0m\u001b[0m\n\u001b[0;32m      5\u001b[0m \u001b[0mraw_df\u001b[0m\u001b[1;33m.\u001b[0m\u001b[0mdrop\u001b[0m\u001b[1;33m(\u001b[0m\u001b[0mcolumns\u001b[0m\u001b[1;33m=\u001b[0m\u001b[1;33m[\u001b[0m\u001b[1;34m'Utilities'\u001b[0m\u001b[1;33m]\u001b[0m\u001b[1;33m,\u001b[0m\u001b[0minplace\u001b[0m\u001b[1;33m=\u001b[0m\u001b[0mTrue\u001b[0m\u001b[1;33m)\u001b[0m\u001b[1;33m\u001b[0m\u001b[0m\n",
      "\u001b[1;32mC:\\Users\\nelrayes\\AppData\\Local\\Continuum\\anaconda2\\lib\\site-packages\\pandas\\core\\frame.pyc\u001b[0m in \u001b[0;36mdrop\u001b[1;34m(self, labels, axis, index, columns, level, inplace, errors)\u001b[0m\n\u001b[0;32m   3695\u001b[0m                                            \u001b[0mindex\u001b[0m\u001b[1;33m=\u001b[0m\u001b[0mindex\u001b[0m\u001b[1;33m,\u001b[0m \u001b[0mcolumns\u001b[0m\u001b[1;33m=\u001b[0m\u001b[0mcolumns\u001b[0m\u001b[1;33m,\u001b[0m\u001b[1;33m\u001b[0m\u001b[0m\n\u001b[0;32m   3696\u001b[0m                                            \u001b[0mlevel\u001b[0m\u001b[1;33m=\u001b[0m\u001b[0mlevel\u001b[0m\u001b[1;33m,\u001b[0m \u001b[0minplace\u001b[0m\u001b[1;33m=\u001b[0m\u001b[0minplace\u001b[0m\u001b[1;33m,\u001b[0m\u001b[1;33m\u001b[0m\u001b[0m\n\u001b[1;32m-> 3697\u001b[1;33m                                            errors=errors)\n\u001b[0m\u001b[0;32m   3698\u001b[0m \u001b[1;33m\u001b[0m\u001b[0m\n\u001b[0;32m   3699\u001b[0m     @rewrite_axis_style_signature('mapper', [('copy', True),\n",
      "\u001b[1;32mC:\\Users\\nelrayes\\AppData\\Local\\Continuum\\anaconda2\\lib\\site-packages\\pandas\\core\\generic.pyc\u001b[0m in \u001b[0;36mdrop\u001b[1;34m(self, labels, axis, index, columns, level, inplace, errors)\u001b[0m\n\u001b[0;32m   3109\u001b[0m         \u001b[1;32mfor\u001b[0m \u001b[0maxis\u001b[0m\u001b[1;33m,\u001b[0m \u001b[0mlabels\u001b[0m \u001b[1;32min\u001b[0m \u001b[0maxes\u001b[0m\u001b[1;33m.\u001b[0m\u001b[0mitems\u001b[0m\u001b[1;33m(\u001b[0m\u001b[1;33m)\u001b[0m\u001b[1;33m:\u001b[0m\u001b[1;33m\u001b[0m\u001b[0m\n\u001b[0;32m   3110\u001b[0m             \u001b[1;32mif\u001b[0m \u001b[0mlabels\u001b[0m \u001b[1;32mis\u001b[0m \u001b[1;32mnot\u001b[0m \u001b[0mNone\u001b[0m\u001b[1;33m:\u001b[0m\u001b[1;33m\u001b[0m\u001b[0m\n\u001b[1;32m-> 3111\u001b[1;33m                 \u001b[0mobj\u001b[0m \u001b[1;33m=\u001b[0m \u001b[0mobj\u001b[0m\u001b[1;33m.\u001b[0m\u001b[0m_drop_axis\u001b[0m\u001b[1;33m(\u001b[0m\u001b[0mlabels\u001b[0m\u001b[1;33m,\u001b[0m \u001b[0maxis\u001b[0m\u001b[1;33m,\u001b[0m \u001b[0mlevel\u001b[0m\u001b[1;33m=\u001b[0m\u001b[0mlevel\u001b[0m\u001b[1;33m,\u001b[0m \u001b[0merrors\u001b[0m\u001b[1;33m=\u001b[0m\u001b[0merrors\u001b[0m\u001b[1;33m)\u001b[0m\u001b[1;33m\u001b[0m\u001b[0m\n\u001b[0m\u001b[0;32m   3112\u001b[0m \u001b[1;33m\u001b[0m\u001b[0m\n\u001b[0;32m   3113\u001b[0m         \u001b[1;32mif\u001b[0m \u001b[0minplace\u001b[0m\u001b[1;33m:\u001b[0m\u001b[1;33m\u001b[0m\u001b[0m\n",
      "\u001b[1;32mC:\\Users\\nelrayes\\AppData\\Local\\Continuum\\anaconda2\\lib\\site-packages\\pandas\\core\\generic.pyc\u001b[0m in \u001b[0;36m_drop_axis\u001b[1;34m(self, labels, axis, level, errors)\u001b[0m\n\u001b[0;32m   3141\u001b[0m                 \u001b[0mnew_axis\u001b[0m \u001b[1;33m=\u001b[0m \u001b[0maxis\u001b[0m\u001b[1;33m.\u001b[0m\u001b[0mdrop\u001b[0m\u001b[1;33m(\u001b[0m\u001b[0mlabels\u001b[0m\u001b[1;33m,\u001b[0m \u001b[0mlevel\u001b[0m\u001b[1;33m=\u001b[0m\u001b[0mlevel\u001b[0m\u001b[1;33m,\u001b[0m \u001b[0merrors\u001b[0m\u001b[1;33m=\u001b[0m\u001b[0merrors\u001b[0m\u001b[1;33m)\u001b[0m\u001b[1;33m\u001b[0m\u001b[0m\n\u001b[0;32m   3142\u001b[0m             \u001b[1;32melse\u001b[0m\u001b[1;33m:\u001b[0m\u001b[1;33m\u001b[0m\u001b[0m\n\u001b[1;32m-> 3143\u001b[1;33m                 \u001b[0mnew_axis\u001b[0m \u001b[1;33m=\u001b[0m \u001b[0maxis\u001b[0m\u001b[1;33m.\u001b[0m\u001b[0mdrop\u001b[0m\u001b[1;33m(\u001b[0m\u001b[0mlabels\u001b[0m\u001b[1;33m,\u001b[0m \u001b[0merrors\u001b[0m\u001b[1;33m=\u001b[0m\u001b[0merrors\u001b[0m\u001b[1;33m)\u001b[0m\u001b[1;33m\u001b[0m\u001b[0m\n\u001b[0m\u001b[0;32m   3144\u001b[0m             \u001b[0mresult\u001b[0m \u001b[1;33m=\u001b[0m \u001b[0mself\u001b[0m\u001b[1;33m.\u001b[0m\u001b[0mreindex\u001b[0m\u001b[1;33m(\u001b[0m\u001b[1;33m**\u001b[0m\u001b[1;33m{\u001b[0m\u001b[0maxis_name\u001b[0m\u001b[1;33m:\u001b[0m \u001b[0mnew_axis\u001b[0m\u001b[1;33m}\u001b[0m\u001b[1;33m)\u001b[0m\u001b[1;33m\u001b[0m\u001b[0m\n\u001b[0;32m   3145\u001b[0m \u001b[1;33m\u001b[0m\u001b[0m\n",
      "\u001b[1;32mC:\\Users\\nelrayes\\AppData\\Local\\Continuum\\anaconda2\\lib\\site-packages\\pandas\\core\\indexes\\base.pyc\u001b[0m in \u001b[0;36mdrop\u001b[1;34m(self, labels, errors)\u001b[0m\n\u001b[0;32m   4402\u001b[0m             \u001b[1;32mif\u001b[0m \u001b[0merrors\u001b[0m \u001b[1;33m!=\u001b[0m \u001b[1;34m'ignore'\u001b[0m\u001b[1;33m:\u001b[0m\u001b[1;33m\u001b[0m\u001b[0m\n\u001b[0;32m   4403\u001b[0m                 raise KeyError(\n\u001b[1;32m-> 4404\u001b[1;33m                     '{} not found in axis'.format(labels[mask]))\n\u001b[0m\u001b[0;32m   4405\u001b[0m             \u001b[0mindexer\u001b[0m \u001b[1;33m=\u001b[0m \u001b[0mindexer\u001b[0m\u001b[1;33m[\u001b[0m\u001b[1;33m~\u001b[0m\u001b[0mmask\u001b[0m\u001b[1;33m]\u001b[0m\u001b[1;33m\u001b[0m\u001b[0m\n\u001b[0;32m   4406\u001b[0m         \u001b[1;32mreturn\u001b[0m \u001b[0mself\u001b[0m\u001b[1;33m.\u001b[0m\u001b[0mdelete\u001b[0m\u001b[1;33m(\u001b[0m\u001b[0mindexer\u001b[0m\u001b[1;33m)\u001b[0m\u001b[1;33m\u001b[0m\u001b[0m\n",
      "\u001b[1;31mKeyError\u001b[0m: \"['MSZoning'] not found in axis\""
     ]
    }
   ],
   "source": [
    "raw_df.drop(columns=['MSZoning'],inplace=True)\n",
    "raw_df.drop(columns=['Street'],inplace=True)\n",
    "raw_df.drop(columns=['LotShape'],inplace=True)\n",
    "raw_df.drop(columns=['LandContour'],inplace=True)\n",
    "raw_df.drop(columns=['Utilities'],inplace=True)\n",
    "raw_df.drop(columns=['LotConfig'],inplace=True)\n",
    "raw_df.drop(columns=['LandSlope'],inplace=True)\n",
    "raw_df.drop(columns=['Neighborhood'],inplace=True)\n",
    "raw_df.drop(columns=['Condition1'],inplace=True)\n",
    "raw_df.drop(columns=['Condition2'],inplace=True)\n",
    "raw_df.drop(columns=['BldgType'],inplace=True)\n",
    "raw_df.drop(columns=['HouseStyle'],inplace=True)\n",
    "raw_df.drop(columns=['RoofStyle'],inplace=True)\n",
    "raw_df.drop(columns=['RoofMatl'],inplace=True)\n",
    "raw_df.drop(columns=['Exterior1st'],inplace=True)\n",
    "raw_df.drop(columns=['Exterior2nd'],inplace=True)\n",
    "raw_df.drop(columns=['MasVnrType'],inplace=True)\n",
    "raw_df.drop(columns=['ExterQual'],inplace=True)\n",
    "raw_df.drop(columns=['ExterCond'],inplace=True)\n",
    "raw_df.drop(columns=['Foundation'],inplace=True)\n",
    "raw_df.drop(columns=['BsmtQual'],inplace=True)\n",
    "raw_df.drop(columns=['BsmtCond'],inplace=True)\n",
    "raw_df.drop(columns=['BsmtExposure'],inplace=True)\n",
    "raw_df.drop(columns=['BsmtFinType1'],inplace=True)\n",
    "raw_df.drop(columns=['BsmtFinType2'],inplace=True)\n",
    "raw_df.drop(columns=['Heating'],inplace=True)\n",
    "raw_df.drop(columns=['HeatingQC'],inplace=True)\n",
    "raw_df.drop(columns=['CentralAir'],inplace=True)\n",
    "raw_df.drop(columns=['Electrical'],inplace=True)\n",
    "raw_df.drop(columns=['KitchenQual'],inplace=True)\n",
    "raw_df.drop(columns=['Functional'],inplace=True)\n",
    "raw_df.drop(columns=['FireplaceQu'],inplace=True)\n",
    "raw_df.drop(columns=['GarageType'],inplace=True)\n",
    "raw_df.drop(columns=['GarageFinish'],inplace=True)\n",
    "raw_df.drop(columns=['GarageQual'],inplace=True)\n",
    "raw_df.drop(columns=['GarageCond'],inplace=True)\n",
    "raw_df.drop(columns=['PavedDrive'],inplace=True)\n",
    "raw_df.drop(columns=['SaleType'],inplace=True)\n",
    "raw_df.drop(columns=['SaleCondition'],inplace=True)\n",
    "#drop old columns\n"
   ]
  },
  {
   "cell_type": "markdown",
   "metadata": {},
   "source": [
    "The output below shows the dataset after replacing the categorical data with numerical values. "
   ]
  },
  {
   "cell_type": "code",
   "execution_count": 78,
   "metadata": {},
   "outputs": [
    {
     "name": "stdout",
     "output_type": "stream",
     "text": [
      "   Id  MSSubClass  LotFrontage  LotArea  OverallQual  OverallCond  YearBuilt  \\\n",
      "1   2          20         80.0     9600            6            8       1976   \n",
      "2   3          60         68.0    11250            7            5       2001   \n",
      "3   4          70         60.0     9550            7            5       1915   \n",
      "4   5          60         84.0    14260            8            5       2000   \n",
      "6   7          20         75.0    10084            8            5       2004   \n",
      "\n",
      "   YearRemodAdd  MasVnrArea  BsmtFinSF1        ...          KitchenQual_Cat  \\\n",
      "1          1976         0.0       978.0        ...                        3   \n",
      "2          2002       162.0       486.0        ...                        2   \n",
      "3          1970         0.0       216.0        ...                        2   \n",
      "4          2000       350.0       655.0        ...                        2   \n",
      "6          2005       186.0      1369.0        ...                        2   \n",
      "\n",
      "   Functional_Cat  FireplaceQu_Cat  GarageType_Cat  GarageFinish_Cat  \\\n",
      "1               5                4               1                 1   \n",
      "2               5                4               1                 1   \n",
      "3               5                2               5                 2   \n",
      "4               5                4               1                 1   \n",
      "6               5                2               1                 1   \n",
      "\n",
      "   GarageQual_Cat  GarageCond_Cat  PavedDrive_Cat  SaleType_Cat  \\\n",
      "1               3               4               2             7   \n",
      "2               3               4               2             7   \n",
      "3               3               4               2             7   \n",
      "4               3               4               2             7   \n",
      "6               3               4               2             7   \n",
      "\n",
      "   SaleCondition_Cat  \n",
      "1                  3  \n",
      "2                  3  \n",
      "3                  0  \n",
      "4                  3  \n",
      "6                  3  \n",
      "\n",
      "[5 rows x 77 columns]\n"
     ]
    }
   ],
   "source": [
    "print (raw_df.head())"
   ]
  },
  {
   "cell_type": "markdown",
   "metadata": {},
   "source": [
    "# Dividing the Data set into Testing and Training:\n",
    "\n",
    "In the section below, we divided the dataset into 4 groups: X train: that contain all the features except the target variable. ytrain: that contains the target variable (Price of Hourses) that will be used for training. X_test: that contains all the features for 25% of the records. That will be used for testing the model. y_test: contains the target variable values for 25% of the data set that will be used to evaluate to evaluate the accuracy, precision , and recall of the model.\n",
    "\n",
    "For this task, \"Model Selection\" from SKlearn was used.\n"
   ]
  },
  {
   "cell_type": "code",
   "execution_count": 84,
   "metadata": {},
   "outputs": [
    {
     "name": "stdout",
     "output_type": "stream",
     "text": [
      "(858, 287, 858, 287)\n"
     ]
    }
   ],
   "source": [
    "x=raw_df.loc[:, raw_df.columns != 'SalePrice']\n",
    "y= np.array(raw_df['SalePrice'])\n",
    "#print x.values, y\n",
    "\n",
    "X_train, X_test, y_train, y_test = model_selection.train_test_split(x.values, y, test_size=0.25, random_state=1145)\n",
    "print(len(X_train), len(X_test), len(y_train), len(y_test))\n"
   ]
  },
  {
   "cell_type": "markdown",
   "metadata": {},
   "source": [
    "The data below shows the data set after replacing categorical "
   ]
  },
  {
   "cell_type": "markdown",
   "metadata": {},
   "source": [
    "# Normalizing Data"
   ]
  },
  {
   "cell_type": "markdown",
   "metadata": {},
   "source": [
    "As shown in the previous section, the range of values across different field are widely spread. Accoringly, we decided to normalize the data to avoid that problem."
   ]
  },
  {
   "cell_type": "code",
   "execution_count": 85,
   "metadata": {},
   "outputs": [
    {
     "name": "stdout",
     "output_type": "stream",
     "text": [
      "Sample of X_test after normalizing\n",
      "[[0.1220432  0.58823529 0.1503268  ... 1.         1.         0.75      ]\n",
      " [0.21494686 0.23529412 0.32026144 ... 1.         1.         0.5       ]\n",
      " [0.39218375 0.17647059 0.20261438 ... 1.         1.         0.5       ]\n",
      " ...\n",
      " [0.46417552 0.35294118 0.52941176 ... 1.         1.         0.75      ]\n",
      " [0.41858073 0.17647059 0.37254902 ... 1.         1.         0.75      ]\n",
      " [0.96880357 0.23529412 0.4379085  ... 1.         1.         0.        ]]\n"
     ]
    },
    {
     "name": "stderr",
     "output_type": "stream",
     "text": [
      "C:\\Users\\nelrayes\\AppData\\Local\\Continuum\\anaconda2\\lib\\site-packages\\sklearn\\utils\\validation.py:595: DataConversionWarning: Data with input dtype object was converted to float64 by MinMaxScaler.\n",
      "  warnings.warn(msg, DataConversionWarning)\n"
     ]
    }
   ],
   "source": [
    "scaler = preprocessing.MinMaxScaler()\n",
    "scaler.fit_transform(X_train)\n",
    "X_train = scaler.transform(X_train)\n",
    "X_test = scaler.transform(X_test)\n",
    "\n",
    "print(\"Sample of X_test after normalizing\")\n",
    "print(X_test)"
   ]
  },
  {
   "cell_type": "code",
   "execution_count": null,
   "metadata": {},
   "outputs": [],
   "source": []
  },
  {
   "cell_type": "markdown",
   "metadata": {},
   "source": [
    "## Multiple Regression"
   ]
  },
  {
   "cell_type": "markdown",
   "metadata": {},
   "source": [
    "The objective of this section is to examine the correlation between the different features and the target variable (Sale Price)."
   ]
  },
  {
   "cell_type": "code",
   "execution_count": 86,
   "metadata": {},
   "outputs": [
    {
     "name": "stdout",
     "output_type": "stream",
     "text": [
      "0.574098239845629\n"
     ]
    }
   ],
   "source": [
    "regr=linear_model.LinearRegression()\n",
    "regr.fit(X_train, y_train)\n",
    "\n",
    "print(regr.score(X_train, y_train))\n",
    "\n",
    "y_predict=regr.predict(X_test)\n",
    "\n",
    "#   The output below shows that the set of all features have coeffient of Determination (R square) =0.57, \n",
    "#   which means all the features can help predict the price of 57% of the houses beased on the values of all the features."
   ]
  },
  {
   "cell_type": "markdown",
   "metadata": {},
   "source": [
    "# Lasso Regression:"
   ]
  },
  {
   "cell_type": "markdown",
   "metadata": {},
   "source": [
    "Lasso Regession will be applied to examin the posiibility of dropping the features that may be causeing a noise on the ability\n",
    "of predicting the sale price of houses. The objective is to find the features that would help maximize the coeffient of determination."
   ]
  },
  {
   "cell_type": "code",
   "execution_count": 87,
   "metadata": {},
   "outputs": [],
   "source": [
    "def lasso_regression(X_train, X_test, y_train, y_test , alpha):\n",
    "    \n",
    "    #Fit the model\n",
    "    lassoreg = Lasso(alpha=alpha,normalize=False, max_iter=1e5)\n",
    "    lassoreg.fit(X_train,y_train)\n",
    "    y_pred = lassoreg.predict(X_test)\n",
    "    \n",
    "            \n",
    "    #Return the results of sum square and r2\n",
    "    results_sum_square = sum((y_pred-y_test)**2)\n",
    "    ret = [results_sum_square]\n",
    "\n",
    "    # Returns the coefficient of determination R^2 of the prediction.\n",
    "    rsquare=r2_score(y_pred,y_test)\n",
    "  \n",
    "    ret.extend([lassoreg.intercept_])\n",
    "    ret.extend(lassoreg.coef_)\n",
    "    ret.append(rsquare)\n",
    "    print (ret)\n",
    "\n",
    "    return ret\n"
   ]
  },
  {
   "cell_type": "markdown",
   "metadata": {},
   "source": [
    "The larger the Shrikage factor (alfpha), the more features will be excluded and the penalization factor will lead to more coeffienets of Zeros. For this model, we decided to use alpha = 0.01. In refrence to \"The Elements of Staistical Learning : Springer series in statistics 2nd edition\" A case study on Page 70 showed the impact on selecting different values for alpha between 0 and 1,  and based on that we decided to pick 0.01.\n",
    "\n",
    "\n",
    "The output below shows the coeffient for all the features and the ones that have value of 0 are not useful for prediction\n",
    "with respect to lasso Regression.\n",
    "\n",
    "### Based on the output below: \n",
    "#### The Top 5 features with high positive impact on Price and their coefficients:\n",
    "     1) MSSubClass: Identifies the type of dwelling involved in the sale.\n",
    "        MSSubClass = 293147.48700337496\n",
    "     \n",
    "     2) Overall Condition: OverallCond: Rates the overall condition of the house, where 1: very poor and 10: excellent\n",
    "        Overall Condition: 251841\n",
    "        \n",
    "     3) 2ndFlrSF: Second floor square feet\n",
    "        2ndFlrSF: Second floor square feet: 139372 \n",
    "        \n",
    "      4) Bsmthalfbath: BsmtHalfBath: Basement half bathrooms\n",
    "         Bsmthalfbath: 107582\n",
    "         \n",
    "      5) GarageYrBlt: Year garage was built\n",
    "          GarageYrBlt: 75423\n",
    "     \n",
    "#### The Top 5 features with high Negative impact on Price and their coefficients:\n",
    "       1)HouseStyle: Style of dwelling\n",
    "         HouseStyle: -262723\n",
    "           \n",
    "one story, One and one-half story: 2nd level finished, One and one-half story: 2nd level unfinished, Two story, Two and one-half story: 2nd level finished, Two and one-half story: 2nd level unfinished, Split Foyer, Split Level\n",
    "       \n",
    "       2)CentralAir: Central air conditioning (Yes-No)\n",
    "         CentralAir: -78307\n",
    "       \n",
    "       3)LotFrontage: Linear feet of street connected to property\n",
    "         LotFrontage: -60967\n",
    "       \n",
    "       4)LotArea: Lot size in square feet\n",
    "         LotArea: -51, 979\n",
    "       \n",
    "       5)TotRmsAbvGrd: Total rooms above grade (does not include bathrooms)\n",
    "         TotRmsAbvGrd: -37862\n",
    "       \n",
    "\n",
    "#### The features that were excluded by Lasso are:\n",
    "    1stFlrSF, LowQualFinSF, LandSlope\n"
   ]
  },
  {
   "cell_type": "markdown",
   "metadata": {},
   "source": [
    "The Function below calls the Lasso Function defined earlier."
   ]
  },
  {
   "cell_type": "code",
   "execution_count": 114,
   "metadata": {
    "scrolled": true
   },
   "outputs": [
    {
     "name": "stderr",
     "output_type": "stream",
     "text": [
      "C:\\Users\\nelrayes\\AppData\\Local\\Continuum\\anaconda2\\lib\\site-packages\\sklearn\\linear_model\\coordinate_descent.py:492: ConvergenceWarning: Objective did not converge. You might want to increase the number of iterations. Fitting data with very small alpha may cause precision problems.\n",
      "  ConvergenceWarning)\n"
     ]
    },
    {
     "ename": "TypeError",
     "evalue": "list indices must be integers, not float",
     "output_type": "error",
     "traceback": [
      "\u001b[1;31m---------------------------------------------------------------------------\u001b[0m",
      "\u001b[1;31mTypeError\u001b[0m                                 Traceback (most recent call last)",
      "\u001b[1;32m<ipython-input-114-c1f620f500f7>\u001b[0m in \u001b[0;36m<module>\u001b[1;34m()\u001b[0m\n\u001b[0;32m      5\u001b[0m     \u001b[1;32mfor\u001b[0m \u001b[0mi\u001b[0m \u001b[1;32min\u001b[0m \u001b[0malphas\u001b[0m\u001b[1;33m:\u001b[0m\u001b[1;33m\u001b[0m\u001b[0m\n\u001b[0;32m      6\u001b[0m         \u001b[1;31m#print(x.columns[i])\u001b[0m\u001b[1;33m\u001b[0m\u001b[1;33m\u001b[0m\u001b[0m\n\u001b[1;32m----> 7\u001b[1;33m         \u001b[1;32mprint\u001b[0m\u001b[1;33m(\u001b[0m\u001b[0mret\u001b[0m\u001b[1;33m[\u001b[0m\u001b[0mi\u001b[0m\u001b[1;33m]\u001b[0m\u001b[1;33m)\u001b[0m\u001b[1;33m\u001b[0m\u001b[0m\n\u001b[0m\u001b[0;32m      8\u001b[0m \u001b[1;33m\u001b[0m\u001b[0m\n\u001b[0;32m      9\u001b[0m \u001b[1;33m\u001b[0m\u001b[0m\n",
      "\u001b[1;31mTypeError\u001b[0m: list indices must be integers, not float"
     ]
    }
   ],
   "source": [
    "alphas = [0.001,0.003, 0.01,0.03,0.1, 0.3, 1,3, 10,30,100,300]\n",
    "\n",
    "# Trying Different Values for Alpha\n",
    "    ret = lasso_regression (X_train, X_test, y_train, y_test, alpha)\n",
    "    for i in alphas:\n",
    "        #print(x.columns[i])\n",
    "        print(ret[i])\n",
    "\n",
    "\n"
   ]
  },
  {
   "cell_type": "markdown",
   "metadata": {},
   "source": [
    "# Running Regression after Feature Selection using Lasso:"
   ]
  },
  {
   "cell_type": "markdown",
   "metadata": {},
   "source": [
    "After including only the 10 features from the output of Lasso regression, the R square = 0.3339, which means these 10 features combined can help predict approximately 34% of the results."
   ]
  },
  {
   "cell_type": "code",
   "execution_count": 87,
   "metadata": {},
   "outputs": [
    {
     "name": "stdout",
     "output_type": "stream",
     "text": [
      "(858, 287, 858, 287)\n",
      "-0.8759636975269847\n",
      "[-4.01594932e+01  5.36914608e+03  9.72948730e+00  3.56803478e+03\n",
      " -7.95289693e+02 -2.98544138e+03  1.55619128e+00  9.83808016e+03\n",
      "  8.01193367e+03  8.01193367e+03  2.38393152e+02]\n"
     ]
    }
   ],
   "source": [
    "xlasso=raw_df.loc[:, ['MSSubClass','OverallCond','2ndFlrSF','BsmtHalfBath','GarageYrBlt','HouseStyle_Cat','LotArea','CentralAir_Cat','TotRmsAbvGrd','TotRmsAbvGrd','LotFrontage']]\n",
    "y= np.array(raw_df['SalePrice'])\n",
    "#print x.values, y\n",
    "\n",
    "X_trainlasso, X_testlasso, y_trainlasso, y_testlasso = model_selection.train_test_split(xlasso.values, y, test_size=0.25, random_state=1145)\n",
    "print(len(X_trainlasso), len(X_testlasso), len(y_trainlasso), len(y_testlasso))\n",
    "\n",
    "regr=linear_model.LinearRegression()\n",
    "regr.fit(X_trainlasso, y_trainlasso)\n",
    "\n",
    "y_pred = regr.predict(X_testlasso)\n",
    "\n",
    "rss = sum((y_pred-y_testlasso)**2)\n",
    "ret = [rss]\n",
    "\n",
    "rsquare=r2_score(y_pred,y_testlasso)\n",
    "\n",
    "# R score and Coeffients:  \n",
    "print (rsquare)\n",
    "print regr.coef_"
   ]
  },
  {
   "cell_type": "markdown",
   "metadata": {},
   "source": [
    "# Lasso Regression with Cross Validation"
   ]
  },
  {
   "cell_type": "code",
   "execution_count": 121,
   "metadata": {},
   "outputs": [
    {
     "name": "stdout",
     "output_type": "stream",
     "text": [
      "('Lasso Score Mean', 53628.243261500305, 'Lasso Score Standard Deviation', 5611.007862052495)\n"
     ]
    },
    {
     "data": {
      "image/png": "[encoded data removed]",
      "text/plain": [
       "<Figure size 432x288 with 1 Axes>"
      ]
     },
     "metadata": {
      "needs_background": "light"
     },
     "output_type": "display_data"
    }
   ],
   "source": [
    "n_folds = 5\n",
    "\n",
    "def rmsle_cv(model):\n",
    "    kf = KFold(n_folds, shuffle=True, random_state=42).get_n_splits(X_train)\n",
    "    rmse= np.sqrt(-cross_val_score(model, X_train, y_train, scoring=\"neg_mean_squared_error\", cv = kf))\n",
    "    return(rmse)\n",
    "\n",
    "lasso = make_pipeline(RobustScaler(), Lasso(alpha =1000))\n",
    "score = rmsle_cv(lasso)\n",
    "print('Lasso Score Mean',(score.mean()), 'Lasso Score Standard Deviation',(score.std()))\n",
    "\n",
    "plt.title('Lasso Cross Validation Score')\n",
    "plt.plot(score)\n",
    "plt.show()"
   ]
  },
  {
   "cell_type": "code",
   "execution_count": null,
   "metadata": {},
   "outputs": [],
   "source": []
  },
  {
   "cell_type": "code",
   "execution_count": null,
   "metadata": {},
   "outputs": [],
   "source": []
  }
 ],
 "metadata": {
  "kernelspec": {
   "display_name": "Python 2",
   "language": "python",
   "name": "python2"
  },
  "language_info": {
   "codemirror_mode": {
    "name": "ipython",
    "version": 2
   },
   "file_extension": ".py",
   "mimetype": "text/x-python",
   "name": "python",
   "nbconvert_exporter": "python",
   "pygments_lexer": "ipython2",
   "version": "2.7.15"
  }
 },
 "nbformat": 4,
 "nbformat_minor": 2
}
