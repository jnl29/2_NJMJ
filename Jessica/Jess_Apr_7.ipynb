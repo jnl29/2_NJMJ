{
 "cells": [
  {
   "cell_type": "markdown",
   "metadata": {},
   "source": [
    "# NEED TO ADD\n",
    "# Add introduction to project, and what models we used; examples heart diesease (github link) & cancer (module 4) "
   ]
  },
  {
   "cell_type": "code",
   "execution_count": 232,
   "metadata": {},
   "outputs": [],
   "source": [
    "import pandas as pd\n",
    "import numpy as np\n",
    "from sklearn.model_selection import train_test_split\n",
    "from sklearn.tree import DecisionTreeClassifier\n",
    "from sklearn.linear_model import LogisticRegression\n",
    "from sklearn import datasets, linear_model\n",
    "from sklearn import model_selection, metrics, preprocessing\n",
    "from sklearn.decomposition import PCA\n",
    "from sklearn import tree\n",
    "from sklearn.metrics import mean_squared_error, r2_score\n",
    "import matplotlib.pyplot as plt\n",
    "from sklearn.externals.six import StringIO\n",
    "#import pydotplus //maybe need it later\n",
    "from IPython.display import Image\n",
    "from scipy import stats\n",
    "import seaborn as sns\n",
    "from scipy import stats\n",
    "from sklearn.linear_model import Lasso\n"
   ]
  },
  {
   "cell_type": "markdown",
   "metadata": {},
   "source": [
    "# NEED TO ADD\n",
    "# replace description below with file description from cance module 4 "
   ]
  },
  {
   "cell_type": "code",
   "execution_count": 233,
   "metadata": {},
   "outputs": [
    {
     "ename": "SyntaxError",
     "evalue": "EOL while scanning string literal (<ipython-input-233-e459dbc14e75>, line 86)",
     "output_type": "error",
     "traceback": [
      "\u001b[0;36m  File \u001b[0;32m\"<ipython-input-233-e459dbc14e75>\"\u001b[0;36m, line \u001b[0;32m86\u001b[0m\n\u001b[0;31m    ''''\u001b[0m\n\u001b[0m        \n^\u001b[0m\n\u001b[0;31mSyntaxError\u001b[0m\u001b[0;31m:\u001b[0m EOL while scanning string literal\n"
     ]
    }
   ],
   "source": [
    "''''\n",
    "Data fields\n",
    "Here's a brief version of what you'll find in the data description file.\n",
    "\n",
    "SalePrice - the property's sale price in dollars. This is the target variable that you're trying to predict.\n",
    "MSSubClass: The building class\n",
    "MSZoning: The general zoning classification\n",
    "LotFrontage: Linear feet of street connected to property\n",
    "LotArea: Lot size in square feet\n",
    "Street: Type of road access\n",
    "Alley: Type of alley access\n",
    "LotShape: General shape of property\n",
    "LandContour: Flatness of the property\n",
    "Utilities: Type of utilities available\n",
    "LotConfig: Lot configuration\n",
    "LandSlope: Slope of property\n",
    "Neighborhood: Physical locations within Ames city limits\n",
    "Condition1: Proximity to main road or railroad\n",
    "Condition2: Proximity to main road or railroad (if a second is present)\n",
    "BldgType: Type of dwelling\n",
    "HouseStyle: Style of dwelling\n",
    "OverallQual: Overall material and finish quality\n",
    "OverallCond: Overall condition rating\n",
    "YearBuilt: Original construction date\n",
    "YearRemodAdd: Remodel date\n",
    "RoofStyle: Type of roof\n",
    "RoofMatl: Roof material\n",
    "Exterior1st: Exterior covering on house\n",
    "Exterior2nd: Exterior covering on house (if more than one material)\n",
    "MasVnrType: Masonry veneer type\n",
    "MasVnrArea: Masonry veneer area in square feet\n",
    "ExterQual: Exterior material quality\n",
    "ExterCond: Present condition of the material on the exterior\n",
    "Foundation: Type of foundation\n",
    "BsmtQual: Height of the basement\n",
    "BsmtCond: General condition of the basement\n",
    "BsmtExposure: Walkout or garden level basement walls\n",
    "BsmtFinType1: Quality of basement finished area\n",
    "BsmtFinSF1: Type 1 finished square feet\n",
    "BsmtFinType2: Quality of second finished area (if present)\n",
    "BsmtFinSF2: Type 2 finished square feet\n",
    "BsmtUnfSF: Unfinished square feet of basement area\n",
    "TotalBsmtSF: Total square feet of basement area\n",
    "Heating: Type of heating\n",
    "HeatingQC: Heating quality and condition\n",
    "CentralAir: Central air conditioning\n",
    "Electrical: Electrical system\n",
    "1stFlrSF: First Floor square feet\n",
    "2ndFlrSF: Second floor square feet\n",
    "LowQualFinSF: Low quality finished square feet (all floors)\n",
    "GrLivArea: Above grade (ground) living area square feet\n",
    "BsmtFullBath: Basement full bathrooms\n",
    "BsmtHalfBath: Basement half bathrooms\n",
    "FullBath: Full bathrooms above grade\n",
    "HalfBath: Half baths above grade\n",
    "Bedroom: Number of bedrooms above basement level\n",
    "Kitchen: Number of kitchens\n",
    "KitchenQual: Kitchen quality\n",
    "TotRmsAbvGrd: Total rooms above grade (does not include bathrooms)\n",
    "Functional: Home functionality rating\n",
    "Fireplaces: Number of fireplaces\n",
    "FireplaceQu: Fireplace quality\n",
    "GarageType: Garage location\n",
    "GarageYrBlt: Year garage was built\n",
    "GarageFinish: Interior finish of the garage\n",
    "GarageCars: Size of garage in car capacity\n",
    "GarageArea: Size of garage in square feet\n",
    "GarageQual: Garage quality\n",
    "GarageCond: Garage condition\n",
    "PavedDrive: Paved driveway\n",
    "WoodDeckSF: Wood deck area in square feet\n",
    "OpenPorchSF: Open porch area in square feet\n",
    "EnclosedPorch: Enclosed porch area in square feet\n",
    "3SsnPorch: Three season porch area in square feet\n",
    "ScreenPorch: Screen porch area in square feet\n",
    "PoolArea: Pool area in square feet\n",
    "PoolQC: Pool quality\n",
    "Fence: Fence quality\n",
    "MiscFeature: Miscellaneous feature not covered in other categories\n",
    "MiscVal: $Value of miscellaneous feature\n",
    "MoSold: Month Sold\n",
    "YrSold: Year Sold\n",
    "SaleType: Type of sale\n",
    "SaleCondition: Condition of sale\n",
    "    \n",
    "''''"
   ]
  },
  {
   "cell_type": "markdown",
   "metadata": {},
   "source": [
    "# Need to change\n",
    "# udpate wording and add description\n",
    "# Deleted the attributes with null values > 2000 & if any row has a blank cell"
   ]
  },
  {
   "cell_type": "code",
   "execution_count": 234,
   "metadata": {},
   "outputs": [
    {
     "name": "stdout",
     "output_type": "stream",
     "text": [
      "   Id  MSSubClass MSZoning  LotFrontage  LotArea Street LotShape LandContour  \\\n",
      "1   2          20       RL         80.0     9600   Pave      Reg         Lvl   \n",
      "2   3          60       RL         68.0    11250   Pave      IR1         Lvl   \n",
      "3   4          70       RL         60.0     9550   Pave      IR1         Lvl   \n",
      "4   5          60       RL         84.0    14260   Pave      IR1         Lvl   \n",
      "6   7          20       RL         75.0    10084   Pave      Reg         Lvl   \n",
      "\n",
      "  Utilities LotConfig  ... EnclosedPorch 3SsnPorch ScreenPorch PoolArea  \\\n",
      "1    AllPub       FR2  ...             0         0           0        0   \n",
      "2    AllPub    Inside  ...             0         0           0        0   \n",
      "3    AllPub    Corner  ...           272         0           0        0   \n",
      "4    AllPub       FR2  ...             0         0           0        0   \n",
      "6    AllPub    Inside  ...             0         0           0        0   \n",
      "\n",
      "  MiscVal MoSold  Soldfrom  SaleType  SaleCondition  SalePrice  \n",
      "1       0      5        12        WD         Normal   181500.0  \n",
      "2       0      9        11        WD         Normal   223500.0  \n",
      "3       0      2        13        WD        Abnorml   140000.0  \n",
      "4       0     12        11        WD         Normal   250000.0  \n",
      "6       0      8        12        WD         Normal   307000.0  \n",
      "\n",
      "[5 rows x 77 columns]\n"
     ]
    }
   ],
   "source": [
    "raw_df = pd.read_csv('housingdata.csv')\n",
    "raw_df.drop(columns=['Alley','PoolQC','Fence','MiscFeature'],axis=1,inplace=True)\n",
    "raw_df.dropna(inplace=True)\n",
    "\n",
    "print(raw_df.head())"
   ]
  },
  {
   "cell_type": "markdown",
   "metadata": {},
   "source": [
    "# table below shows the data after removing null values \n",
    "# add more description "
   ]
  },
  {
   "cell_type": "code",
   "execution_count": 213,
   "metadata": {},
   "outputs": [
    {
     "name": "stdout",
     "output_type": "stream",
     "text": [
      "Id               0\n",
      "MSSubClass       0\n",
      "MSZoning         0\n",
      "LotFrontage      0\n",
      "LotArea          0\n",
      "Street           0\n",
      "LotShape         0\n",
      "LandContour      0\n",
      "Utilities        0\n",
      "LotConfig        0\n",
      "LandSlope        0\n",
      "Neighborhood     0\n",
      "Condition1       0\n",
      "Condition2       0\n",
      "BldgType         0\n",
      "HouseStyle       0\n",
      "OverallQual      0\n",
      "OverallCond      0\n",
      "YearBuilt        0\n",
      "YearRemodAdd     0\n",
      "RoofStyle        0\n",
      "RoofMatl         0\n",
      "Exterior1st      0\n",
      "Exterior2nd      0\n",
      "MasVnrType       0\n",
      "MasVnrArea       0\n",
      "ExterQual        0\n",
      "ExterCond        0\n",
      "Foundation       0\n",
      "BsmtQual         0\n",
      "                ..\n",
      "BsmtHalfBath     0\n",
      "FullBath         0\n",
      "HalfBath         0\n",
      "BedroomAbvGr     0\n",
      "KitchenAbvGr     0\n",
      "KitchenQual      0\n",
      "TotRmsAbvGrd     0\n",
      "Functional       0\n",
      "Fireplaces       0\n",
      "FireplaceQu      0\n",
      "GarageType       0\n",
      "GarageYrBlt      0\n",
      "GarageFinish     0\n",
      "GarageCars       0\n",
      "GarageArea       0\n",
      "GarageQual       0\n",
      "GarageCond       0\n",
      "PavedDrive       0\n",
      "WoodDeckSF       0\n",
      "OpenPorchSF      0\n",
      "EnclosedPorch    0\n",
      "3SsnPorch        0\n",
      "ScreenPorch      0\n",
      "PoolArea         0\n",
      "MiscVal          0\n",
      "MoSold           0\n",
      "Soldfrom         0\n",
      "SaleType         0\n",
      "SaleCondition    0\n",
      "SalePrice        0\n",
      "Length: 77, dtype: int64\n"
     ]
    }
   ],
   "source": [
    "print(raw_df.isnull().sum(axis=0))\n"
   ]
  },
  {
   "cell_type": "markdown",
   "metadata": {},
   "source": [
    "# descriptive statisitics 1; data is not clean; still using original data (still have text values)\n",
    "# add 4 - 5 charts that would give meaning to the project and brief description"
   ]
  },
  {
   "cell_type": "code",
   "execution_count": 214,
   "metadata": {},
   "outputs": [],
   "source": [
    "def col_count_plot(col):\n",
    "    data = raw_df[col]\n",
    "    names = data.value_counts().index\n",
    "    values = data.value_counts().values\n",
    "    pos = range(len(values))\n",
    "    plt.bar(pos, values)\n",
    "    plt.xticks(pos, names)\n",
    "    plt.ylabel('Count')\n",
    "    plt.title(col)\n",
    "    plt.show()"
   ]
  },
  {
   "cell_type": "code",
   "execution_count": 215,
   "metadata": {},
   "outputs": [
    {
     "data": {
      "image/png": "[encoded data removed]",
      "text/plain": [
       "<Figure size 432x288 with 1 Axes>"
      ]
     },
     "metadata": {
      "needs_background": "light"
     },
     "output_type": "display_data"
    },
    {
     "data": {
      "image/png": "[encoded data removed]",
      "text/plain": [
       "<Figure size 432x288 with 1 Axes>"
      ]
     },
     "metadata": {
      "needs_background": "light"
     },
     "output_type": "display_data"
    },
    {
     "data": {
      "image/png": "[encoded data removed]",
      "text/plain": [
       "<Figure size 432x288 with 1 Axes>"
      ]
     },
     "metadata": {
      "needs_background": "light"
     },
     "output_type": "display_data"
    }
   ],
   "source": [
    "#bar charts\n",
    "col_count_plot('RoofStyle') \n",
    "col_count_plot('Street') \n",
    "\n",
    "#histogram chart\n",
    "raw_df.iloc[:,76].hist(grid=True, bins=20, rwidth=0.9,color='#607c8e')\n",
    "plt.title('Sales Price Histogram')\n",
    "plt.xlabel('Counts')\n",
    "plt.ylabel('Sales Price')\n",
    "plt.grid(axis='y', alpha=0.75)"
   ]
  },
  {
   "cell_type": "markdown",
   "metadata": {},
   "source": [
    "Scatter Plot shows the correlation between the year where the house was built and the price. \n",
    "It shows that the data set has more data points for houses built in the last 50 years. \n"
   ]
  },
  {
   "cell_type": "code",
   "execution_count": 216,
   "metadata": {},
   "outputs": [
    {
     "data": {
      "text/plain": [
       "Text(0, 0.5, 'Sale Price')"
      ]
     },
     "execution_count": 216,
     "metadata": {},
     "output_type": "execute_result"
    },
    {
     "data": {
      "image/png": "[encoded data removed]",
      "text/plain": [
       "<Figure size 432x288 with 1 Axes>"
      ]
     },
     "metadata": {
      "needs_background": "light"
     },
     "output_type": "display_data"
    }
   ],
   "source": [
    "plt.scatter(raw_df['YearBuilt'],raw_df['SalePrice'])\n",
    "plt.title('Scatter plot Years Built Vs. Sale Price')\n",
    "plt.xlabel('Years Built')\n",
    "plt.ylabel('Sale Price')"
   ]
  },
  {
   "cell_type": "markdown",
   "metadata": {},
   "source": [
    "# Coding Categorical Data\n",
    "# Marc Edit"
   ]
  },
  {
   "cell_type": "code",
   "execution_count": 253,
   "metadata": {},
   "outputs": [
    {
     "data": {
      "text/plain": [
       "''"
      ]
     },
     "execution_count": 253,
     "metadata": {},
     "output_type": "execute_result"
    }
   ],
   "source": [
    "#print(raw_df.dtypes) \n",
    "#shows all types of each attribute\n",
    "\n",
    "raw_df['MSZoning'] = raw_df['MSZoning'].astype('category')\n",
    "raw_df['Street'] = raw_df['Street'].astype('category')\n",
    "raw_df['LotShape'] = raw_df['LotShape'].astype('category')\n",
    "raw_df['LandContour'] = raw_df['LandContour'].astype('category')\n",
    "raw_df['Utilities'] = raw_df['Utilities'].astype('category')\n",
    "raw_df['LotConfig'] = raw_df['LotConfig'].astype('category')\n",
    "raw_df['LandSlope'] = raw_df['LandSlope'].astype('category')\n",
    "raw_df['Neighborhood'] = raw_df['Neighborhood'].astype('category')\n",
    "raw_df['Condition1'] = raw_df['Condition1'].astype('category')\n",
    "raw_df['Condition2'] = raw_df['Condition2'].astype('category')\n",
    "raw_df['BldgType'] = raw_df['BldgType'].astype('category')\n",
    "raw_df['HouseStyle'] = raw_df['HouseStyle'].astype('category')\n",
    "raw_df['RoofStyle'] = raw_df['RoofStyle'].astype('category')\n",
    "raw_df['RoofMatl'] = raw_df['RoofMatl'].astype('category')\n",
    "raw_df['Exterior1st'] = raw_df['Exterior1st'].astype('category')\n",
    "raw_df['Exterior2nd'] = raw_df['Exterior2nd'].astype('category')\n",
    "raw_df['MasVnrType'] = raw_df['MasVnrType'].astype('category')\n",
    "raw_df['ExterQual'] = raw_df['ExterQual'].astype('category')\n",
    "raw_df['ExterCond'] = raw_df['ExterCond'].astype('category')\n",
    "raw_df['Foundation'] = raw_df['Foundation'].astype('category')\n",
    "raw_df['BsmtQual'] = raw_df['BsmtQual'].astype('category')\n",
    "raw_df['BsmtCond'] = raw_df['BsmtCond'].astype('category')\n",
    "raw_df['BsmtExposure'] = raw_df['BsmtExposure'].astype('category')\n",
    "raw_df['BsmtFinType1'] = raw_df['BsmtFinType1'].astype('category')\n",
    "raw_df['BsmtFinType2'] = raw_df['BsmtFinType2'].astype('category')\n",
    "raw_df['Heating'] = raw_df['Heating'].astype('category')\n",
    "raw_df['HeatingQC'] = raw_df['HeatingQC'].astype('category')\n",
    "raw_df['CentralAir'] = raw_df['CentralAir'].astype('category')\n",
    "raw_df['Electrical'] = raw_df['Electrical'].astype('category')\n",
    "raw_df['KitchenQual'] = raw_df['KitchenQual'].astype('category')\n",
    "raw_df['Functional'] = raw_df['Functional'].astype('category')\n",
    "raw_df['FireplaceQu'] = raw_df['FireplaceQu'].astype('category')\n",
    "raw_df['GarageType'] = raw_df['GarageType'].astype('category')\n",
    "raw_df['GarageFinish'] = raw_df['GarageFinish'].astype('category')\n",
    "raw_df['GarageQual'] = raw_df['GarageQual'].astype('category')\n",
    "raw_df['GarageCond'] = raw_df['GarageCond'].astype('category')\n",
    "raw_df['PavedDrive'] = raw_df['PavedDrive'].astype('category')\n",
    "raw_df['SaleType'] = raw_df['SaleType'].astype('category')\n",
    "raw_df['SaleCondition'] = raw_df['SaleCondition'].astype('category')\n",
    "#change 'street' to new attribute name\n",
    "\n",
    "raw_df['MSZoning_Cat'] = raw_df['MSZoning'].cat.codes\n",
    "raw_df['Street_Cat'] = raw_df['Street'].cat.codes\n",
    "raw_df['LotShape_Cat'] = raw_df['LotShape'].cat.codes\n",
    "raw_df['LandContour_Cat'] = raw_df['LandContour'].cat.codes\n",
    "raw_df['Utilities_Cat'] = raw_df['Utilities'].cat.codes\n",
    "raw_df['LotConfig_Cat'] = raw_df['LotConfig'].cat.codes\n",
    "raw_df['LandSlope_Cat'] = raw_df['LandSlope'].cat.codes\n",
    "raw_df['Neighborhood_Cat'] = raw_df['Neighborhood'].cat.codes\n",
    "raw_df['Condition1_Cat'] = raw_df['Condition1'].cat.codes\n",
    "raw_df['Condition2_Cat'] = raw_df['Condition2'].cat.codes\n",
    "raw_df['BldgType_Cat'] = raw_df['BldgType'].cat.codes\n",
    "raw_df['HouseStyle_Cat'] = raw_df['HouseStyle'].cat.codes\n",
    "raw_df['RoofStyle_Cat'] = raw_df['RoofStyle'].cat.codes\n",
    "raw_df['RoofMatl_Cat'] = raw_df['RoofMatl'].cat.codes\n",
    "raw_df['Exterior1st_Cat'] = raw_df['Exterior1st'].cat.codes\n",
    "raw_df['Exterior2nd_Cat'] = raw_df['Exterior2nd'].cat.codes\n",
    "raw_df['MasVnrType_Cat'] = raw_df['MasVnrType'].cat.codes\n",
    "raw_df['ExterQual_Cat'] = raw_df['ExterQual'].cat.codes\n",
    "raw_df['ExterCond_Cat'] = raw_df['ExterCond'].cat.codes\n",
    "raw_df['Foundation_Cat'] = raw_df['Foundation'].cat.codes\n",
    "raw_df['BsmtQual_Cat'] = raw_df['BsmtQual'].cat.codes\n",
    "raw_df['BsmtCond_Cat'] = raw_df['BsmtCond'].cat.codes\n",
    "raw_df['BsmtExposure_Cat'] = raw_df['BsmtExposure'].cat.codes\n",
    "raw_df['BsmtFinType1_Cat'] = raw_df['BsmtFinType1'].cat.codes\n",
    "raw_df['BsmtFinType2_Cat'] = raw_df['BsmtFinType2'].cat.codes\n",
    "raw_df['Heating_Cat'] = raw_df['Heating'].cat.codes\n",
    "raw_df['HeatingQC_Cat'] = raw_df['HeatingQC'].cat.codes\n",
    "raw_df['CentralAir_Cat'] = raw_df['CentralAir'].cat.codes\n",
    "raw_df['Electrical_Cat'] = raw_df['Electrical'].cat.codes\n",
    "raw_df['KitchenQual_Cat'] = raw_df['KitchenQual'].cat.codes\n",
    "raw_df['Functional_Cat'] = raw_df['Functional'].cat.codes\n",
    "raw_df['FireplaceQu_Cat'] = raw_df['FireplaceQu'].cat.codes\n",
    "raw_df['GarageType_Cat'] = raw_df['GarageType'].cat.codes\n",
    "raw_df['GarageFinish_Cat'] = raw_df['GarageFinish'].cat.codes\n",
    "raw_df['GarageQual_Cat'] = raw_df['GarageQual'].cat.codes\n",
    "raw_df['GarageCond_Cat'] = raw_df['GarageCond'].cat.codes\n",
    "raw_df['PavedDrive_Cat'] = raw_df['PavedDrive'].cat.codes\n",
    "raw_df['SaleType_Cat'] = raw_df['SaleType'].cat.codes\n",
    "raw_df['SaleCondition_Cat'] = raw_df['SaleCondition'].cat.codes\n",
    "#keep same naming attribute_cat \n",
    "#change 'street' to new attribtue name\n",
    "\n",
    "#print(raw_df)\n",
    "#show that new column was added -> 39 new columns added (77 originally; 116 total)\n",
    "          \n",
    "''"
   ]
  },
  {
   "cell_type": "code",
   "execution_count": 254,
   "metadata": {},
   "outputs": [],
   "source": [
    "raw_df.drop(columns=['MSZoning'],inplace=True)\n",
    "raw_df.drop(columns=['Street'],inplace=True)\n",
    "raw_df.drop(columns=['LotShape'],inplace=True)\n",
    "raw_df.drop(columns=['LandContour'],inplace=True)\n",
    "raw_df.drop(columns=['Utilities'],inplace=True)\n",
    "raw_df.drop(columns=['LotConfig'],inplace=True)\n",
    "raw_df.drop(columns=['LandSlope'],inplace=True)\n",
    "raw_df.drop(columns=['Neighborhood'],inplace=True)\n",
    "raw_df.drop(columns=['Condition1'],inplace=True)\n",
    "raw_df.drop(columns=['Condition2'],inplace=True)\n",
    "raw_df.drop(columns=['BldgType'],inplace=True)\n",
    "raw_df.drop(columns=['HouseStyle'],inplace=True)\n",
    "raw_df.drop(columns=['RoofStyle'],inplace=True)\n",
    "raw_df.drop(columns=['RoofMatl'],inplace=True)\n",
    "raw_df.drop(columns=['Exterior1st'],inplace=True)\n",
    "raw_df.drop(columns=['Exterior2nd'],inplace=True)\n",
    "raw_df.drop(columns=['MasVnrType'],inplace=True)\n",
    "raw_df.drop(columns=['ExterQual'],inplace=True)\n",
    "raw_df.drop(columns=['ExterCond'],inplace=True)\n",
    "raw_df.drop(columns=['Foundation'],inplace=True)\n",
    "raw_df.drop(columns=['BsmtQual'],inplace=True)\n",
    "raw_df.drop(columns=['BsmtCond'],inplace=True)\n",
    "raw_df.drop(columns=['BsmtExposure'],inplace=True)\n",
    "raw_df.drop(columns=['BsmtFinType1'],inplace=True)\n",
    "raw_df.drop(columns=['BsmtFinType2'],inplace=True)\n",
    "raw_df.drop(columns=['Heating'],inplace=True)\n",
    "raw_df.drop(columns=['HeatingQC'],inplace=True)\n",
    "raw_df.drop(columns=['CentralAir'],inplace=True)\n",
    "raw_df.drop(columns=['Electrical'],inplace=True)\n",
    "raw_df.drop(columns=['KitchenQual'],inplace=True)\n",
    "raw_df.drop(columns=['Functional'],inplace=True)\n",
    "raw_df.drop(columns=['FireplaceQu'],inplace=True)\n",
    "raw_df.drop(columns=['GarageType'],inplace=True)\n",
    "raw_df.drop(columns=['GarageFinish'],inplace=True)\n",
    "raw_df.drop(columns=['GarageQual'],inplace=True)\n",
    "raw_df.drop(columns=['GarageCond'],inplace=True)\n",
    "raw_df.drop(columns=['PavedDrive'],inplace=True)\n",
    "raw_df.drop(columns=['SaleType'],inplace=True)\n",
    "raw_df.drop(columns=['SaleCondition'],inplace=True)\n",
    "#drop old columns\n"
   ]
  },
  {
   "cell_type": "markdown",
   "metadata": {},
   "source": [
    "The output below shows the dataset after replacing the categorical data with numerical values. "
   ]
  },
  {
   "cell_type": "code",
   "execution_count": 255,
   "metadata": {},
   "outputs": [
    {
     "name": "stdout",
     "output_type": "stream",
     "text": [
      "   Id  MSSubClass  LotFrontage  LotArea  OverallQual  OverallCond  YearBuilt  \\\n",
      "1   2          20         80.0     9600            6            8       1976   \n",
      "2   3          60         68.0    11250            7            5       2001   \n",
      "3   4          70         60.0     9550            7            5       1915   \n",
      "4   5          60         84.0    14260            8            5       2000   \n",
      "6   7          20         75.0    10084            8            5       2004   \n",
      "\n",
      "   YearRemodAdd  MasVnrArea  BsmtFinSF1  ...  KitchenQual_Cat  Functional_Cat  \\\n",
      "1          1976         0.0       978.0  ...                3               5   \n",
      "2          2002       162.0       486.0  ...                2               5   \n",
      "3          1970         0.0       216.0  ...                2               5   \n",
      "4          2000       350.0       655.0  ...                2               5   \n",
      "6          2005       186.0      1369.0  ...                2               5   \n",
      "\n",
      "   FireplaceQu_Cat  GarageType_Cat  GarageFinish_Cat  GarageQual_Cat  \\\n",
      "1                4               1                 1               3   \n",
      "2                4               1                 1               3   \n",
      "3                2               5                 2               3   \n",
      "4                4               1                 1               3   \n",
      "6                2               1                 1               3   \n",
      "\n",
      "   GarageCond_Cat  PavedDrive_Cat  SaleType_Cat  SaleCondition_Cat  \n",
      "1               4               2             7                  3  \n",
      "2               4               2             7                  3  \n",
      "3               4               2             7                  0  \n",
      "4               4               2             7                  3  \n",
      "6               4               2             7                  3  \n",
      "\n",
      "[5 rows x 77 columns]\n"
     ]
    }
   ],
   "source": [
    "print (raw_df.head())"
   ]
  },
  {
   "cell_type": "markdown",
   "metadata": {},
   "source": [
    "# Dividing the Data set into Testing and Training:\n",
    "\n",
    "In the section below, we divided the dataset into 4 groups: X train: that contain all the features except the target variable. ytrain: that contains the target variable (Price of Hourses) that will be used for training. X_test: that contains all the features for 25% of the records. That will be used for testing the model. y_test: contains the target variable values for 25% of the data set that will be used to evaluate to evaluate the accuracy, precision , and recall of the model.\n",
    "\n",
    "For this task, \"Model Selection\" from SKlearn was used.\n"
   ]
  },
  {
   "cell_type": "code",
   "execution_count": 256,
   "metadata": {},
   "outputs": [
    {
     "name": "stdout",
     "output_type": "stream",
     "text": [
      "858 287 858 287\n"
     ]
    },
    {
     "name": "stderr",
     "output_type": "stream",
     "text": [
      "/Library/Frameworks/Python.framework/Versions/3.6/lib/python3.6/site-packages/sklearn/utils/validation.py:595: DataConversionWarning: Data with input dtype object was converted to float64 by MinMaxScaler.\n",
      "  warnings.warn(msg, DataConversionWarning)\n"
     ]
    }
   ],
   "source": [
    "x=raw_df.loc[:, raw_df.columns != 'SalePrice']\n",
    "y= np.array(raw_df['SalePrice'])\n",
    "#print x.values, y\n",
    "\n",
    "X_train, X_test, y_train, y_test = model_selection.train_test_split(x.values, y, test_size=0.25, random_state=1145)\n",
    "print(len(X_train), len(X_test), len(y_train), len(y_test))\n",
    "\n",
    "scaler = preprocessing.MinMaxScaler()\n",
    "scaler.fit_transform(X_train)\n",
    "X_train = scaler.transform(X_train)\n",
    "X_test = scaler.transform(X_test)"
   ]
  },
  {
   "cell_type": "markdown",
   "metadata": {},
   "source": [
    "The data below shows the data set after replacing categorical "
   ]
  },
  {
   "cell_type": "markdown",
   "metadata": {},
   "source": [
    "# Normalizing Data"
   ]
  },
  {
   "cell_type": "markdown",
   "metadata": {},
   "source": [
    "As shown in the previous section, the range of values across different field are widely spread. Accoringly, we decided to normalize the data to avoid that problem."
   ]
  },
  {
   "cell_type": "code",
   "execution_count": 257,
   "metadata": {},
   "outputs": [],
   "source": [
    "# scaler = preprocessing.MinMaxScaler()\n",
    "# scaler.fit_transform(X_train)\n",
    "# X_train = scaler.transform(X_train)\n",
    "# X_test = scaler.transform(X_test)\n",
    "\n",
    "# print(\"Sample of X_test after normalizing\")\n",
    "# print(X_test)"
   ]
  },
  {
   "cell_type": "markdown",
   "metadata": {},
   "source": [
    "## Multiple Regression"
   ]
  },
  {
   "cell_type": "markdown",
   "metadata": {},
   "source": [
    "The objective of this section is to examine the correlation between the different features and the target variable (Sale Price)."
   ]
  },
  {
   "cell_type": "code",
   "execution_count": 258,
   "metadata": {},
   "outputs": [],
   "source": [
    "# regr=linear_model.LinearRegression()\n",
    "# regr.fit(X_train, y_train)\n",
    "\n",
    "# print(regr.score(X_train, y_train))\n",
    "\n",
    "# y_predict=regr.predict(X_test)\n",
    "\n",
    "# #   The output below shows that the set of all features have coeffient of Determination (R square) =0.57, \n",
    "# #   which means all the features can help predict the price of 57% of the houses beased on the values of all the features."
   ]
  },
  {
   "cell_type": "markdown",
   "metadata": {},
   "source": [
    "# Lasso Regression:"
   ]
  },
  {
   "cell_type": "markdown",
   "metadata": {},
   "source": [
    "Lasso Regession will be applied to examin the posiibility of dropping the features that may be causeing a noise on the ability\n",
    "of predicting the sale price of houses. The objective is to find the features that would help maximize the coeffient of determination."
   ]
  },
  {
   "cell_type": "code",
   "execution_count": 259,
   "metadata": {},
   "outputs": [],
   "source": [
    "# def lasso_regression(X_train, X_test, y_train, y_test , alpha):\n",
    "    \n",
    "#     #Fit the model\n",
    "#     lassoreg = Lasso(alpha=alpha,normalize=True, max_iter=1e5)\n",
    "#     lassoreg.fit(X_train,y_train)\n",
    "#     y_pred = lassoreg.predict(X_test)\n",
    "    \n",
    "            \n",
    "#     #Return the results of sum square and r2\n",
    "#     results_sum_square = sum((y_pred-y_test)**2)\n",
    "#     ret = [results_sum_square]\n",
    "\n",
    "#     # Returns the coefficient of determination R^2 of the prediction.\n",
    "#     rsquare=r2_score(y_pred,y_test)\n",
    "  \n",
    "#     ret.extend([lassoreg.intercept_])\n",
    "#     ret.extend(lassoreg.coef_)\n",
    "#     ret.append(rsquare)\n",
    "    \n",
    "\n",
    "#     return ret\n"
   ]
  },
  {
   "cell_type": "markdown",
   "metadata": {},
   "source": [
    "The larger the Shrikage factor (alfpha), the more features will be excluded and the penalization factor will lead to more coeffienets of Zeros. For this model, we decided to use alpha = 0.01. In refrence to \"The Elements of Staistical Learning : Springer series in statistics 2nd edition\" A case study on Page 70 showed the impact on selecting different values for alpha between 0 and 1,  and based on that we decided to pick 0.01.\n",
    "\n",
    "\n",
    "The output below shows the coeffient for all the features and the ones that have value of 0 are not useful for prediction\n",
    "with respect to lasso Regression.\n",
    "\n",
    "### Based on the output below: \n",
    "#### The Top 5 features with high positive impact on Price and their coefficients:\n",
    "     1) MSSubClass: Identifies the type of dwelling involved in the sale.\n",
    "        MSSubClass = 293147.48700337496\n",
    "     \n",
    "     2) Overall Condition: OverallCond: Rates the overall condition of the house, where 1: very poor and 10: excellent\n",
    "        Overall Condition: 251841\n",
    "        \n",
    "     3) 2ndFlrSF: Second floor square feet\n",
    "        2ndFlrSF: Second floor square feet: 139372 \n",
    "        \n",
    "      4) Bsmthalfbath: BsmtHalfBath: Basement half bathrooms\n",
    "         Bsmthalfbath: 107582\n",
    "         \n",
    "      5) GarageYrBlt: Year garage was built\n",
    "          GarageYrBlt: 75423\n",
    "     \n",
    "#### The Top 5 features with high Negative impact on Price and their coefficients:\n",
    "       1)HouseStyle: Style of dwelling\n",
    "         HouseStyle: -262723\n",
    "           \n",
    "one story, One and one-half story: 2nd level finished, One and one-half story: 2nd level unfinished, Two story, Two and one-half story: 2nd level finished, Two and one-half story: 2nd level unfinished, Split Foyer, Split Level\n",
    "       \n",
    "       2)CentralAir: Central air conditioning (Yes-No)\n",
    "         CentralAir: -78307\n",
    "       \n",
    "       3)LotFrontage: Linear feet of street connected to property\n",
    "         LotFrontage: -60967\n",
    "       \n",
    "       4)LotArea: Lot size in square feet\n",
    "         LotArea: -51, 979\n",
    "       \n",
    "       5)TotRmsAbvGrd: Total rooms above grade (does not include bathrooms)\n",
    "         TotRmsAbvGrd: -37862\n",
    "       \n",
    "\n",
    "#### The features that were excluded by Lasso are:\n",
    "    1stFlrSF, LowQualFinSF, LandSlope\n"
   ]
  },
  {
   "cell_type": "code",
   "execution_count": 260,
   "metadata": {
    "scrolled": true
   },
   "outputs": [],
   "source": [
    "#     # Alpha = 0.01\n",
    "#     ret=lasso_regression (X_train, X_test, y_train, y_test, 0.01)\n",
    "#     for i in range(len(x.columns)):\n",
    "\n",
    "#         print(x.columns[i])          \n",
    "#         print(ret[i])\n",
    "\n"
   ]
  },
  {
   "cell_type": "markdown",
   "metadata": {},
   "source": [
    "# Running Regression after Feature Selection using Lasso:"
   ]
  },
  {
   "cell_type": "markdown",
   "metadata": {},
   "source": [
    "After including only the 10 features from the output of Lasso regression, the R square = 0.3339, which means these 10 features combined can help predict approximately 34% of the results."
   ]
  },
  {
   "cell_type": "code",
   "execution_count": 261,
   "metadata": {},
   "outputs": [
    {
     "name": "stdout",
     "output_type": "stream",
     "text": [
      "858 287 858 287\n",
      "0.3395975889115993\n"
     ]
    }
   ],
   "source": [
    "xlasso=raw_df.loc[:, ['MSSubClass','OverallCond','2ndFlrSF','BsmtHalfBath','GarageYrBlt','HouseStyle_Cat','LotArea','CentralAir_Cat','TotRmsAbvGrd','TotRmsAbvGrd','LotFrontage']]\n",
    "y= np.array(raw_df['SalePrice'])\n",
    "#print x.values, y\n",
    "\n",
    "X_trainlasso, X_testlasso, y_trainlasso, y_testlasso = model_selection.train_test_split(xlasso.values, y, test_size=0.25, random_state=1145)\n",
    "print(len(X_trainlasso), len(X_testlasso), len(y_trainlasso), len(y_testlasso))\n",
    "\n",
    "regr=linear_model.LinearRegression()\n",
    "regr.fit(X_trainlasso, y_trainlasso)\n",
    "\n",
    "print(regr.score(X_trainlasso, y_trainlasso))\n",
    "\n",
    "y_predict=regr.predict(X_testlasso)"
   ]
  },
  {
   "cell_type": "markdown",
   "metadata": {},
   "source": [
    "# Decision Tree"
   ]
  },
  {
   "cell_type": "code",
   "execution_count": 262,
   "metadata": {},
   "outputs": [
    {
     "name": "stdout",
     "output_type": "stream",
     "text": [
      "[  9 329 488 533 143  40 448 259  53 500 661 623 653 652 184  37  27 211\n",
      "   5 449 317  19 691 650 399 468 484 395 195 653 188 186 724  26 264 472\n",
      " 210 531 564 230  48 610 205 404 624 470  98 256 208  56 483 557 441 665\n",
      " 630 305 604 439  91  96 555  43 509  40   8 646 595 617 702 238 683 356\n",
      "  51 313  57 223 308 101  72 384 276 118  62 336 406 403 234 242 148 503\n",
      " 266 681 230 161 621 643 230 338 610  60  48  89 273 650 620 428 276 145\n",
      " 594 536 572 460 502 596 129 319 653  28 370 330 662 495 682 563 626 644\n",
      " 198 183 513 286 422 152 613 712  81 398 170 635 588 243 301 444 578 294\n",
      "   4  17  48  90 147 672 434  53 578 542 291 523 671 176 574 206 544 553\n",
      " 668 199 473 608  93  48 677 386 640 653 605 377 302 267  59 265 222 455\n",
      " 417 722  48 156  24 415 706 337  83 663 439  99 110  31 308 155  94 531\n",
      " 467 129 452 227 697 106 600 215 278 251 528 173  12 129 670 416 238  45\n",
      " 709 645 318  73 393 275 718 174 162 491 112 554 152  33 103 684 219 372\n",
      " 532 180 615 420 325  67 103  39 248 209 601 564 125 590 527 463 239 216\n",
      "  97 237 686 558 128 530 129  80  86 246 311 635 212 564  75 674 595 648\n",
      " 577  78 309 137 679  14 478 381 628 714 139 453 625 674  55 430 204 292\n",
      " 168 503 656 426 102 274  68  50 410 315 350 596 114 700 149 324 534 616\n",
      " 165 134 351 423 124 380 173 589 437 522  20  19 529  45 454 443 177  21\n",
      " 603 549 136 365 675 539  60  15 459 720 679 200 230 205 723 281 545 348\n",
      " 680 310 693 634 719 340 288 343 696 349  25 501 424 271 619  69 432 452\n",
      " 308 556 651 164 658 503 506 307 296 260 655 307 268 346 129 347 673 366\n",
      " 333 642 654 153 245 116 507 707 300 247 535 563 414 277 518 332 678 394\n",
      " 597 581  66 607  95 704 710 248 244 705 181 582  71   1 289 653 402 554\n",
      " 341 342 179 474 631 632 142 525 638 455 371 306 196 672 254 321  47 595\n",
      " 107 665 126 176 550 497 352 505 131 461 113 323  10  30 103 450 605 307\n",
      " 552 561 429 508 169 218   3 111  88 132 276 469 456 171 560  63 466 146\n",
      "  74 586 538 422 447 135 622  38 138 158 436 587 510 256 537  46 205 384\n",
      " 408 284 320 559 364  16 189 431 667 701 576 546 220 692  35 317 362 585\n",
      " 587 687 409  26 119 593 127 173 540 226 175 464 543 446 140 207  23 715\n",
      " 182 516 439  34 682 584 233 570 565 567 548 328 711 435 232 258 439 122\n",
      " 105 257 376 130 192 295 197 240 187 133 269 303 475 494 512 411 578 554\n",
      " 375 591  44 276 611  89 418 514 166 279 515 213 458   0 419 202 438 339\n",
      " 598 475  89 547 496 374  26 480  40 120 387 591 298  64 629  18 524 388\n",
      " 316 159 194 481 455 231 541 605 190 499 270 163 517 695  70 290 473 262\n",
      " 592 203 172 238 308 357 685  79 425 551 485  89  87 167 157 421 569 550\n",
      " 664 238 573 154 703 283 193 217 224 669  85 690 575 519 619   6  25 261\n",
      " 228 602 314 498 221 383 326 322  70  42 389 379 248 579  89 144 531 477\n",
      " 160 355 307 249 568 637 554 185 400 465 236 407 304 235 578 520 471 205\n",
      " 464 504 327 571 185 238 636 396 545  52  84 699 649 713 178 191 619 248\n",
      " 591 521 487 439 331  92   2 299 451 583 100 511 121 344 369 238  19 537\n",
      "   7  89 261 252 482  82 360  29 672 401 391 354 234 619 641 368 708 373\n",
      " 595 367 633 141 659 445 378 581 104 293 390 241 440 205 287 225 152 457\n",
      " 674 109 359 587  77 721 609  49  23 462 647 280 345 413 255 666 123 285\n",
      " 562 717 263 716  58 442  32  11 688  22 201 282  36 297 639 358 253 569\n",
      " 397 151 476 618  61 392 353 427  80 312 493 412 580 363  76 689 214 250\n",
      " 566 627 612 614 198 657 334 115 272 578 398 385 433 486 325 464 276 490\n",
      "  41 238 645 361 660 606 489 405 479 694 599 698  65 492 398 464 676 117\n",
      " 150 229  34 526 335  54  13 108 645 605 382  45]\n"
     ]
    },
    {
     "ename": "NameError",
     "evalue": "name 'utils' is not defined",
     "output_type": "error",
     "traceback": [
      "\u001b[0;31m---------------------------------------------------------------------------\u001b[0m",
      "\u001b[0;31mNameError\u001b[0m                                 Traceback (most recent call last)",
      "\u001b[0;32m<ipython-input-262-d4b101f7cdf4>\u001b[0m in \u001b[0;36m<module>\u001b[0;34m\u001b[0m\n\u001b[1;32m      2\u001b[0m \u001b[0mtraining_scores_encoded\u001b[0m \u001b[0;34m=\u001b[0m \u001b[0mlab_enc\u001b[0m\u001b[0;34m.\u001b[0m\u001b[0mfit_transform\u001b[0m\u001b[0;34m(\u001b[0m\u001b[0my_train\u001b[0m\u001b[0;34m)\u001b[0m\u001b[0;34m\u001b[0m\u001b[0m\n\u001b[1;32m      3\u001b[0m \u001b[0mprint\u001b[0m\u001b[0;34m(\u001b[0m\u001b[0mtraining_scores_encoded\u001b[0m\u001b[0;34m)\u001b[0m\u001b[0;34m\u001b[0m\u001b[0m\n\u001b[0;32m----> 4\u001b[0;31m \u001b[0mprint\u001b[0m\u001b[0;34m(\u001b[0m\u001b[0mutils\u001b[0m\u001b[0;34m.\u001b[0m\u001b[0mmulticlass\u001b[0m\u001b[0;34m.\u001b[0m\u001b[0mtype_of_target\u001b[0m\u001b[0;34m(\u001b[0m\u001b[0my_train\u001b[0m\u001b[0;34m)\u001b[0m\u001b[0;34m)\u001b[0m\u001b[0;34m\u001b[0m\u001b[0m\n\u001b[0m\u001b[1;32m      5\u001b[0m \u001b[0mprint\u001b[0m\u001b[0;34m(\u001b[0m\u001b[0mutils\u001b[0m\u001b[0;34m.\u001b[0m\u001b[0mmulticlass\u001b[0m\u001b[0;34m.\u001b[0m\u001b[0mtype_of_target\u001b[0m\u001b[0;34m(\u001b[0m\u001b[0my_train\u001b[0m\u001b[0;34m.\u001b[0m\u001b[0mastype\u001b[0m\u001b[0;34m(\u001b[0m\u001b[0;34m'int'\u001b[0m\u001b[0;34m)\u001b[0m\u001b[0;34m)\u001b[0m\u001b[0;34m)\u001b[0m\u001b[0;34m\u001b[0m\u001b[0m\n\u001b[1;32m      6\u001b[0m \u001b[0mprint\u001b[0m\u001b[0;34m(\u001b[0m\u001b[0mutils\u001b[0m\u001b[0;34m.\u001b[0m\u001b[0mmulticlass\u001b[0m\u001b[0;34m.\u001b[0m\u001b[0mtype_of_target\u001b[0m\u001b[0;34m(\u001b[0m\u001b[0mtraining_scores_encoded\u001b[0m\u001b[0;34m)\u001b[0m\u001b[0;34m)\u001b[0m\u001b[0;34m\u001b[0m\u001b[0m\n",
      "\u001b[0;31mNameError\u001b[0m: name 'utils' is not defined"
     ]
    }
   ],
   "source": [
    "lab_enc = preprocessing.LabelEncoder()\n",
    "training_scores_encoded = lab_enc.fit_transform(y_train)\n",
    "print(training_scores_encoded)\n",
    "print(utils.multiclass.type_of_target(y_train))\n",
    "print(utils.multiclass.type_of_target(y_train.astype('int')))\n",
    "print(utils.multiclass.type_of_target(training_scores_encoded))"
   ]
  },
  {
   "cell_type": "code",
   "execution_count": 263,
   "metadata": {},
   "outputs": [],
   "source": [
    "# lab_enc_2 = preprocessing.LabelEncoder()\n",
    "# training_scores_encoded_2 = lab_enc.fit_transform(y_test)\n",
    "# print(training_scores_encoded_2)\n",
    "# print(utils.multiclass.type_of_target(y_test))\n",
    "# print(utils.multiclass.type_of_target(y_test.astype('int')))\n"
   ]
  },
  {
   "cell_type": "code",
   "execution_count": 272,
   "metadata": {},
   "outputs": [
    {
     "name": "stdout",
     "output_type": "stream",
     "text": [
      "1       181500.0000\n",
      "2       223500.0000\n",
      "3       140000.0000\n",
      "4       250000.0000\n",
      "6       307000.0000\n",
      "8       129900.0000\n",
      "9       118000.0000\n",
      "11      345000.0000\n",
      "13      279500.0000\n",
      "20      325300.0000\n",
      "21      139400.0000\n",
      "22      230000.0000\n",
      "23      129900.0000\n",
      "25      256300.0000\n",
      "27      306000.0000\n",
      "28      207500.0000\n",
      "33      165500.0000\n",
      "34      277500.0000\n",
      "35      309000.0000\n",
      "37      153000.0000\n",
      "40      160000.0000\n",
      "41      170000.0000\n",
      "45      319900.0000\n",
      "46      239686.0000\n",
      "51      114500.0000\n",
      "53      385000.0000\n",
      "54      130000.0000\n",
      "55      180500.0000\n",
      "58      438780.0000\n",
      "62      202500.0000\n",
      "           ...     \n",
      "2831    190702.4403\n",
      "2834    178290.6663\n",
      "2836    187992.4514\n",
      "2838    189959.3448\n",
      "2841    193008.6592\n",
      "2846    184114.2709\n",
      "2849    185170.2845\n",
      "2851    184306.6376\n",
      "2852    199792.3027\n",
      "2861    176261.2968\n",
      "2863    180618.0326\n",
      "2869    199202.8990\n",
      "2875    175942.4746\n",
      "2877    198359.2489\n",
      "2878    184379.1330\n",
      "2880    209449.6516\n",
      "2881    169979.3240\n",
      "2882    188206.2819\n",
      "2883    186412.4386\n",
      "2884    196761.3864\n",
      "2885    208353.2696\n",
      "2894    156887.9329\n",
      "2895    164185.7773\n",
      "2896    212992.1206\n",
      "2902    195596.3077\n",
      "2903    189369.7563\n",
      "2906    167411.0284\n",
      "2911    188506.4314\n",
      "2916    219222.4234\n",
      "2918    187741.8667\n",
      "Name: SalePrice, Length: 1145, dtype: float64\n"
     ]
    }
   ],
   "source": [
    "# clf = tree.DecisionTreeClassifier()\n",
    "# clf.fit(X_train, training_scores_encoded)\n",
    "# y_predict_tree = clf.predict(X_test)\n",
    "# clf.predict_proba(X_test)[:,0]\n",
    "\n",
    "\n",
    "\n",
    "# ##Updates\n",
    "name=['LotFrontage','LotArea','OverallQual','YearBuilt','YearRemodAdd','Functional_Cat','MSSubClass','OverallCond','MasVnrArea','BsmtFinSF1','BsmtFinSF1','GarageType_Cat','SaleType_Cat']\n",
    "X=raw_df[name]\n",
    "Y=raw_df['SalePrice']\n",
    "\n",
    "\n",
    "# clf = tree.DecisionTreeClassifier()"
   ]
  },
  {
   "cell_type": "code",
   "execution_count": 271,
   "metadata": {},
   "outputs": [
    {
     "ename": "ValueError",
     "evalue": "Classification metrics can't handle a mix of continuous and multiclass targets",
     "output_type": "error",
     "traceback": [
      "\u001b[0;31m---------------------------------------------------------------------------\u001b[0m",
      "\u001b[0;31mValueError\u001b[0m                                Traceback (most recent call last)",
      "\u001b[0;32m<ipython-input-271-14cf014e97f9>\u001b[0m in \u001b[0;36m<module>\u001b[0;34m\u001b[0m\n\u001b[0;32m----> 1\u001b[0;31m \u001b[0mclf\u001b[0m\u001b[0;34m.\u001b[0m\u001b[0mscore\u001b[0m\u001b[0;34m(\u001b[0m\u001b[0mX_test\u001b[0m\u001b[0;34m,\u001b[0m \u001b[0my_test\u001b[0m\u001b[0;34m)\u001b[0m\u001b[0;34m\u001b[0m\u001b[0m\n\u001b[0m",
      "\u001b[0;32m/Library/Frameworks/Python.framework/Versions/3.6/lib/python3.6/site-packages/sklearn/base.py\u001b[0m in \u001b[0;36mscore\u001b[0;34m(self, X, y, sample_weight)\u001b[0m\n\u001b[1;32m    288\u001b[0m         \"\"\"\n\u001b[1;32m    289\u001b[0m         \u001b[0;32mfrom\u001b[0m \u001b[0;34m.\u001b[0m\u001b[0mmetrics\u001b[0m \u001b[0;32mimport\u001b[0m \u001b[0maccuracy_score\u001b[0m\u001b[0;34m\u001b[0m\u001b[0m\n\u001b[0;32m--> 290\u001b[0;31m         \u001b[0;32mreturn\u001b[0m \u001b[0maccuracy_score\u001b[0m\u001b[0;34m(\u001b[0m\u001b[0my\u001b[0m\u001b[0;34m,\u001b[0m \u001b[0mself\u001b[0m\u001b[0;34m.\u001b[0m\u001b[0mpredict\u001b[0m\u001b[0;34m(\u001b[0m\u001b[0mX\u001b[0m\u001b[0;34m)\u001b[0m\u001b[0;34m,\u001b[0m \u001b[0msample_weight\u001b[0m\u001b[0;34m=\u001b[0m\u001b[0msample_weight\u001b[0m\u001b[0;34m)\u001b[0m\u001b[0;34m\u001b[0m\u001b[0m\n\u001b[0m\u001b[1;32m    291\u001b[0m \u001b[0;34m\u001b[0m\u001b[0m\n\u001b[1;32m    292\u001b[0m \u001b[0;34m\u001b[0m\u001b[0m\n",
      "\u001b[0;32m/Library/Frameworks/Python.framework/Versions/3.6/lib/python3.6/site-packages/sklearn/metrics/classification.py\u001b[0m in \u001b[0;36maccuracy_score\u001b[0;34m(y_true, y_pred, normalize, sample_weight)\u001b[0m\n\u001b[1;32m    174\u001b[0m \u001b[0;34m\u001b[0m\u001b[0m\n\u001b[1;32m    175\u001b[0m     \u001b[0;31m# Compute accuracy for each possible representation\u001b[0m\u001b[0;34m\u001b[0m\u001b[0;34m\u001b[0m\u001b[0m\n\u001b[0;32m--> 176\u001b[0;31m     \u001b[0my_type\u001b[0m\u001b[0;34m,\u001b[0m \u001b[0my_true\u001b[0m\u001b[0;34m,\u001b[0m \u001b[0my_pred\u001b[0m \u001b[0;34m=\u001b[0m \u001b[0m_check_targets\u001b[0m\u001b[0;34m(\u001b[0m\u001b[0my_true\u001b[0m\u001b[0;34m,\u001b[0m \u001b[0my_pred\u001b[0m\u001b[0;34m)\u001b[0m\u001b[0;34m\u001b[0m\u001b[0m\n\u001b[0m\u001b[1;32m    177\u001b[0m     \u001b[0mcheck_consistent_length\u001b[0m\u001b[0;34m(\u001b[0m\u001b[0my_true\u001b[0m\u001b[0;34m,\u001b[0m \u001b[0my_pred\u001b[0m\u001b[0;34m,\u001b[0m \u001b[0msample_weight\u001b[0m\u001b[0;34m)\u001b[0m\u001b[0;34m\u001b[0m\u001b[0m\n\u001b[1;32m    178\u001b[0m     \u001b[0;32mif\u001b[0m \u001b[0my_type\u001b[0m\u001b[0;34m.\u001b[0m\u001b[0mstartswith\u001b[0m\u001b[0;34m(\u001b[0m\u001b[0;34m'multilabel'\u001b[0m\u001b[0;34m)\u001b[0m\u001b[0;34m:\u001b[0m\u001b[0;34m\u001b[0m\u001b[0m\n",
      "\u001b[0;32m/Library/Frameworks/Python.framework/Versions/3.6/lib/python3.6/site-packages/sklearn/metrics/classification.py\u001b[0m in \u001b[0;36m_check_targets\u001b[0;34m(y_true, y_pred)\u001b[0m\n\u001b[1;32m     79\u001b[0m     \u001b[0;32mif\u001b[0m \u001b[0mlen\u001b[0m\u001b[0;34m(\u001b[0m\u001b[0my_type\u001b[0m\u001b[0;34m)\u001b[0m \u001b[0;34m>\u001b[0m \u001b[0;36m1\u001b[0m\u001b[0;34m:\u001b[0m\u001b[0;34m\u001b[0m\u001b[0m\n\u001b[1;32m     80\u001b[0m         raise ValueError(\"Classification metrics can't handle a mix of {0} \"\n\u001b[0;32m---> 81\u001b[0;31m                          \"and {1} targets\".format(type_true, type_pred))\n\u001b[0m\u001b[1;32m     82\u001b[0m \u001b[0;34m\u001b[0m\u001b[0m\n\u001b[1;32m     83\u001b[0m     \u001b[0;31m# We can't have more than one value on y_type => The set is no more needed\u001b[0m\u001b[0;34m\u001b[0m\u001b[0;34m\u001b[0m\u001b[0m\n",
      "\u001b[0;31mValueError\u001b[0m: Classification metrics can't handle a mix of continuous and multiclass targets"
     ]
    }
   ],
   "source": [
    "clf.score(X_test, y_test)"
   ]
  },
  {
   "cell_type": "code",
   "execution_count": null,
   "metadata": {},
   "outputs": [],
   "source": []
  },
  {
   "cell_type": "code",
   "execution_count": 251,
   "metadata": {},
   "outputs": [],
   "source": [
    "classifier = DecisionTreeClassifier()  \n",
    "classifier.fit(X_train, training_scores_encoded)\n",
    "y_pred = classifier.predict(X_test)  "
   ]
  },
  {
   "cell_type": "code",
   "execution_count": null,
   "metadata": {},
   "outputs": [],
   "source": []
  },
  {
   "cell_type": "code",
   "execution_count": 204,
   "metadata": {},
   "outputs": [
    {
     "name": "stdout",
     "output_type": "stream",
     "text": [
      "<class 'list'>\n",
      "<class 'list'>\n"
     ]
    },
    {
     "data": {
      "text/plain": [
       "DecisionTreeClassifier(class_weight=None, criterion='gini', max_depth=None,\n",
       "            max_features=None, max_leaf_nodes=None,\n",
       "            min_impurity_decrease=0.0, min_impurity_split=None,\n",
       "            min_samples_leaf=1, min_samples_split=2,\n",
       "            min_weight_fraction_leaf=0.0, presort=False, random_state=None,\n",
       "            splitter='best')"
      ]
     },
     "execution_count": 204,
     "metadata": {},
     "output_type": "execute_result"
    }
   ],
   "source": [
    "X = [[181, 80, 44], [177, 70, 43], [160, 60, 38], [154, 54, 37], [166, 65, 40],\n",
    "     [190, 90, 47], [175, 64, 39],\n",
    "     [177, 70, 40], [159, 55, 37], [171, 75, 42], [181, 85, 43]]\n",
    "\n",
    "Y = ['male', 'female', 'female', 'female', 'male', 'male', 'male', 'female', 'male', 'female', 'male']\n",
    "\n",
    "print(type(X))\n",
    "print(type(Y))\n",
    "clf = tree.DecisionTreeClassifier()\n",
    "\n",
    "clf.fit(X,Y)\n"
   ]
  },
  {
   "cell_type": "code",
   "execution_count": null,
   "metadata": {},
   "outputs": [],
   "source": []
  }
 ],
 "metadata": {
  "kernelspec": {
   "display_name": "Python 3",
   "language": "python",
   "name": "python3"
  },
  "language_info": {
   "codemirror_mode": {
    "name": "ipython",
    "version": 3
   },
   "file_extension": ".py",
   "mimetype": "text/x-python",
   "name": "python",
   "nbconvert_exporter": "python",
   "pygments_lexer": "ipython3",
   "version": "3.6.5"
  }
 },
 "nbformat": 4,
 "nbformat_minor": 2
}
